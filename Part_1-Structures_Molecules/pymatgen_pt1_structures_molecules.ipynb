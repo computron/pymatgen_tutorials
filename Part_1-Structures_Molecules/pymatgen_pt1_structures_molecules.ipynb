{
 "cells": [
  {
   "cell_type": "code",
   "execution_count": 1,
   "id": "274b4ad5",
   "metadata": {
    "slideshow": {
     "slide_type": "skip"
    }
   },
   "outputs": [],
   "source": [
    "import warnings\n",
    "warnings.filterwarnings('ignore')"
   ]
  },
  {
   "cell_type": "markdown",
   "id": "12655829",
   "metadata": {
    "slideshow": {
     "slide_type": "skip"
    }
   },
   "source": [
    "# About this notebook\n",
    "\n",
    "* Author: Anubhav Jain\n",
    "* Github repo: https://github.com/computron/pymatgen_tutorials\n",
    "* YouTube video: https://youtu.be/b0tieiedGdg"
   ]
  },
  {
   "cell_type": "markdown",
   "id": "2e400562",
   "metadata": {
    "slideshow": {
     "slide_type": "slide"
    }
   },
   "source": [
    "![alt text](graphics/title.png \"Title\")"
   ]
  },
  {
   "cell_type": "markdown",
   "id": "72bb523e",
   "metadata": {
    "slideshow": {
     "slide_type": "slide"
    }
   },
   "source": [
    "# Learn pymatgen\n",
    "## Part 1: Structure and Molecule Fundamentals\n",
    "\n",
    "This tutorial will cover:\n",
    "\n",
    "* The ``Structure`` object\n",
    "* The ``Molecule`` object\n",
    "* Basic manipulation of ``Structure`` and ``Molecule`` objects\n",
    "* Other examples and resources (pymatgen tests, LLMs, and matsci.org channel)\n",
    "\n",
    "We will use the ``crystal_toolkit`` library to make the visualizations interactive. Let's start!"
   ]
  },
  {
   "cell_type": "code",
   "execution_count": 2,
   "id": "d84ab1f2",
   "metadata": {
    "slideshow": {
     "slide_type": "fragment"
    }
   },
   "outputs": [],
   "source": [
    "import crystal_toolkit  # for visualizing structures (install using ``pip install crystal-toolkit``)\n",
    "import pymatgen  # pymatgen needs to be installed (v2024.6.10 at time of this tutorial)"
   ]
  },
  {
   "cell_type": "markdown",
   "id": "1087cfae",
   "metadata": {
    "slideshow": {
     "slide_type": "slide"
    }
   },
   "source": [
    "# The Structure and Molecule objects\n",
    "\n",
    "The ``Structure`` and ``Molecule`` objects are fundamental to most uses of pymatgen.\n",
    "\n",
    "* A ``Structure`` refers to a periodic crystal\n",
    "    * It has a lattice and basis\n",
    "    * Examples include solids (metals, semiconductors, insulators, polymers), 2D surfaces, and liquids.\n",
    "* A ``Molecule`` does not have periodic boundary conditions\n",
    "    * No lattice, just a collection of atoms in space\n",
    "    * Examples include individual molecules or small collections of molecules, nanoparticles, and molecules in implicit solvents.\n",
    "    \n",
    "After creating a ``Structure`` or ``Molecule``, you can analyze it, modify it, or use it to create input files for various simulation software.\n",
    "\n",
    "![alt text](graphics/struct_mol.png \"Structure and Molecule\")"
   ]
  },
  {
   "cell_type": "markdown",
   "id": "b5929ed2",
   "metadata": {
    "slideshow": {
     "slide_type": "slide"
    }
   },
   "source": [
    "# Let's make a Structure object\n",
    "\n",
    "We can create ``Structure`` objects:\n",
    "* Using Python\n",
    "* From a file\n",
    "* From an API (eg. a database of structures like the Materials Project)\n",
    "\n",
    "\n",
    "We'll start by creating a basic ``Structure`` using Python.\n",
    "\n",
    "![alt text](graphics/python_file_api.png \"Loading from Python, File, or API\")"
   ]
  },
  {
   "cell_type": "code",
   "execution_count": 3,
   "id": "5f2d3e2a",
   "metadata": {
    "scrolled": true,
    "slideshow": {
     "slide_type": "slide"
    }
   },
   "outputs": [
    {
     "name": "stdout",
     "output_type": "stream",
     "text": [
      "Full Formula (Ti1 Pb1 O3)\n",
      "Reduced Formula: TiPbO3\n",
      "abc   :   3.900000   3.900000   3.900000\n",
      "angles:  90.000000  90.000000  90.000000\n",
      "pbc   :       True       True       True\n",
      "Sites (5)\n",
      "  #  SP      a    b    c\n",
      "---  ----  ---  ---  ---\n",
      "  0  Pb    0    0    0\n",
      "  1  Ti    0.5  0.5  0.5\n",
      "  2  O     0.5  0.5  0\n",
      "  3  O     0    0.5  0.5\n",
      "  4  O     0.5  0    0.5\n"
     ]
    },
    {
     "data": {
      "text/html": [
       "\n",
       "        <iframe\n",
       "            width=\"100%\"\n",
       "            height=\"650\"\n",
       "            src=\"http://127.0.0.1:8884/\"\n",
       "            frameborder=\"0\"\n",
       "            allowfullscreen\n",
       "            \n",
       "        ></iframe>\n",
       "        "
      ],
      "text/plain": [
       "<IPython.lib.display.IFrame at 0x13fb3ce90>"
      ]
     },
     "metadata": {},
     "output_type": "display_data"
    }
   ],
   "source": [
    "from pymatgen.core import Lattice, Structure\n",
    "\n",
    "# Define the lattice (cell lengths and angles). Note that the units are Angstroms\n",
    "a, b, c = 3.9, 3.9, 3.9\n",
    "alpha, beta, gamma = 90, 90, 90\n",
    "lattice = Lattice.from_parameters(a, b, c, alpha, beta, gamma)\n",
    "\n",
    "# Define the basis (atomic positions and species)\n",
    "species = [\"Pb\", \"Ti\", \"O\", \"O\", \"O\"]\n",
    "coords = [\n",
    "    [0.0, 0.0, 0.0],         # Pb\n",
    "    [0.5, 0.5, 0.5],         # Ti\n",
    "    [0.5, 0.5, 0.0],         # O1\n",
    "    [0.0, 0.5, 0.5],         # O2\n",
    "    [0.5, 0.0, 0.5]          # O3\n",
    "]\n",
    "\n",
    "# Create the structure\n",
    "PTO_structure = Structure(lattice, species, coords)\n",
    "print(PTO_structure)  # print the Structure\n",
    "PTO_structure # visualize the structure using crystal_toolkit"
   ]
  },
  {
   "cell_type": "markdown",
   "id": "1c3d1cea",
   "metadata": {
    "slideshow": {
     "slide_type": "slide"
    }
   },
   "source": [
    "# What can you do directly with a Structure?\n",
    "\n",
    "* Once you define a ``Structure``, many different functions and analyses are available\n",
    "* Some functions are implicitly defined via *inheritance*\n",
    "* The inheritance diagram below illustrates how the ``Structure`` object *inherits* attributes and functions of its parent classes.\n",
    "* Using an IDE software can help make it much clearer what's available.\n",
    "\n",
    "\n",
    "![alt text](graphics/inheritance.png \"Inheritance Diagrams for Structure and Molecule\")"
   ]
  },
  {
   "cell_type": "code",
   "execution_count": 4,
   "id": "912d0824",
   "metadata": {
    "slideshow": {
     "slide_type": "fragment"
    }
   },
   "outputs": [
    {
     "name": "stdout",
     "output_type": "stream",
     "text": [
      "Pb1 Ti1 O3\n",
      "ABC3\n",
      "8.483818073921379 g cm^-3\n",
      "[0. 0. 0.] Pb\n",
      "[1.95 1.95 1.95] Ti\n",
      "[0.5 0.5 0.5]\n",
      "3.37749907475931\n",
      "[PeriodicNeighbor: O (-1.194e-16, 1.95, 1.95) [0.0, 0.5, 0.5], PeriodicNeighbor: O (1.95, 0.0, 1.95) [0.5, 0.0, 0.5], PeriodicNeighbor: O (1.95, 1.95, 2.388e-16) [0.5, 0.5, 0.0], PeriodicNeighbor: O (3.9, 1.95, 1.95) [1.0, 0.5, 0.5], PeriodicNeighbor: O (1.95, 3.9, 1.95) [0.5, 1.0, 0.5], PeriodicNeighbor: O (1.95, 1.95, 3.9) [0.5, 0.5, 1.0]]\n"
     ]
    }
   ],
   "source": [
    "# Some examples of things you can access for a Structure are below, but there are many more!\n",
    "print(PTO_structure.composition)  # This is a Composition object\n",
    "print(PTO_structure.composition.anonymized_formula)  # Composition objects themselves have many attributes/methods\n",
    "print(PTO_structure.density)\n",
    "print(PTO_structure[0])  # this is the same as PTO_structure.sites[0]\n",
    "print(PTO_structure[1])\n",
    "print(PTO_structure[1].frac_coords)  # fractional vs cartesian coordinates\n",
    "print(PTO_structure.get_distance(0, 1))  # distance between sites 0 and 1\n",
    "print(PTO_structure.get_neighbors(PTO_structure[1], 3))  # get all neighbors within 3 Angstroms of site 1 (Ti)"
   ]
  },
  {
   "cell_type": "markdown",
   "id": "9e67641e",
   "metadata": {
    "slideshow": {
     "slide_type": "slide"
    }
   },
   "source": [
    "# Understanding the Sites within a Structure\n",
    "\n",
    "* In pymatgen, the ``Site`` object represents a physical point in space\n",
    "    * For ``Structure`` objects, which have periodic boundary conditions, this is technically a ``PeriodicSite``.\n",
    "* The ``Site`` object contains a ``species`` attribute that represents an atom or other entity at that point in space.\n",
    "* The ``species`` attribute is complex because it can be one of many many things:\n",
    "    * Simple structures that just have an atom on a site: easiest to just use the ``specie`` field, which contains an ``Element`` object\n",
    "    * ``Structure`` objects where ions are present on a site: still use the ``specie`` field, but this now contains a ``Specie`` object\n",
    "    * Even more complex elements that have partial occupancies of sites must use the ``species`` field (note this is now plural)\n",
    "\n",
    "![alt text](graphics/site_diagram.png \"Diagram showing Structure, Site, and Species\")"
   ]
  },
  {
   "cell_type": "code",
   "execution_count": 5,
   "id": "d90d394c",
   "metadata": {
    "slideshow": {
     "slide_type": "fragment"
    }
   },
   "outputs": [
    {
     "name": "stdout",
     "output_type": "stream",
     "text": [
      "Pb\n",
      "<enum 'Element'>\n",
      "82\n",
      "(2, 4)\n",
      "207.2 amu\n"
     ]
    }
   ],
   "source": [
    "print(PTO_structure[0].specie)  # note that we are using the shortcut \"specie\"\n",
    "print(type(PTO_structure[0].specie))  # the type of specie is an Element\n",
    "print(PTO_structure[0].specie.Z)  # Element objects have attributes\n",
    "print(PTO_structure[0].specie.common_oxidation_states)\n",
    "print(PTO_structure[0].specie.atomic_mass)"
   ]
  },
  {
   "cell_type": "markdown",
   "id": "a4387b14",
   "metadata": {
    "slideshow": {
     "slide_type": "slide"
    }
   },
   "source": [
    "# Modifying Structures\n",
    "\n",
    "* Next, let's modify ``Structure`` objects\n",
    "* Basic modifications can be done with methods of the ``Structure`` object\n",
    "    * There are much more advanced transformations defined in pymatgen's ``transformations`` package\n",
    "* After modifying structures, you can export them to various formats (e.g., CIF, POSCAR).\n",
    "\n",
    "* Note: pymatgen also contains an ``IStructure`` object, which is an **immutable** version of a ``Structure``. This object is helpful if you:\n",
    "    * want to use a Structure as a default argument in a function header (common Python pitfall)\n",
    "    * use Structures as keys in dictionaries or iterating over lists\n",
    "    * want to adopt a functional programming style\n",
    "\n",
    "![alt text](graphics/structure_mod.png \"Modifying structures\")"
   ]
  },
  {
   "cell_type": "code",
   "execution_count": 6,
   "id": "841f269e",
   "metadata": {
    "scrolled": true,
    "slideshow": {
     "slide_type": "fragment"
    }
   },
   "outputs": [
    {
     "data": {
      "text/html": [
       "\n",
       "        <iframe\n",
       "            width=\"100%\"\n",
       "            height=\"650\"\n",
       "            src=\"http://127.0.0.1:8884/\"\n",
       "            frameborder=\"0\"\n",
       "            allowfullscreen\n",
       "            \n",
       "        ></iframe>\n",
       "        "
      ],
      "text/plain": [
       "<IPython.lib.display.IFrame at 0x13fd074d0>"
      ]
     },
     "metadata": {},
     "output_type": "display_data"
    }
   ],
   "source": [
    "PTO_structure.copy().make_supercell([2, 3, 1])  # note use of copy() to avoid overwriting original"
   ]
  },
  {
   "cell_type": "code",
   "execution_count": 7,
   "id": "30dbb829",
   "metadata": {
    "scrolled": true,
    "slideshow": {
     "slide_type": "fragment"
    }
   },
   "outputs": [
    {
     "data": {
      "text/html": [
       "\n",
       "        <iframe\n",
       "            width=\"100%\"\n",
       "            height=\"650\"\n",
       "            src=\"http://127.0.0.1:8884/\"\n",
       "            frameborder=\"0\"\n",
       "            allowfullscreen\n",
       "            \n",
       "        ></iframe>\n",
       "        "
      ],
      "text/plain": [
       "<IPython.lib.display.IFrame at 0x13fd71b10>"
      ]
     },
     "metadata": {},
     "output_type": "display_data"
    }
   ],
   "source": [
    "PTO_structure.copy().apply_strain([0.5, 0.2, 0])"
   ]
  },
  {
   "cell_type": "code",
   "execution_count": 8,
   "id": "3ca131bd",
   "metadata": {
    "slideshow": {
     "slide_type": "fragment"
    }
   },
   "outputs": [
    {
     "data": {
      "text/html": [
       "\n",
       "        <iframe\n",
       "            width=\"100%\"\n",
       "            height=\"650\"\n",
       "            src=\"http://127.0.0.1:8884/\"\n",
       "            frameborder=\"0\"\n",
       "            allowfullscreen\n",
       "            \n",
       "        ></iframe>\n",
       "        "
      ],
      "text/plain": [
       "<IPython.lib.display.IFrame at 0x14014ad50>"
      ]
     },
     "metadata": {},
     "output_type": "display_data"
    }
   ],
   "source": [
    "PTO_structure.copy().replace(4, \"S\")  # site 4 is an oxygen atom"
   ]
  },
  {
   "cell_type": "code",
   "execution_count": 9,
   "id": "338427e7",
   "metadata": {
    "slideshow": {
     "slide_type": "fragment"
    }
   },
   "outputs": [
    {
     "data": {
      "text/html": [
       "\n",
       "        <iframe\n",
       "            width=\"100%\"\n",
       "            height=\"650\"\n",
       "            src=\"http://127.0.0.1:8884/\"\n",
       "            frameborder=\"0\"\n",
       "            allowfullscreen\n",
       "            \n",
       "        ></iframe>\n",
       "        "
      ],
      "text/plain": [
       "<IPython.lib.display.IFrame at 0x140183590>"
      ]
     },
     "metadata": {},
     "output_type": "display_data"
    }
   ],
   "source": [
    "PTO_structure.copy().replace_species({\"O\":\"S\", \"Pb\": \"Sn\"})"
   ]
  },
  {
   "cell_type": "code",
   "execution_count": 10,
   "id": "e6e26e51",
   "metadata": {
    "slideshow": {
     "slide_type": "fragment"
    }
   },
   "outputs": [
    {
     "data": {
      "text/html": [
       "\n",
       "        <iframe\n",
       "            width=\"100%\"\n",
       "            height=\"650\"\n",
       "            src=\"http://127.0.0.1:8884/\"\n",
       "            frameborder=\"0\"\n",
       "            allowfullscreen\n",
       "            \n",
       "        ></iframe>\n",
       "        "
      ],
      "text/plain": [
       "<IPython.lib.display.IFrame at 0x14028e050>"
      ]
     },
     "metadata": {},
     "output_type": "display_data"
    }
   ],
   "source": [
    "PTO_structure.copy().remove_species([\"Pb\"])"
   ]
  },
  {
   "cell_type": "code",
   "execution_count": 11,
   "id": "b4fba511",
   "metadata": {
    "slideshow": {
     "slide_type": "fragment"
    }
   },
   "outputs": [
    {
     "data": {
      "text/html": [
       "\n",
       "        <iframe\n",
       "            width=\"100%\"\n",
       "            height=\"650\"\n",
       "            src=\"http://127.0.0.1:8884/\"\n",
       "            frameborder=\"0\"\n",
       "            allowfullscreen\n",
       "            \n",
       "        ></iframe>\n",
       "        "
      ],
      "text/plain": [
       "<IPython.lib.display.IFrame at 0x1402ec550>"
      ]
     },
     "metadata": {},
     "output_type": "display_data"
    }
   ],
   "source": [
    "PTO_structure.copy().insert(-1, \"H\", [0.25, 0.25, 0.25])"
   ]
  },
  {
   "cell_type": "code",
   "execution_count": 12,
   "id": "db1bd3d2",
   "metadata": {
    "slideshow": {
     "slide_type": "fragment"
    }
   },
   "outputs": [
    {
     "data": {
      "text/html": [
       "\n",
       "        <iframe\n",
       "            width=\"100%\"\n",
       "            height=\"650\"\n",
       "            src=\"http://127.0.0.1:8884/\"\n",
       "            frameborder=\"0\"\n",
       "            allowfullscreen\n",
       "            \n",
       "        ></iframe>\n",
       "        "
      ],
      "text/plain": [
       "<IPython.lib.display.IFrame at 0x1403149d0>"
      ]
     },
     "metadata": {},
     "output_type": "display_data"
    }
   ],
   "source": [
    "# Chaining structure modifications\n",
    "my_new_structure = PTO_structure.copy()\n",
    "my_new_structure.replace_species({\"O\":\"S\", \"Pb\": \"Sn\"})  # note we are modifying in-place and no longer copying\n",
    "my_new_structure.insert(-1, \"H\", [0.25, 0.25, 0.25])\n",
    "my_new_structure.apply_strain([0.5, 0.2, 0])\n",
    "my_new_structure.make_supercell([2, 3, 1])"
   ]
  },
  {
   "cell_type": "code",
   "execution_count": 13,
   "id": "5d7499ea",
   "metadata": {
    "slideshow": {
     "slide_type": "fragment"
    }
   },
   "outputs": [
    {
     "name": "stdout",
     "output_type": "stream",
     "text": [
      "Sn6 Ti6 S18 H6\n",
      "TiSnHS3\n",
      "4.102272790200292 g cm^-3\n"
     ]
    }
   ],
   "source": [
    "# Analyze the new structure\n",
    "print(my_new_structure.composition)\n",
    "print(my_new_structure.composition.reduced_formula)\n",
    "print(my_new_structure.density)"
   ]
  },
  {
   "cell_type": "code",
   "execution_count": 14,
   "id": "4ac0ef72",
   "metadata": {
    "slideshow": {
     "slide_type": "fragment"
    }
   },
   "outputs": [
    {
     "data": {
      "text/plain": [
       "'Ti6 Sn6 H6 S18\\n1.0\\n  11.6999999999999993    0.0000000000000000    0.0000000000000007\\n  -0.0000000000000009   14.0399999999999991    0.0000000000000009\\n   0.0000000000000000    0.0000000000000000    3.8999999999999999\\nSn Ti S H S\\n6 6 12 6 6\\ndirect\\n   0.0000000000000000    0.0000000000000000    0.0000000000000000 Sn\\n   0.0000000000000000    0.3333333333333333    0.0000000000000000 Sn\\n   0.0000000000000000    0.6666666666666666    0.0000000000000000 Sn\\n   0.5000000000000000    0.0000000000000000    0.0000000000000000 Sn\\n   0.5000000000000000    0.3333333333333333    0.0000000000000000 Sn\\n   0.4999999999999999    0.6666666666666666    0.0000000000000000 Sn\\n   0.2500000000000000    0.1666666666666667    0.5000000000000000 Ti\\n   0.2500000000000000    0.5000000000000000    0.4999999999999999 Ti\\n   0.2500000000000000    0.8333333333333333    0.5000000000000001 Ti\\n   0.7499999999999999    0.1666666666666667    0.5000000000000000 Ti\\n   0.7499999999999999    0.5000000000000000    0.5000000000000001 Ti\\n   0.7500000000000000    0.8333333333333333    0.5000000000000000 Ti\\n   0.2500000000000000    0.1666666666666667    0.0000000000000000 S\\n   0.2500000000000000    0.5000000000000000    0.0000000000000000 S\\n   0.2500000000000000    0.8333333333333333    0.0000000000000000 S\\n   0.7499999999999999    0.1666666666666667    0.0000000000000000 S\\n   0.7499999999999999    0.5000000000000000    0.0000000000000000 S\\n   0.7500000000000000    0.8333333333333333    0.0000000000000000 S\\n   0.0000000000000000    0.1666666666666667    0.5000000000000001 S\\n   0.0000000000000000    0.5000000000000000    0.5000000000000000 S\\n   0.0000000000000000    0.8333333333333333    0.5000000000000001 S\\n   0.5000000000000000    0.1666666666666667    0.5000000000000001 S\\n   0.5000000000000000    0.5000000000000000    0.5000000000000001 S\\n   0.4999999999999999    0.8333333333333333    0.5000000000000001 S\\n   0.1250000000000000    0.0833333333333333    0.2500000000000000 H\\n   0.1250000000000000    0.4166666666666666    0.2500000000000001 H\\n   0.1250000000000000    0.7500000000000000    0.2500000000000001 H\\n   0.6250000000000000    0.0833333333333333    0.2500000000000001 H\\n   0.6250000000000000    0.4166666666666666    0.2500000000000000 H\\n   0.6249999999999999    0.7500000000000000    0.2500000000000000 H\\n   0.2500000000000000    0.0000000000000000    0.5000000000000001 S\\n   0.2500000000000000    0.3333333333333333    0.5000000000000000 S\\n   0.2500000000000000    0.6666666666666666    0.5000000000000001 S\\n   0.7499999999999999    0.0000000000000000    0.5000000000000001 S\\n   0.7499999999999999    0.3333333333333333    0.5000000000000001 S\\n   0.7499999999999999    0.6666666666666666    0.5000000000000000 S\\n'"
      ]
     },
     "execution_count": 14,
     "metadata": {},
     "output_type": "execute_result"
    }
   ],
   "source": [
    "# Export a Structure to a VASP POSCAR format\n",
    "my_new_structure.to('POSCAR', fmt=\"POSCAR\") # this writes a file in addition to returning the raw string\n",
    "\n",
    "# Advanced note: You can use pymatgen's POSCAR class for more options\n",
    "# You can also enter kwargs intended for the POSCAR class directy to the above function call"
   ]
  },
  {
   "cell_type": "code",
   "execution_count": 15,
   "id": "b53511e1",
   "metadata": {
    "slideshow": {
     "slide_type": "fragment"
    }
   },
   "outputs": [
    {
     "data": {
      "text/plain": [
       "\"# generated using pymatgen\\ndata_TiSnHS3\\n_symmetry_space_group_name_H-M   'P 1'\\n_cell_length_a   11.70000000\\n_cell_length_b   14.04000000\\n_cell_length_c   3.90000000\\n_cell_angle_alpha   90.00000000\\n_cell_angle_beta   90.00000000\\n_cell_angle_gamma   90.00000000\\n_symmetry_Int_Tables_number   1\\n_chemical_formula_structural   TiSnHS3\\n_chemical_formula_sum   'Ti6 Sn6 H6 S18'\\n_cell_volume   640.64520000\\n_cell_formula_units_Z   6\\nloop_\\n _symmetry_equiv_pos_site_id\\n _symmetry_equiv_pos_as_xyz\\n  1  'x, y, z'\\nloop_\\n _atom_site_type_symbol\\n _atom_site_label\\n _atom_site_symmetry_multiplicity\\n _atom_site_fract_x\\n _atom_site_fract_y\\n _atom_site_fract_z\\n _atom_site_occupancy\\n  Sn  Sn0  1  0.00000000  0.00000000  0.00000000  1.0\\n  Sn  Sn1  1  0.00000000  0.33333333  0.00000000  1.0\\n  Sn  Sn2  1  0.00000000  0.66666667  0.00000000  1.0\\n  Sn  Sn3  1  0.50000000  0.00000000  0.00000000  1.0\\n  Sn  Sn4  1  0.50000000  0.33333333  0.00000000  1.0\\n  Sn  Sn5  1  0.50000000  0.66666667  0.00000000  1.0\\n  Ti  Ti6  1  0.25000000  0.16666667  0.50000000  1\\n  Ti  Ti7  1  0.25000000  0.50000000  0.50000000  1\\n  Ti  Ti8  1  0.25000000  0.83333333  0.50000000  1\\n  Ti  Ti9  1  0.75000000  0.16666667  0.50000000  1\\n  Ti  Ti10  1  0.75000000  0.50000000  0.50000000  1\\n  Ti  Ti11  1  0.75000000  0.83333333  0.50000000  1\\n  S  S12  1  0.25000000  0.16666667  0.00000000  1.0\\n  S  S13  1  0.25000000  0.50000000  0.00000000  1.0\\n  S  S14  1  0.25000000  0.83333333  0.00000000  1.0\\n  S  S15  1  0.75000000  0.16666667  0.00000000  1.0\\n  S  S16  1  0.75000000  0.50000000  0.00000000  1.0\\n  S  S17  1  0.75000000  0.83333333  0.00000000  1.0\\n  S  S18  1  0.00000000  0.16666667  0.50000000  1.0\\n  S  S19  1  0.00000000  0.50000000  0.50000000  1.0\\n  S  S20  1  0.00000000  0.83333333  0.50000000  1.0\\n  S  S21  1  0.50000000  0.16666667  0.50000000  1.0\\n  S  S22  1  0.50000000  0.50000000  0.50000000  1.0\\n  S  S23  1  0.50000000  0.83333333  0.50000000  1.0\\n  H  H24  1  0.12500000  0.08333333  0.25000000  1\\n  H  H25  1  0.12500000  0.41666667  0.25000000  1\\n  H  H26  1  0.12500000  0.75000000  0.25000000  1\\n  H  H27  1  0.62500000  0.08333333  0.25000000  1\\n  H  H28  1  0.62500000  0.41666667  0.25000000  1\\n  H  H29  1  0.62500000  0.75000000  0.25000000  1\\n  S  S30  1  0.25000000  0.00000000  0.50000000  1.0\\n  S  S31  1  0.25000000  0.33333333  0.50000000  1.0\\n  S  S32  1  0.25000000  0.66666667  0.50000000  1.0\\n  S  S33  1  0.75000000  0.00000000  0.50000000  1.0\\n  S  S34  1  0.75000000  0.33333333  0.50000000  1.0\\n  S  S35  1  0.75000000  0.66666667  0.50000000  1.0\\n\""
      ]
     },
     "execution_count": 15,
     "metadata": {},
     "output_type": "execute_result"
    }
   ],
   "source": [
    "# Export a Structure to Crystallographic Information File/Framework (CIF) format\n",
    "my_new_structure.to('output.cif', fmt=\"cif\")  # this writes a file in addition to returning the raw string\n",
    "\n",
    "# Advanced note: You can use pymatgen's CIFWriter class for more options\n",
    "# You can also enter kwargs intended for the CIFWriter class directy to the above function call"
   ]
  },
  {
   "cell_type": "markdown",
   "id": "32c95bc3",
   "metadata": {
    "slideshow": {
     "slide_type": "slide"
    }
   },
   "source": [
    "# Loading a Structure from a file\n",
    "\n",
    "* Let's load a ``Structure`` from a file in CIF format\n",
    "* This ``Structure`` will contain ions on the sites instead of elements\n",
    "\n",
    "![alt text](graphics/python_file_api.png \"Loading from Python, File, or API\")"
   ]
  },
  {
   "cell_type": "code",
   "execution_count": 16,
   "id": "4d07d704",
   "metadata": {
    "slideshow": {
     "slide_type": "fragment"
    }
   },
   "outputs": [
    {
     "name": "stdout",
     "output_type": "stream",
     "text": [
      "Full Formula (Ti1 Pb1 O3)\n",
      "Reduced Formula: TiPbO3\n",
      "abc   :   3.879552   3.879552   4.285888\n",
      "angles:  90.000000  90.000000  90.000000\n",
      "pbc   :       True       True       True\n",
      "Sites (5)\n",
      "  #  SP      a    b         c\n",
      "---  ----  ---  ---  --------\n",
      "  0  Ti4+  0.5  0.5  0.582514\n",
      "  1  Pb2+  0    0    0.123588\n",
      "  2  O2-   0    0.5  0.494158\n",
      "  3  O2-   0.5  0    0.494158\n",
      "  4  O2-   0.5  0.5  0.995782\n"
     ]
    },
    {
     "data": {
      "text/html": [
       "\n",
       "        <iframe\n",
       "            width=\"100%\"\n",
       "            height=\"650\"\n",
       "            src=\"http://127.0.0.1:8884/\"\n",
       "            frameborder=\"0\"\n",
       "            allowfullscreen\n",
       "            \n",
       "        ></iframe>\n",
       "        "
      ],
      "text/plain": [
       "<IPython.lib.display.IFrame at 0x140139510>"
      ]
     },
     "metadata": {},
     "output_type": "display_data"
    }
   ],
   "source": [
    "# Load the structure from a file (e.g., CIF, POSCAR, CSSR)\n",
    "PTO_structure_from_cif = Structure.from_file(\"files/PbTiO3.cif\")\n",
    "print(PTO_structure_from_cif)  # print the structure - note the oxidation states!\n",
    "PTO_structure_from_cif"
   ]
  },
  {
   "cell_type": "markdown",
   "id": "696a6c18",
   "metadata": {
    "slideshow": {
     "slide_type": "slide"
    }
   },
   "source": [
    "# Using specie for Structures with ions on sites rather than elements\n",
    "\n",
    "* Now, when we use the ``specie`` shortcut on a ``Site``, we will get a ``Species`` object which contains some additional information such as oxidation state\n",
    "\n",
    "![alt text](graphics/site_diagram.png \"Diagram showing Structure, Site, and Species\")"
   ]
  },
  {
   "cell_type": "code",
   "execution_count": 17,
   "id": "9bd9b139",
   "metadata": {
    "slideshow": {
     "slide_type": "fragment"
    }
   },
   "outputs": [
    {
     "name": "stdout",
     "output_type": "stream",
     "text": [
      "Ti4+\n",
      "<class 'pymatgen.core.periodic_table.Species'>\n",
      "4.0\n",
      "0.745 ang\n",
      "Ti\n"
     ]
    }
   ],
   "source": [
    "print(PTO_structure_from_cif.sites[0].specie)  # this has an Element and oxidation state\n",
    "print(type(PTO_structure_from_cif.sites[0].specie))  # this is of type Species\n",
    "print(PTO_structure_from_cif.sites[0].specie.oxi_state)\n",
    "print(PTO_structure_from_cif.sites[0].specie.ionic_radius)\n",
    "print(PTO_structure_from_cif.sites[0].specie.element)  # you can also get the Element"
   ]
  },
  {
   "cell_type": "markdown",
   "id": "e5fae332",
   "metadata": {
    "slideshow": {
     "slide_type": "slide"
    }
   },
   "source": [
    "# Loading a Structure from a file\n",
    "\n",
    "* Let's load another ``Structure`` from a file in CIF format\n",
    "* This ``Structure`` will contain compositions on the sites instead of elements\n",
    "\n",
    "![alt text](graphics/python_file_api.png \"Loading from Python, File, or API\")"
   ]
  },
  {
   "cell_type": "code",
   "execution_count": 18,
   "id": "15497152",
   "metadata": {
    "scrolled": true,
    "slideshow": {
     "slide_type": "fragment"
    }
   },
   "outputs": [
    {
     "name": "stdout",
     "output_type": "stream",
     "text": [
      "Full Formula (Sr11.2 Y4.8 Co16 O42)\n",
      "Reduced Formula: Sr11.2Y4.8Co16O42\n",
      "abc   :   7.623900   7.623900  15.327000\n",
      "angles:  90.000000  90.000000  90.000000\n",
      "pbc   :       True       True       True\n",
      "Sites (80)\n",
      "  #  SP                  a       b       c\n",
      "---  -------------  ------  ------  ------\n",
      "  0  Sr:0.7, Y:0.3  0       0       0.8785\n",
      "  1  Sr:0.7, Y:0.3  0.5     0.5     0.3785\n",
      "  2  Sr:0.7, Y:0.3  0       0       0.1215\n",
      "  3  Sr:0.7, Y:0.3  0.5     0.5     0.6215\n",
      "  4  Sr:0.7, Y:0.3  0       0.5     0.867\n",
      "  5  Sr:0.7, Y:0.3  0.5     0       0.367\n",
      "  6  Sr:0.7, Y:0.3  0       0.5     0.133\n",
      "  7  Sr:0.7, Y:0.3  0.5     0       0.633\n",
      "  8  Sr:0.7, Y:0.3  0.5     0       0.867\n",
      "  9  Sr:0.7, Y:0.3  0       0.5     0.367\n",
      " 10  Sr:0.7, Y:0.3  0.5     0       0.133\n",
      " 11  Sr:0.7, Y:0.3  0       0.5     0.633\n",
      " 12  Sr:0.7, Y:0.3  0       0       0.3503\n",
      " 13  Sr:0.7, Y:0.3  0.5     0.5     0.8503\n",
      " 14  Sr:0.7, Y:0.3  0       0       0.6497\n",
      " 15  Sr:0.7, Y:0.3  0.5     0.5     0.1497\n",
      " 16  Co             0.7483  0.7483  0\n",
      " 17  Co             0.2483  0.2483  0.5\n",
      " 18  Co             0.2517  0.2517  0\n",
      " 19  Co             0.7517  0.7517  0.5\n",
      " 20  Co             0.2517  0.7483  0\n",
      " 21  Co             0.7517  0.2483  0.5\n",
      " 22  Co             0.7483  0.2517  0\n",
      " 23  Co             0.2483  0.7517  0.5\n",
      " 24  Co             0.25    0.75    0.25\n",
      " 25  Co             0.75    0.25    0.75\n",
      " 26  Co             0.25    0.25    0.25\n",
      " 27  Co             0.75    0.75    0.75\n",
      " 28  Co             0.75    0.25    0.25\n",
      " 29  Co             0.25    0.75    0.75\n",
      " 30  Co             0.75    0.75    0.25\n",
      " 31  Co             0.25    0.25    0.75\n",
      " 32  O              0       0.2494  0.24\n",
      " 33  O              0.5     0.7494  0.74\n",
      " 34  O              0       0.7506  0.76\n",
      " 35  O              0.5     0.2506  0.26\n",
      " 36  O              0.7506  0       0.24\n",
      " 37  O              0.2506  0.5     0.74\n",
      " 38  O              0.2494  0       0.76\n",
      " 39  O              0.7494  0.5     0.26\n",
      " 40  O              0       0.7506  0.24\n",
      " 41  O              0.5     0.2506  0.74\n",
      " 42  O              0       0.2494  0.76\n",
      " 43  O              0.5     0.7494  0.26\n",
      " 44  O              0.2494  0       0.24\n",
      " 45  O              0.7494  0.5     0.74\n",
      " 46  O              0.7506  0       0.76\n",
      " 47  O              0.2506  0.5     0.26\n",
      " 48  O              0.2905  0.2905  0.1176\n",
      " 49  O              0.7905  0.7905  0.6176\n",
      " 50  O              0.7095  0.7095  0.8824\n",
      " 51  O              0.2095  0.2095  0.3824\n",
      " 52  O              0.7095  0.2905  0.1176\n",
      " 53  O              0.2095  0.7905  0.6176\n",
      " 54  O              0.2905  0.7095  0.8824\n",
      " 55  O              0.7905  0.2095  0.3824\n",
      " 56  O              0.7095  0.7095  0.1176\n",
      " 57  O              0.2095  0.2095  0.6176\n",
      " 58  O              0.2905  0.2905  0.8824\n",
      " 59  O              0.7905  0.7905  0.3824\n",
      " 60  O              0.2905  0.7095  0.1176\n",
      " 61  O              0.7905  0.2095  0.6176\n",
      " 62  O              0.7095  0.2905  0.8824\n",
      " 63  O              0.2095  0.7905  0.3824\n",
      " 64  O              0       0.7241  0\n",
      " 65  O              0.5     0.2241  0.5\n",
      " 66  O              0       0.2759  0\n",
      " 67  O              0.5     0.7759  0.5\n",
      " 68  O              0.2759  0       0\n",
      " 69  O              0.7759  0.5     0.5\n",
      " 70  O              0.7241  0       0\n",
      " 71  O              0.2241  0.5     0.5\n",
      " 72  O:0.25         0.387   0.5     0\n",
      " 73  O:0.25         0.887   0       0.5\n",
      " 74  O:0.25         0.613   0.5     0\n",
      " 75  O:0.25         0.113   0       0.5\n",
      " 76  O:0.25         0.5     0.387   0\n",
      " 77  O:0.25         0       0.887   0.5\n",
      " 78  O:0.25         0.5     0.613   0\n",
      " 79  O:0.25         0       0.113   0.5\n"
     ]
    },
    {
     "data": {
      "text/html": [
       "\n",
       "        <iframe\n",
       "            width=\"100%\"\n",
       "            height=\"650\"\n",
       "            src=\"http://127.0.0.1:8884/\"\n",
       "            frameborder=\"0\"\n",
       "            allowfullscreen\n",
       "            \n",
       "        ></iframe>\n",
       "        "
      ],
      "text/plain": [
       "<IPython.lib.display.IFrame at 0x140182b50>"
      ]
     },
     "metadata": {},
     "output_type": "display_data"
    }
   ],
   "source": [
    "# Load the structure from a file (e.g., CIF, POSCAR, CSSR)\n",
    "SrYCO_structure = Structure.from_file(\"files/SrYCoO.cif\")\n",
    "print(SrYCO_structure)  # print the Structure - note the partial occupancies!\n",
    "SrYCO_structure"
   ]
  },
  {
   "cell_type": "markdown",
   "id": "ecbd60fe",
   "metadata": {
    "slideshow": {
     "slide_type": "slide"
    }
   },
   "source": [
    "# Structures with partial occupancies (multiple species on a site)\n",
    "\n",
    "* Some structures may gave **partial occupancy** or **disorder** on sites.\n",
    "    * Example: a site is sometimes occupied by Li, sometimes by Na (in a 50:50 ratio)\n",
    "    * Example: a site is sometimes occupied by Li, sometimes is vacant altogether (in a 75:25 ratio)\n",
    "* Structure with partial occupancies will have a ``Composition`` object in the ``species`` key.\n",
    "    * Note that calling the ``specie`` key (singular form) on such structures will result in an error!\n",
    "\n",
    "![alt text](graphics/site_diagram.png \"Diagram showing Structure, Site, and Species\")"
   ]
  },
  {
   "cell_type": "code",
   "execution_count": 19,
   "id": "4f4023d0",
   "metadata": {
    "slideshow": {
     "slide_type": "fragment"
    }
   },
   "outputs": [
    {
     "name": "stdout",
     "output_type": "stream",
     "text": [
      "False\n",
      "False\n",
      "True\n",
      "Sr0.7 Y0.3\n",
      "<class 'pymatgen.core.composition.Composition'>\n",
      "0.7\n",
      "0.3\n"
     ]
    }
   ],
   "source": [
    "print(SrYCO_structure.is_ordered)\n",
    "print(SrYCO_structure.sites[0].is_ordered)\n",
    "print(SrYCO_structure.sites[20].is_ordered)\n",
    "print(SrYCO_structure.sites[0].species)  # note that this is \"species\", not \"specie\"!\n",
    "print(type(SrYCO_structure.sites[0].species))\n",
    "print(SrYCO_structure.sites[0].species[\"Sr\"])\n",
    "print(SrYCO_structure.sites[0].species[\"Y\"])"
   ]
  },
  {
   "cell_type": "markdown",
   "id": "0f32d22c",
   "metadata": {
    "slideshow": {
     "slide_type": "slide"
    }
   },
   "source": [
    "# Loading a structure from an API (Materials Project)\n",
    "\n",
    "* Finally, we will load a crystal structure from an online database (The Materials Project)\n",
    "* Using the API will give you instant access to >150,000 crystal structures that are available on the Materials Project web site\n",
    "* This structure will have magnetic moments defined\n",
    "\n",
    "![alt text](graphics/python_file_api.png \"Loading from Python, File, or API\")"
   ]
  },
  {
   "cell_type": "code",
   "execution_count": 20,
   "id": "31d9b03b",
   "metadata": {
    "slideshow": {
     "slide_type": "fragment"
    }
   },
   "outputs": [
    {
     "name": "stderr",
     "output_type": "stream",
     "text": [
      "Retrieving MaterialsDoc documents: 100%|████████████████████████████████████████████████| 1/1 [00:00<00:00, 1686.49it/s]\n"
     ]
    },
    {
     "name": "stdout",
     "output_type": "stream",
     "text": [
      "Full Formula (Fe2 Bi2 O6)\n",
      "Reduced Formula: FeBiO3\n",
      "abc   :   4.879828   5.305300   5.305304\n",
      "angles:  90.000015  90.000019  90.000019\n",
      "pbc   :       True       True       True\n",
      "Sites (10)\n",
      "  #  SP           a         b         c    magmom\n",
      "---  ----  --------  --------  --------  --------\n",
      "  0  Fe    0.476167  0         0.500001    -4.23\n",
      "  1  Fe    0.476163  0.5       0            4.23\n",
      "  2  Bi    0.048707  0         0           -0\n",
      "  3  Bi    0.048707  0.5       0.499999    -0\n",
      "  4  O     0.856306  0.5       0            0.185\n",
      "  5  O     0.856303  0         0.5         -0.185\n",
      "  6  O     0.330413  0.249999  0.250001     0\n",
      "  7  O     0.330412  0.750001  0.749999     0\n",
      "  8  O     0.330412  0.249999  0.749998     0\n",
      "  9  O     0.330412  0.750002  0.250001     0\n"
     ]
    },
    {
     "data": {
      "text/html": [
       "\n",
       "        <iframe\n",
       "            width=\"100%\"\n",
       "            height=\"650\"\n",
       "            src=\"http://127.0.0.1:8884/\"\n",
       "            frameborder=\"0\"\n",
       "            allowfullscreen\n",
       "            \n",
       "        ></iframe>\n",
       "        "
      ],
      "text/plain": [
       "<IPython.lib.display.IFrame at 0x14053a210>"
      ]
     },
     "metadata": {},
     "output_type": "display_data"
    }
   ],
   "source": [
    "from pymatgen.ext.matproj import MPRester\n",
    "\n",
    "API_KEY = \"YOUR_API_KEY\" # Replace with your API key from www.materialsproject.org\n",
    "\n",
    "# Create an MPRester object\n",
    "mpr = MPRester(API_KEY)\n",
    "\n",
    "# Fetch the structure using the Materials Project ID\n",
    "mp_id = \"mp-1069079\"  # this is the Materials Project ID\n",
    "BFO_structure = mpr.get_structure_by_material_id(mp_id)\n",
    "\n",
    "print(BFO_structure)  # print the Structure - notice the \"magmom\"\n",
    "BFO_structure  # visualize"
   ]
  },
  {
   "cell_type": "markdown",
   "id": "da05b98c",
   "metadata": {
    "slideshow": {
     "slide_type": "slide"
    }
   },
   "source": [
    "# Understanding site properties\n",
    "\n",
    "* We can use the ``properties`` attribute of a ``Site`` to define properties like magnetic moment\n",
    "* Defining such properties can be useful because:\n",
    "    * They are used when creating various inputs for simulation software, e.g., the MAGMOM tag in the VASP software\n",
    "    * They can be used for your own internal analysis or for visualization purposes\n",
    "* Note: it can be confusing about what goes in ``Site.properties`` vs ``Species.properties``. In general, pymatgen recommends that users self-define properties in ``Site.properties``, with ``Species.properties`` reserved for the ``spin`` that is parsed from simulation outputs.\n",
    "    * As a user, the general guidance is to define things using ``Site.properties``.\n",
    "\n",
    "![alt text](graphics/site_diagram.png \"Diagram showing Structure, Site, and Species\")"
   ]
  },
  {
   "cell_type": "code",
   "execution_count": 21,
   "id": "fb427aef",
   "metadata": {
    "slideshow": {
     "slide_type": "fragment"
    }
   },
   "outputs": [
    {
     "data": {
      "text/plain": [
       "{'magmom': -4.23}"
      ]
     },
     "execution_count": 21,
     "metadata": {},
     "output_type": "execute_result"
    }
   ],
   "source": [
    "BFO_structure.sites[0].properties"
   ]
  },
  {
   "cell_type": "markdown",
   "id": "e181d762",
   "metadata": {
    "slideshow": {
     "slide_type": "slide"
    }
   },
   "source": [
    "# The Molecule object\n",
    "\n",
    "* The ``Molecule`` object is used for systems without periodic boundary conditions, e.g., isolated molecules\n",
    "* A ``Molecule`` is in some ways simpler than a ``Structure`` because we no longer have a lattice\n",
    "\n",
    "![alt text](graphics/struct_mol.png \"Structure and Molecule\")"
   ]
  },
  {
   "cell_type": "code",
   "execution_count": 22,
   "id": "8207e631",
   "metadata": {
    "slideshow": {
     "slide_type": "fragment"
    }
   },
   "outputs": [
    {
     "name": "stdout",
     "output_type": "stream",
     "text": [
      "Full Formula (H6 C3 O1)\n",
      "Reduced Formula: H6C3O\n",
      "Charge = 0.0, Spin Mult = 1\n",
      "Sites (10)\n",
      "0 H     2.047100     0.102900     0.725100\n",
      "1 C     1.437600     0.081800    -0.187500\n",
      "2 H     1.664300     0.989400    -0.762000\n",
      "3 H     1.761600    -0.779600    -0.786000\n",
      "4 C    -0.037700    -0.003500     0.096800\n",
      "5 O    -0.479700    -0.044600     1.229400\n",
      "6 C    -0.929400    -0.034500    -1.115000\n",
      "7 H    -0.784400     0.870300    -1.719500\n",
      "8 H    -0.685600    -0.898600    -1.746700\n",
      "9 H    -1.994800    -0.097900    -0.858700\n"
     ]
    },
    {
     "data": {
      "text/html": [
       "\n",
       "        <iframe\n",
       "            width=\"100%\"\n",
       "            height=\"650\"\n",
       "            src=\"http://127.0.0.1:8884/\"\n",
       "            frameborder=\"0\"\n",
       "            allowfullscreen\n",
       "            \n",
       "        ></iframe>\n",
       "        "
      ],
      "text/plain": [
       "<IPython.lib.display.IFrame at 0x1401b93d0>"
      ]
     },
     "metadata": {},
     "output_type": "display_data"
    }
   ],
   "source": [
    "from pymatgen.analysis.graphs import MoleculeGraph\n",
    "from pymatgen.analysis.local_env import CovalentBondNN\n",
    "from pymatgen.core.structure import Molecule\n",
    "\n",
    "# Define the atomic species and their coordinates for acetone (C3H6O)\n",
    "species = [\"H\", \"C\", \"H\", \"H\", \"C\", \"O\", \"C\", \"H\", \"H\", \"H\"]\n",
    "coords = [\n",
    "    [2.0471, 0.1029, 0.7251],   # H\n",
    "    [1.4376, 0.0818, -0.1875],  # C\n",
    "    [1.6643, 0.9894, -0.7620],  # H\n",
    "    [1.7616, -0.7796, -0.7860], # H\n",
    "    [-0.0377, -0.0035, 0.0968], # C\n",
    "    [-0.4797, -0.0446, 1.2294], # O\n",
    "    [-0.9294, -0.0345, -1.1150],# C\n",
    "    [-0.7844, 0.8703, -1.7195], # H\n",
    "    [-0.6856, -0.8986, -1.7467],# H\n",
    "    [-1.9948, -0.0979, -0.8587] # H\n",
    "]\n",
    "\n",
    "# Create the molecule object\n",
    "molecule = Molecule(species, coords)\n",
    "print(molecule)\n",
    "molecule"
   ]
  },
  {
   "cell_type": "markdown",
   "id": "75aa5f39",
   "metadata": {
    "slideshow": {
     "slide_type": "slide"
    }
   },
   "source": [
    "# Inheritance in molecules\n",
    "\n",
    "* Like ``Structure``, the ``Molecule`` inherits many of its capabilities from its parent classes\n",
    "\n",
    "![alt text](graphics/inheritance.png \"Inheritance Diagrams for Structure and Molecule\")"
   ]
  },
  {
   "cell_type": "code",
   "execution_count": 23,
   "id": "c8105399",
   "metadata": {
    "slideshow": {
     "slide_type": "fragment"
    }
   },
   "outputs": [
    {
     "name": "stdout",
     "output_type": "stream",
     "text": [
      "H6 C3 O1\n",
      "C3 H6 O1\n",
      "[2.0471 0.1029 0.7251] H\n",
      "H\n"
     ]
    }
   ],
   "source": [
    "print(molecule.composition)\n",
    "print(molecule.composition.iupac_formula)\n",
    "print(molecule[0])  # Site object, shortcut to molecule.sites[0]\n",
    "print(molecule[0].specie)  # Element object - remember that specifying \"species\" will yield a Composition"
   ]
  },
  {
   "cell_type": "markdown",
   "id": "a9b000eb",
   "metadata": {
    "slideshow": {
     "slide_type": "slide"
    }
   },
   "source": [
    "# Modifying molecules\n",
    "\n",
    "* One can do basic modifications of molecules (including functional group substitutions) with methods of the ``Molecule`` object itself\n",
    "* After modifying molecules, you can export the result to various formats (e.g., xyz, gm03, etc).\n",
    "\n",
    "* Note: pymatgen also contains an ``IMolecule`` object, which is an **immutable** version of a ``Molecule``. This object is helpful if you:\n",
    "    * want to use a molecule as a default argument in a function header (common Python pitfall)\n",
    "    * use molecule as keys in dictionaries or iterating over lists\n",
    "    * want to adopt a functional programming style\n"
   ]
  },
  {
   "cell_type": "code",
   "execution_count": 24,
   "id": "c4cf530c",
   "metadata": {
    "scrolled": false,
    "slideshow": {
     "slide_type": "slide"
    }
   },
   "outputs": [
    {
     "data": {
      "text/html": [
       "\n",
       "        <iframe\n",
       "            width=\"100%\"\n",
       "            height=\"650\"\n",
       "            src=\"http://127.0.0.1:8884/\"\n",
       "            frameborder=\"0\"\n",
       "            allowfullscreen\n",
       "            \n",
       "        ></iframe>\n",
       "        "
      ],
      "text/plain": [
       "<IPython.lib.display.IFrame at 0x14015c550>"
      ]
     },
     "metadata": {},
     "output_type": "display_data"
    },
    {
     "name": "stderr",
     "output_type": "stream",
     "text": [
      "[2024-09-12 15:25:41,815] ERROR in app: Exception on /_dash-component-suites/dash/dash_table/async-table.js [GET]\n",
      "Traceback (most recent call last):\n",
      "  File \"/Users/ajain/Documents/code_venvs/pmg_tutorials/lib/python3.11/site-packages/flask/app.py\", line 1473, in wsgi_app\n",
      "    response = self.full_dispatch_request()\n",
      "               ^^^^^^^^^^^^^^^^^^^^^^^^^^^^\n",
      "  File \"/Users/ajain/Documents/code_venvs/pmg_tutorials/lib/python3.11/site-packages/flask/app.py\", line 882, in full_dispatch_request\n",
      "    rv = self.handle_user_exception(e)\n",
      "         ^^^^^^^^^^^^^^^^^^^^^^^^^^^^^\n",
      "  File \"/Users/ajain/Documents/code_venvs/pmg_tutorials/lib/python3.11/site-packages/flask/app.py\", line 880, in full_dispatch_request\n",
      "    rv = self.dispatch_request()\n",
      "         ^^^^^^^^^^^^^^^^^^^^^^^\n",
      "  File \"/Users/ajain/Documents/code_venvs/pmg_tutorials/lib/python3.11/site-packages/flask/app.py\", line 865, in dispatch_request\n",
      "    return self.ensure_sync(self.view_functions[rule.endpoint])(**view_args)  # type: ignore[no-any-return]\n",
      "           ^^^^^^^^^^^^^^^^^^^^^^^^^^^^^^^^^^^^^^^^^^^^^^^^^^^^^^^^^^^^^^^^^\n",
      "  File \"/Users/ajain/Documents/code_venvs/pmg_tutorials/lib/python3.11/site-packages/dash/dash.py\", line 989, in serve_component_suites\n",
      "    _validate.validate_js_path(self.registered_paths, package_name, path_in_pkg)\n",
      "  File \"/Users/ajain/Documents/code_venvs/pmg_tutorials/lib/python3.11/site-packages/dash/_validate.py\", line 382, in validate_js_path\n",
      "    raise exceptions.DependencyException(\n",
      "dash.exceptions.DependencyException: \"dash\" is registered but the path requested is not valid.\n",
      "The path requested: \"dash_table/async-table.js\"\n",
      "List of registered paths: defaultdict(<class 'set'>, {'dash': {'deps/react-dom@16.14.0.min.js', 'deps/polyfill@7.12.1.min.js', 'deps/react@16.14.0.min.js'}})\n"
     ]
    }
   ],
   "source": [
    "# Let's add a functional group\n",
    "subs_mol = molecule.copy().substitute(3, \"methyl\")\n",
    "\n",
    "subs_mol"
   ]
  },
  {
   "cell_type": "code",
   "execution_count": 25,
   "id": "66591d1f",
   "metadata": {
    "scrolled": false,
    "slideshow": {
     "slide_type": "slide"
    }
   },
   "outputs": [
    {
     "data": {
      "text/html": [
       "\n",
       "        <iframe\n",
       "            width=\"100%\"\n",
       "            height=\"650\"\n",
       "            src=\"http://127.0.0.1:8884/\"\n",
       "            frameborder=\"0\"\n",
       "            allowfullscreen\n",
       "            \n",
       "        ></iframe>\n",
       "        "
      ],
      "text/plain": [
       "<IPython.lib.display.IFrame at 0x13fdb1810>"
      ]
     },
     "metadata": {},
     "output_type": "display_data"
    },
    {
     "name": "stderr",
     "output_type": "stream",
     "text": [
      "[2024-09-12 15:25:43,731] ERROR in app: Exception on /_dash-layout [GET]\n",
      "Traceback (most recent call last):\n",
      "  File \"/Users/ajain/Documents/code_venvs/pmg_tutorials/lib/python3.11/site-packages/flask/app.py\", line 1473, in wsgi_app\n",
      "    response = self.full_dispatch_request()\n",
      "               ^^^^^^^^^^^^^^^^^^^^^^^^^^^^\n",
      "  File \"/Users/ajain/Documents/code_venvs/pmg_tutorials/lib/python3.11/site-packages/flask/app.py\", line 882, in full_dispatch_request\n",
      "    rv = self.handle_user_exception(e)\n",
      "         ^^^^^^^^^^^^^^^^^^^^^^^^^^^^^\n",
      "  File \"/Users/ajain/Documents/code_venvs/pmg_tutorials/lib/python3.11/site-packages/flask/app.py\", line 880, in full_dispatch_request\n",
      "    rv = self.dispatch_request()\n",
      "         ^^^^^^^^^^^^^^^^^^^^^^^\n",
      "  File \"/Users/ajain/Documents/code_venvs/pmg_tutorials/lib/python3.11/site-packages/flask/app.py\", line 865, in dispatch_request\n",
      "    return self.ensure_sync(self.view_functions[rule.endpoint])(**view_args)  # type: ignore[no-any-return]\n",
      "           ^^^^^^^^^^^^^^^^^^^^^^^^^^^^^^^^^^^^^^^^^^^^^^^^^^^^^^^^^^^^^^^^^\n",
      "  File \"/Users/ajain/Documents/code_venvs/pmg_tutorials/lib/python3.11/site-packages/dash/dash.py\", line 752, in serve_layout\n",
      "    to_json(layout),\n",
      "    ^^^^^^^^^^^^^^^\n",
      "  File \"/Users/ajain/Documents/code_venvs/pmg_tutorials/lib/python3.11/site-packages/dash/_utils.py\", line 26, in to_json\n",
      "    return to_json_plotly(value)\n",
      "           ^^^^^^^^^^^^^^^^^^^^^\n",
      "  File \"/Users/ajain/Documents/code_venvs/pmg_tutorials/lib/python3.11/site-packages/plotly/io/_json.py\", line 165, in to_json_plotly\n",
      "    cleaned = clean_to_json_compatible(\n",
      "              ^^^^^^^^^^^^^^^^^^^^^^^^^\n",
      "  File \"/Users/ajain/Documents/code_venvs/pmg_tutorials/lib/python3.11/site-packages/plotly/io/_json.py\", line 489, in clean_to_json_compatible\n",
      "    return {k: clean_to_json_compatible(v, **kwargs) for k, v in obj.items()}\n",
      "           ^^^^^^^^^^^^^^^^^^^^^^^^^^^^^^^^^^^^^^^^^^^^^^^^^^^^^^^^^^^^^^^^^^\n",
      "  File \"/Users/ajain/Documents/code_venvs/pmg_tutorials/lib/python3.11/site-packages/plotly/io/_json.py\", line 489, in <dictcomp>\n",
      "    return {k: clean_to_json_compatible(v, **kwargs) for k, v in obj.items()}\n",
      "               ^^^^^^^^^^^^^^^^^^^^^^^^^^^^^^^^^^^^^\n",
      "  File \"/Users/ajain/Documents/code_venvs/pmg_tutorials/lib/python3.11/site-packages/plotly/io/_json.py\", line 489, in clean_to_json_compatible\n",
      "    return {k: clean_to_json_compatible(v, **kwargs) for k, v in obj.items()}\n",
      "           ^^^^^^^^^^^^^^^^^^^^^^^^^^^^^^^^^^^^^^^^^^^^^^^^^^^^^^^^^^^^^^^^^^\n",
      "  File \"/Users/ajain/Documents/code_venvs/pmg_tutorials/lib/python3.11/site-packages/plotly/io/_json.py\", line 489, in <dictcomp>\n",
      "    return {k: clean_to_json_compatible(v, **kwargs) for k, v in obj.items()}\n",
      "               ^^^^^^^^^^^^^^^^^^^^^^^^^^^^^^^^^^^^^\n",
      "  File \"/Users/ajain/Documents/code_venvs/pmg_tutorials/lib/python3.11/site-packages/plotly/io/_json.py\", line 493, in clean_to_json_compatible\n",
      "    return [clean_to_json_compatible(v, **kwargs) for v in obj]\n",
      "           ^^^^^^^^^^^^^^^^^^^^^^^^^^^^^^^^^^^^^^^^^^^^^^^^^^^^\n",
      "  File \"/Users/ajain/Documents/code_venvs/pmg_tutorials/lib/python3.11/site-packages/plotly/io/_json.py\", line 493, in <listcomp>\n",
      "    return [clean_to_json_compatible(v, **kwargs) for v in obj]\n",
      "            ^^^^^^^^^^^^^^^^^^^^^^^^^^^^^^^^^^^^^\n",
      "  File \"/Users/ajain/Documents/code_venvs/pmg_tutorials/lib/python3.11/site-packages/plotly/io/_json.py\", line 532, in clean_to_json_compatible\n",
      "    if obj is pd.NaT:\n",
      "              ^^^^^^\n",
      "AttributeError: partially initialized module 'pandas' has no attribute 'NaT' (most likely due to a circular import)\n",
      "[2024-09-12 15:25:43,953] ERROR in app: Exception on /_dash-layout [GET]\n",
      "Traceback (most recent call last):\n",
      "  File \"/Users/ajain/Documents/code_venvs/pmg_tutorials/lib/python3.11/site-packages/flask/app.py\", line 1473, in wsgi_app\n",
      "    response = self.full_dispatch_request()\n",
      "               ^^^^^^^^^^^^^^^^^^^^^^^^^^^^\n",
      "  File \"/Users/ajain/Documents/code_venvs/pmg_tutorials/lib/python3.11/site-packages/flask/app.py\", line 882, in full_dispatch_request\n",
      "    rv = self.handle_user_exception(e)\n",
      "         ^^^^^^^^^^^^^^^^^^^^^^^^^^^^^\n",
      "  File \"/Users/ajain/Documents/code_venvs/pmg_tutorials/lib/python3.11/site-packages/flask/app.py\", line 880, in full_dispatch_request\n",
      "    rv = self.dispatch_request()\n",
      "         ^^^^^^^^^^^^^^^^^^^^^^^\n",
      "  File \"/Users/ajain/Documents/code_venvs/pmg_tutorials/lib/python3.11/site-packages/flask/app.py\", line 865, in dispatch_request\n",
      "    return self.ensure_sync(self.view_functions[rule.endpoint])(**view_args)  # type: ignore[no-any-return]\n",
      "           ^^^^^^^^^^^^^^^^^^^^^^^^^^^^^^^^^^^^^^^^^^^^^^^^^^^^^^^^^^^^^^^^^\n",
      "  File \"/Users/ajain/Documents/code_venvs/pmg_tutorials/lib/python3.11/site-packages/dash/dash.py\", line 752, in serve_layout\n",
      "    to_json(layout),\n",
      "    ^^^^^^^^^^^^^^^\n",
      "  File \"/Users/ajain/Documents/code_venvs/pmg_tutorials/lib/python3.11/site-packages/dash/_utils.py\", line 26, in to_json\n",
      "    return to_json_plotly(value)\n",
      "           ^^^^^^^^^^^^^^^^^^^^^\n",
      "  File \"/Users/ajain/Documents/code_venvs/pmg_tutorials/lib/python3.11/site-packages/plotly/io/_json.py\", line 165, in to_json_plotly\n",
      "    cleaned = clean_to_json_compatible(\n",
      "              ^^^^^^^^^^^^^^^^^^^^^^^^^\n",
      "  File \"/Users/ajain/Documents/code_venvs/pmg_tutorials/lib/python3.11/site-packages/plotly/io/_json.py\", line 489, in clean_to_json_compatible\n",
      "    return {k: clean_to_json_compatible(v, **kwargs) for k, v in obj.items()}\n",
      "           ^^^^^^^^^^^^^^^^^^^^^^^^^^^^^^^^^^^^^^^^^^^^^^^^^^^^^^^^^^^^^^^^^^\n",
      "  File \"/Users/ajain/Documents/code_venvs/pmg_tutorials/lib/python3.11/site-packages/plotly/io/_json.py\", line 489, in <dictcomp>\n",
      "    return {k: clean_to_json_compatible(v, **kwargs) for k, v in obj.items()}\n",
      "               ^^^^^^^^^^^^^^^^^^^^^^^^^^^^^^^^^^^^^\n",
      "  File \"/Users/ajain/Documents/code_venvs/pmg_tutorials/lib/python3.11/site-packages/plotly/io/_json.py\", line 489, in clean_to_json_compatible\n",
      "    return {k: clean_to_json_compatible(v, **kwargs) for k, v in obj.items()}\n",
      "           ^^^^^^^^^^^^^^^^^^^^^^^^^^^^^^^^^^^^^^^^^^^^^^^^^^^^^^^^^^^^^^^^^^\n",
      "  File \"/Users/ajain/Documents/code_venvs/pmg_tutorials/lib/python3.11/site-packages/plotly/io/_json.py\", line 489, in <dictcomp>\n",
      "    return {k: clean_to_json_compatible(v, **kwargs) for k, v in obj.items()}\n",
      "               ^^^^^^^^^^^^^^^^^^^^^^^^^^^^^^^^^^^^^\n",
      "  File \"/Users/ajain/Documents/code_venvs/pmg_tutorials/lib/python3.11/site-packages/plotly/io/_json.py\", line 493, in clean_to_json_compatible\n",
      "    return [clean_to_json_compatible(v, **kwargs) for v in obj]\n",
      "           ^^^^^^^^^^^^^^^^^^^^^^^^^^^^^^^^^^^^^^^^^^^^^^^^^^^^\n",
      "  File \"/Users/ajain/Documents/code_venvs/pmg_tutorials/lib/python3.11/site-packages/plotly/io/_json.py\", line 493, in <listcomp>\n",
      "    return [clean_to_json_compatible(v, **kwargs) for v in obj]\n",
      "            ^^^^^^^^^^^^^^^^^^^^^^^^^^^^^^^^^^^^^\n",
      "  File \"/Users/ajain/Documents/code_venvs/pmg_tutorials/lib/python3.11/site-packages/plotly/io/_json.py\", line 532, in clean_to_json_compatible\n",
      "    if obj is pd.NaT:\n",
      "              ^^^^^^\n",
      "AttributeError: partially initialized module 'pandas' has no attribute 'NaT' (most likely due to a circular import)\n",
      "[2024-09-12 15:25:44,031] ERROR in app: Exception on /_dash-layout [GET]\n",
      "Traceback (most recent call last):\n",
      "  File \"/Users/ajain/Documents/code_venvs/pmg_tutorials/lib/python3.11/site-packages/flask/app.py\", line 1473, in wsgi_app\n",
      "    response = self.full_dispatch_request()\n",
      "               ^^^^^^^^^^^^^^^^^^^^^^^^^^^^\n",
      "  File \"/Users/ajain/Documents/code_venvs/pmg_tutorials/lib/python3.11/site-packages/flask/app.py\", line 882, in full_dispatch_request\n",
      "    rv = self.handle_user_exception(e)\n",
      "         ^^^^^^^^^^^^^^^^^^^^^^^^^^^^^\n",
      "  File \"/Users/ajain/Documents/code_venvs/pmg_tutorials/lib/python3.11/site-packages/flask/app.py\", line 880, in full_dispatch_request\n",
      "    rv = self.dispatch_request()\n",
      "         ^^^^^^^^^^^^^^^^^^^^^^^\n",
      "  File \"/Users/ajain/Documents/code_venvs/pmg_tutorials/lib/python3.11/site-packages/flask/app.py\", line 865, in dispatch_request\n",
      "    return self.ensure_sync(self.view_functions[rule.endpoint])(**view_args)  # type: ignore[no-any-return]\n",
      "           ^^^^^^^^^^^^^^^^^^^^^^^^^^^^^^^^^^^^^^^^^^^^^^^^^^^^^^^^^^^^^^^^^\n",
      "  File \"/Users/ajain/Documents/code_venvs/pmg_tutorials/lib/python3.11/site-packages/dash/dash.py\", line 752, in serve_layout\n",
      "    to_json(layout),\n",
      "    ^^^^^^^^^^^^^^^\n",
      "  File \"/Users/ajain/Documents/code_venvs/pmg_tutorials/lib/python3.11/site-packages/dash/_utils.py\", line 26, in to_json\n",
      "    return to_json_plotly(value)\n",
      "           ^^^^^^^^^^^^^^^^^^^^^\n",
      "  File \"/Users/ajain/Documents/code_venvs/pmg_tutorials/lib/python3.11/site-packages/plotly/io/_json.py\", line 165, in to_json_plotly\n",
      "    cleaned = clean_to_json_compatible(\n",
      "              ^^^^^^^^^^^^^^^^^^^^^^^^^\n",
      "  File \"/Users/ajain/Documents/code_venvs/pmg_tutorials/lib/python3.11/site-packages/plotly/io/_json.py\", line 489, in clean_to_json_compatible\n",
      "    return {k: clean_to_json_compatible(v, **kwargs) for k, v in obj.items()}\n",
      "           ^^^^^^^^^^^^^^^^^^^^^^^^^^^^^^^^^^^^^^^^^^^^^^^^^^^^^^^^^^^^^^^^^^\n",
      "  File \"/Users/ajain/Documents/code_venvs/pmg_tutorials/lib/python3.11/site-packages/plotly/io/_json.py\", line 489, in <dictcomp>\n",
      "    return {k: clean_to_json_compatible(v, **kwargs) for k, v in obj.items()}\n",
      "               ^^^^^^^^^^^^^^^^^^^^^^^^^^^^^^^^^^^^^\n",
      "  File \"/Users/ajain/Documents/code_venvs/pmg_tutorials/lib/python3.11/site-packages/plotly/io/_json.py\", line 489, in clean_to_json_compatible\n",
      "    return {k: clean_to_json_compatible(v, **kwargs) for k, v in obj.items()}\n",
      "           ^^^^^^^^^^^^^^^^^^^^^^^^^^^^^^^^^^^^^^^^^^^^^^^^^^^^^^^^^^^^^^^^^^\n",
      "  File \"/Users/ajain/Documents/code_venvs/pmg_tutorials/lib/python3.11/site-packages/plotly/io/_json.py\", line 489, in <dictcomp>\n",
      "    return {k: clean_to_json_compatible(v, **kwargs) for k, v in obj.items()}\n",
      "               ^^^^^^^^^^^^^^^^^^^^^^^^^^^^^^^^^^^^^\n",
      "  File \"/Users/ajain/Documents/code_venvs/pmg_tutorials/lib/python3.11/site-packages/plotly/io/_json.py\", line 493, in clean_to_json_compatible\n",
      "    return [clean_to_json_compatible(v, **kwargs) for v in obj]\n",
      "           ^^^^^^^^^^^^^^^^^^^^^^^^^^^^^^^^^^^^^^^^^^^^^^^^^^^^\n",
      "  File \"/Users/ajain/Documents/code_venvs/pmg_tutorials/lib/python3.11/site-packages/plotly/io/_json.py\", line 493, in <listcomp>\n",
      "    return [clean_to_json_compatible(v, **kwargs) for v in obj]\n",
      "            ^^^^^^^^^^^^^^^^^^^^^^^^^^^^^^^^^^^^^\n",
      "  File \"/Users/ajain/Documents/code_venvs/pmg_tutorials/lib/python3.11/site-packages/plotly/io/_json.py\", line 532, in clean_to_json_compatible\n",
      "    if obj is pd.NaT:\n",
      "              ^^^^^^\n",
      "AttributeError: partially initialized module 'pandas' has no attribute 'NaT' (most likely due to a circular import)\n"
     ]
    },
    {
     "name": "stderr",
     "output_type": "stream",
     "text": [
      "[2024-09-12 15:25:44,246] ERROR in app: Exception on /_dash-update-component [POST]\n",
      "Traceback (most recent call last):\n",
      "  File \"/Users/ajain/Documents/code_venvs/pmg_tutorials/lib/python3.11/site-packages/flask/app.py\", line 1473, in wsgi_app\n",
      "    response = self.full_dispatch_request()\n",
      "               ^^^^^^^^^^^^^^^^^^^^^^^^^^^^\n",
      "  File \"/Users/ajain/Documents/code_venvs/pmg_tutorials/lib/python3.11/site-packages/flask/app.py\", line 882, in full_dispatch_request\n",
      "    rv = self.handle_user_exception(e)\n",
      "         ^^^^^^^^^^^^^^^^^^^^^^^^^^^^^\n",
      "  File \"/Users/ajain/Documents/code_venvs/pmg_tutorials/lib/python3.11/site-packages/flask/app.py\", line 880, in full_dispatch_request\n",
      "    rv = self.dispatch_request()\n",
      "         ^^^^^^^^^^^^^^^^^^^^^^^\n",
      "  File \"/Users/ajain/Documents/code_venvs/pmg_tutorials/lib/python3.11/site-packages/flask/app.py\", line 865, in dispatch_request\n",
      "    return self.ensure_sync(self.view_functions[rule.endpoint])(**view_args)  # type: ignore[no-any-return]\n",
      "           ^^^^^^^^^^^^^^^^^^^^^^^^^^^^^^^^^^^^^^^^^^^^^^^^^^^^^^^^^^^^^^^^^\n",
      "  File \"/Users/ajain/Documents/code_venvs/pmg_tutorials/lib/python3.11/site-packages/dash/dash.py\", line 1373, in dispatch\n",
      "    ctx.run(\n",
      "  File \"/Users/ajain/Documents/code_venvs/pmg_tutorials/lib/python3.11/site-packages/dash/_callback.py\", line 520, in add_context\n",
      "    jsonResponse = to_json(response)\n",
      "                   ^^^^^^^^^^^^^^^^^\n",
      "  File \"/Users/ajain/Documents/code_venvs/pmg_tutorials/lib/python3.11/site-packages/dash/_utils.py\", line 26, in to_json\n",
      "    return to_json_plotly(value)\n",
      "           ^^^^^^^^^^^^^^^^^^^^^\n",
      "  File \"/Users/ajain/Documents/code_venvs/pmg_tutorials/lib/python3.11/site-packages/plotly/io/_json.py\", line 165, in to_json_plotly\n",
      "    cleaned = clean_to_json_compatible(\n",
      "              ^^^^^^^^^^^^^^^^^^^^^^^^^\n",
      "  File \"/Users/ajain/Documents/code_venvs/pmg_tutorials/lib/python3.11/site-packages/plotly/io/_json.py\", line 489, in clean_to_json_compatible\n",
      "    return {k: clean_to_json_compatible(v, **kwargs) for k, v in obj.items()}\n",
      "           ^^^^^^^^^^^^^^^^^^^^^^^^^^^^^^^^^^^^^^^^^^^^^^^^^^^^^^^^^^^^^^^^^^\n",
      "  File \"/Users/ajain/Documents/code_venvs/pmg_tutorials/lib/python3.11/site-packages/plotly/io/_json.py\", line 489, in <dictcomp>\n",
      "    return {k: clean_to_json_compatible(v, **kwargs) for k, v in obj.items()}\n",
      "               ^^^^^^^^^^^^^^^^^^^^^^^^^^^^^^^^^^^^^\n",
      "  File \"/Users/ajain/Documents/code_venvs/pmg_tutorials/lib/python3.11/site-packages/plotly/io/_json.py\", line 489, in clean_to_json_compatible\n",
      "    return {k: clean_to_json_compatible(v, **kwargs) for k, v in obj.items()}\n",
      "           ^^^^^^^^^^^^^^^^^^^^^^^^^^^^^^^^^^^^^^^^^^^^^^^^^^^^^^^^^^^^^^^^^^\n",
      "  File \"/Users/ajain/Documents/code_venvs/pmg_tutorials/lib/python3.11/site-packages/plotly/io/_json.py\", line 489, in <dictcomp>\n",
      "    return {k: clean_to_json_compatible(v, **kwargs) for k, v in obj.items()}\n",
      "               ^^^^^^^^^^^^^^^^^^^^^^^^^^^^^^^^^^^^^\n",
      "  File \"/Users/ajain/Documents/code_venvs/pmg_tutorials/lib/python3.11/site-packages/plotly/io/_json.py\", line 489, in clean_to_json_compatible\n",
      "    return {k: clean_to_json_compatible(v, **kwargs) for k, v in obj.items()}\n",
      "           ^^^^^^^^^^^^^^^^^^^^^^^^^^^^^^^^^^^^^^^^^^^^^^^^^^^^^^^^^^^^^^^^^^\n",
      "  File \"/Users/ajain/Documents/code_venvs/pmg_tutorials/lib/python3.11/site-packages/plotly/io/_json.py\", line 489, in <dictcomp>\n",
      "    return {k: clean_to_json_compatible(v, **kwargs) for k, v in obj.items()}\n",
      "               ^^^^^^^^^^^^^^^^^^^^^^^^^^^^^^^^^^^^^\n",
      "  File \"/Users/ajain/Documents/code_venvs/pmg_tutorials/lib/python3.11/site-packages/plotly/io/_json.py\", line 532, in clean_to_json_compatible\n",
      "    if obj is pd.NaT:\n",
      "              ^^^^^^\n",
      "AttributeError: partially initialized module 'pandas' has no attribute 'NaT' (most likely due to a circular import)\n"
     ]
    }
   ],
   "source": [
    "# Let's add a functional group\n",
    "# Define the functional group to substitute (methyl group - CH3)\n",
    "sub = Molecule([\"X\", \"C\", \"H\", \"H\", \"H\"], [\n",
    "    [0.000000, 0.000000, 1.08],\n",
    "    [0.000000, 0.000000, 0.000000],\n",
    "    [1.026719, 0.000000, -0.363000],\n",
    "    [-0.513360, -0.889165, -0.363000],\n",
    "    [-0.513360, 0.889165, -0.363000],\n",
    "])\n",
    "\n",
    "subs_mol = molecule.copy().substitute(3, sub)\n",
    "subs_mol\n",
    "\n"
   ]
  },
  {
   "cell_type": "code",
   "execution_count": 26,
   "id": "2770536d",
   "metadata": {
    "slideshow": {
     "slide_type": "slide"
    }
   },
   "outputs": [
    {
     "data": {
      "text/plain": [
       "'10\\nH6 C3 O1\\nH 2.047100 0.102900 0.725100\\nC 1.437600 0.081800 -0.187500\\nH 1.664300 0.989400 -0.762000\\nH 1.761600 -0.779600 -0.786000\\nC -0.037700 -0.003500 0.096800\\nO -0.479700 -0.044600 1.229400\\nC -0.929400 -0.034500 -1.115000\\nH -0.784400 0.870300 -1.719500\\nH -0.685600 -0.898600 -1.746700\\nH -1.994800 -0.097900 -0.858700'"
      ]
     },
     "execution_count": 26,
     "metadata": {},
     "output_type": "execute_result"
    }
   ],
   "source": [
    "# Export a Molecule to xyz file format\n",
    "molecule.to('output.xyz', fmt=\"xyz\")  # this writes a file in addition to returning the raw string\n",
    "\n",
    "# Advanced note - if you install the OpenBabel pymatgen adapter, you can access many more file formats"
   ]
  },
  {
   "cell_type": "code",
   "execution_count": 27,
   "id": "dc25b00f",
   "metadata": {
    "scrolled": false,
    "slideshow": {
     "slide_type": "slide"
    }
   },
   "outputs": [
    {
     "data": {
      "text/html": [
       "\n",
       "        <iframe\n",
       "            width=\"100%\"\n",
       "            height=\"650\"\n",
       "            src=\"http://127.0.0.1:8884/\"\n",
       "            frameborder=\"0\"\n",
       "            allowfullscreen\n",
       "            \n",
       "        ></iframe>\n",
       "        "
      ],
      "text/plain": [
       "<IPython.lib.display.IFrame at 0x140858a90>"
      ]
     },
     "metadata": {},
     "output_type": "display_data"
    }
   ],
   "source": [
    "# Let's add some bonds\n",
    "\n",
    "# Create a CovalentBondNN object\n",
    "nn = CovalentBondNN()\n",
    "\n",
    "# Generate the MoleculeGraph\n",
    "mol_graph = MoleculeGraph.from_local_env_strategy(molecule, nn)\n",
    "\n",
    "mol_graph"
   ]
  },
  {
   "cell_type": "markdown",
   "id": "28f438dd",
   "metadata": {
    "slideshow": {
     "slide_type": "slide"
    }
   },
   "source": [
    "# More code examples and getting help\n",
    "\n",
    "* Congratulations, you now know the fundamentals of the ``Structure`` and ``Molecule`` objects!\n",
    "* This is the foundation of most pymatgen usage, and understanding these objects will go long way towards learning other pymatgen capabilities\n",
    "* Often, users want additional code examples or need additional help. The next slides show additional ways to do so.\n",
    "\n"
   ]
  },
  {
   "cell_type": "markdown",
   "id": "6033b644",
   "metadata": {
    "slideshow": {
     "slide_type": "slide"
    }
   },
   "source": [
    "# Pymatgen unit tests as example code\n",
    "\n",
    "* A \"hidden\" set of pymatgen usage examples are in the unit tests of pymatgen, which are present if you download pymatgen from Github\n",
    "* Because pymatgen has extensive coverage of its functions in unit tests, chances are that you can find a usage example of your desired function within the unit tests\n",
    "\n",
    "![alt text](graphics/pmg_tests.png \"Example of worked code examples in pymatgen unit tests\")\n"
   ]
  },
  {
   "cell_type": "markdown",
   "id": "d8f7c018",
   "metadata": {
    "slideshow": {
     "slide_type": "slide"
    }
   },
   "source": [
    "# Large Language Models\n",
    "\n",
    "* Large language models like ChatGPT and Github Copilot are often capable of generating correct pymatgen syntax\n",
    "* However, the outputs of these tools should still be checked as they still can produce incorrect code\n",
    "\n",
    "![alt text](graphics/chatgpt.png \"ChatGPT help example\")"
   ]
  },
  {
   "cell_type": "markdown",
   "id": "75939daa",
   "metadata": {
    "slideshow": {
     "slide_type": "slide"
    }
   },
   "source": [
    "# Matsci.org help forum\n",
    "\n",
    "* There is also a help channel dedicated to pymatgen at www.matsci.org\n",
    "\n",
    "![alt text](graphics/matsci_discourse.png \"Screenshot of pymatgen matsci.org page\")\n"
   ]
  }
 ],
 "metadata": {
  "celltoolbar": "Slideshow",
  "kernelspec": {
   "display_name": "Python 3 (ipykernel)",
   "language": "python",
   "name": "python3"
  },
  "language_info": {
   "codemirror_mode": {
    "name": "ipython",
    "version": 3
   },
   "file_extension": ".py",
   "mimetype": "text/x-python",
   "name": "python",
   "nbconvert_exporter": "python",
   "pygments_lexer": "ipython3",
   "version": "3.11.4"
  }
 },
 "nbformat": 4,
 "nbformat_minor": 5
}
