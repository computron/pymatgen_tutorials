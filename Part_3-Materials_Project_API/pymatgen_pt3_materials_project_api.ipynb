{
 "cells": [
  {
   "cell_type": "code",
   "execution_count": null,
   "id": "1f0879d7",
   "metadata": {
    "slideshow": {
     "slide_type": "skip"
    }
   },
   "outputs": [],
   "source": [
    "import warnings\n",
    "warnings.filterwarnings('ignore')"
   ]
  },
  {
   "cell_type": "markdown",
   "id": "f8a58e40",
   "metadata": {
    "slideshow": {
     "slide_type": "skip"
    }
   },
   "source": [
    "# About this notebook\n",
    "\n",
    "* Author: Anubhav Jain\n",
    "* Github repo: https://github.com/computron/pymatgen_tutorials\n",
    "* YouTube video: https://youtu.be/e4hSkv1Ghbk\n",
    "\n",
    "## Important update!\n",
    "\n",
    "Pymatgen has decided to part ways with using mp-api as of 4/16/2025. This notebook has been updated to use mp-api directly instead of through pymatgen. More information in the v2025.4.16 update here: https://pymatgen.org/CHANGES.html"
   ]
  },
  {
   "cell_type": "markdown",
   "id": "25c9b0b5",
   "metadata": {
    "slideshow": {
     "slide_type": "slide"
    }
   },
   "source": [
    "![alt text](graphics/title.png \"Learn Pymatgen Part 3: Getting Data with the Materials Project API\")"
   ]
  },
  {
   "cell_type": "markdown",
   "id": "c81f40fb",
   "metadata": {
    "slideshow": {
     "slide_type": "slide"
    }
   },
   "source": [
    "# What is the Materials Project API?\n",
    "\n",
    "* The Materials Project (https://www.materialsproject.org) is a **free** web site / database / design tool that contains  high quality simulated properties of various materials via density functional theory calculations.\n",
    "* The API allows users to download the various data sets via computer programs such as ``pymatgen``.\n",
    "    * Note: the API is written in a RESTful manner which means that the API is not tied to any one programming language or software library.\n",
    "* Common uses of the data are to:\n",
    "    * find materials with specific properties\n",
    "    * help support a scientific analysis with theoretical data\n",
    "    * use the data to train a machine learning model\n",
    "\n",
    "    \n",
    "\n",
    "\n",
    "  "
   ]
  },
  {
   "cell_type": "markdown",
   "id": "6f8f77ca",
   "metadata": {
    "slideshow": {
     "slide_type": "slide"
    }
   },
   "source": [
    "# What data is available through the Materials Project API?\n",
    "* At the time of this tutorial (August 2024), the data set contains:\n",
    "    * &gt;150,000 materials structures\n",
    "    * &gt;170,000 molecules structures\n",
    "    * &gt;70,000 electronic band structures / density of states\n",
    "    * &gt;50,000 x-ray absorption spectra\n",
    "    * &gt;10,000 elastic tensors\n",
    "    * &gt;7,000 dielectric tensors\n",
    "    * &gt;3,000 piezoelectric tensors\n",
    "    * &gt;1,500 phonon band structures / phonon DOS\n",
    "    * (among other properties ...)"
   ]
  },
  {
   "cell_type": "markdown",
   "id": "03158896",
   "metadata": {
    "slideshow": {
     "slide_type": "slide"
    }
   },
   "source": [
    "# Optional note #1: New API vs legacy API\n",
    "\n",
    "* As of the  time of this tutorial (August 2024), there are currently **two** APIs for the Materials Project.\n",
    "* The new API allows you to access the most recent data sets, offers more features, and will be more future-proof to learn.\n",
    "* This tutorial will only cover the **new** API. It will **not** cover the legacy API.\n",
    "\n",
    "![alt text](graphics/api_comparison.png \"Comparison of old and new Materials Project API\")\n",
    "\n",
    "\n",
    "\n"
   ]
  },
  {
   "cell_type": "markdown",
   "id": "7e06bcf7",
   "metadata": {
    "slideshow": {
     "slide_type": "slide"
    }
   },
   "source": [
    "# Optional note #2: pymatgen's MPRester and the new API\n",
    "\n",
    "\n",
    "* There has been a bit of a messy history between the Materials Project API being accessed through pymatgen or through a dedicated library called ``mp-api``.\n",
    "* As of 4/16/2025, pymatgen no longer supports ``mp-api`` use. See changelog: https://pymatgen.org/CHANGES.html\n",
    "* This tutorial has therefore been updated to import and use ``mp-api`` directly without involving pymatgen. pymatgen maintains its own built-in functionality for querying the Materials Project API, but this is not covered in this tutorial."
   ]
  },
  {
   "cell_type": "markdown",
   "id": "74d7f1eb",
   "metadata": {
    "slideshow": {
     "slide_type": "slide"
    }
   },
   "source": [
    "# Required set up: Getting and setting your API Key\n",
    "\n",
    "* You can get your API key at: https://next-gen.materialsproject.org/api"
   ]
  },
  {
   "cell_type": "markdown",
   "id": "94f90763",
   "metadata": {
    "slideshow": {
     "slide_type": "slide"
    }
   },
   "source": [
    "# Required set up: installing the ``mp-api`` library\n",
    "\n",
    "* **To use the new API, you should install the ``mp-api`` library by running the following command**:\n",
    "    * ``pip install mp-api``\n",
    "* If you do not install ``mp-api``, pymatgen still offers built-in functionality for using the Materials Project API. However, that will not be covered in this tutorial.\n"
   ]
  },
  {
   "cell_type": "markdown",
   "id": "b8b46edd",
   "metadata": {
    "slideshow": {
     "slide_type": "slide"
    }
   },
   "source": [
    "# Importing MPRester\n",
    "\n",
    "* If your set up is correct, you should be able to import ``MPRester`` and the type of object you get should be ``mp_api.client.mprester.MPRester``.\n",
    "* Note that when creating the ``MPRester`` object, you either need to supply your API key or configure your API key using the pymatgen configuration file (better for hiding your key from others)\n",
    "    * Briefly, you can run the following command to enter your API key into your configuration file: ``pmg config --add PMG_MAPI_KEY <USER_API_KEY>``\n",
    "    * Full instructions on configuring your API key: https://pymatgen.org/usage.html"
   ]
  },
  {
   "cell_type": "code",
   "execution_count": null,
   "id": "f7f6f8d0",
   "metadata": {
    "slideshow": {
     "slide_type": "fragment"
    }
   },
   "outputs": [],
   "source": [
    "from mp_api.client import MPRester\n",
    "mpr = MPRester()  # use this line if you set up the configuration file\n",
    "# mpr = MPRester(\"YOUR_API_KEY\")  # use this line to enter your API key manually\n",
    "\n",
    "print(type(mpr)) # should be 'mp_api.client.mprester.MPRester'"
   ]
  },
  {
   "cell_type": "markdown",
   "id": "10614e73",
   "metadata": {
    "slideshow": {
     "slide_type": "slide"
    }
   },
   "source": [
    "# Retrieving data using MPRester: built-in convenience functions\n",
    "\n",
    "* MPRester contains many convenience functions for getting many common types of data such as crystal structures\n",
    "* To use these functions, you typically need to know the Materials Project ID (``material_id``) of the material you want data for\n",
    "* You can get the ``material_id`` by browsing the Materials Project web site (www.materialsproject.org) or by performing a search via the API.\n",
    "* We'll demonstrate API searches later, for now we will use some known ``material_id`` values to get data."
   ]
  },
  {
   "cell_type": "code",
   "execution_count": null,
   "id": "1ad2c1ac",
   "metadata": {
    "slideshow": {
     "slide_type": "fragment"
    }
   },
   "outputs": [],
   "source": [
    "# Retrieve the crystal structure for a specific material by its Materials Project ID\n",
    "\n",
    "material_id = \"mp-2534\"  # Example material ID for GaAs\n",
    "\n",
    "# Fetch structure for the material\n",
    "structure = mpr.get_structure_by_material_id(material_id)\n",
    "\n",
    "# Print fetched data\n",
    "print(f\"--Structure:--\\n {structure}\")"
   ]
  },
  {
   "cell_type": "code",
   "execution_count": null,
   "id": "8485def5",
   "metadata": {
    "slideshow": {
     "slide_type": "fragment"
    }
   },
   "outputs": [],
   "source": [
    "# Retrieve the electronic band structure and DOS by the Materials Project ID \n",
    "bs = mpr.get_bandstructure_by_material_id(\"mp-2534\")  # mp-2534 is GaAs\n",
    "dos = mpr.get_dos_by_material_id(\"mp-2534\")\n",
    "\n",
    "# Plot using pymatgen\n",
    "from pymatgen.electronic_structure.plotter import BSDOSPlotter\n",
    "bsp = BSDOSPlotter()\n",
    "ax_bs, ax_dos = bsp.get_plot(bs, dos)"
   ]
  },
  {
   "cell_type": "code",
   "execution_count": null,
   "id": "f71f29b1",
   "metadata": {
    "slideshow": {
     "slide_type": "fragment"
    }
   },
   "outputs": [],
   "source": [
    "# Retrieve the phonon band structure by Materials Project ID\n",
    "pbs = mpr.get_phonon_bandstructure_by_material_id(\"mp-406\")  # mp-406 is CdTe\n",
    "\n",
    "# Plot using pymatgen\n",
    "from pymatgen.phonon.plotter import PhononBSPlotter\n",
    "plotter = PhononBSPlotter(pbs)\n",
    "plt = plotter.get_plot()"
   ]
  },
  {
   "cell_type": "code",
   "execution_count": null,
   "id": "d72b1cab",
   "metadata": {
    "slideshow": {
     "slide_type": "fragment"
    }
   },
   "outputs": [],
   "source": [
    "# Get the Wulff shape of a material (currently available for selected elements only)\n",
    "ws = mpr.get_wulff_shape(\"mp-135\")  # mp-135 is Li\n",
    "ws.get_plot()"
   ]
  },
  {
   "cell_type": "markdown",
   "id": "c4db3764",
   "metadata": {
    "slideshow": {
     "slide_type": "slide"
    }
   },
   "source": [
    "# Using Sub-Resters for Additional Functionality\n",
    "\n",
    "* The built-in convenience functions of ``MPRester`` are just a small fraction of the functionality available through the Materials Project REST API\n",
    "* To access other functions and data as well as to search for materials, you need to use one of the many \"Sub-Resters\" of MPRester\n",
    "* Each \"Sub-Rester\" helps retrieve a particular type of data from the Materials Project using one of the REST API endpoints\n",
    "    * The API endpoints are listed here: https://next-gen.materialsproject.org/api#accessing-data\n",
    "    * These API endpoints correspond to the ``suffix`` parameter of the Sub-Rester\n",
    "* Sub-Resters helps parallelize development, maintenance, and testing of the code across these various endpoints\n",
    "    * This greatly helps development and maintenance of the REST API and also helps with data transfer efficiency\n",
    "    * However, it can make usage more difficult for users because you need to find the appropriate Sub-Rester, and you may need to combine information from multiple Sub-Resters to accomplish your goal\n",
    "\n",
    "![alt text](graphics/subresters.png \"SubResters and API interaction\")"
   ]
  },
  {
   "cell_type": "markdown",
   "id": "f2478322",
   "metadata": {
    "slideshow": {
     "slide_type": "slide"
    }
   },
   "source": [
    "# Example 1: Summary Sub-Rester\n",
    "\n",
    "* One of the most common Sub-Resters you may want to use is the ``SummaryRester``\n",
    "* The ``SummaryRester`` is the closest you get to a \"one-stop-shop\" when searching for materials data. It allows you to search over a variety of different fields and retrieve many kinds of information about a material.\n",
    "\n",
    "![alt text](graphics/SummaryRester.png \"Diagram of the SummaryRester\")"
   ]
  },
  {
   "cell_type": "code",
   "execution_count": null,
   "id": "423edbd7",
   "metadata": {
    "slideshow": {
     "slide_type": "fragment"
    }
   },
   "outputs": [],
   "source": [
    "summary_subrester = mpr.materials.summary  # Sub-Resters are usually attributes of MPRester\n",
    "\n",
    "results = summary_subrester.search(elements=[\"Si\", \"O\"], # Si & O are required, but other elements also allowed\n",
    "                                   exclude_elements=[\"Ca\"], # no Calcium allowed\n",
    "                                   num_elements=3, # 3 unique elements, i.e., ternaries\n",
    "                                   band_gap=(0.5, 1.0))  # band gap from 0.5 - 1.0 eV\n",
    "\n",
    "print(f\"The number of returned materials is: {len(results)}\")\n",
    "print(\"--First material (SummaryDoc)--\")\n",
    "print(results[0])  # This is a SummaryDoc object for this Rester"
   ]
  },
  {
   "cell_type": "code",
   "execution_count": null,
   "id": "9bcba364",
   "metadata": {
    "slideshow": {
     "slide_type": "fragment"
    }
   },
   "outputs": [],
   "source": [
    "# Accessing attributes of the SummaryDoc document\n",
    "print(f\"--Structure:--\\n {results[0].structure}\")\n",
    "print(f\"Band gap: {results[0].band_gap}\")"
   ]
  },
  {
   "cell_type": "code",
   "execution_count": null,
   "id": "4e027842",
   "metadata": {
    "scrolled": true,
    "slideshow": {
     "slide_type": "slide"
    }
   },
   "outputs": [],
   "source": [
    "# Being data-efficient by restricting 'fields'\n",
    "\n",
    "# This will result in faster queries and less data transfer\n",
    "results = mpr.materials.summary.search(elements=[\"Si\", \"O\"], \n",
    "                                       num_elements=3,\n",
    "                                       exclude_elements=[\"Ca\"], # no Calcium allowed\n",
    "                                       band_gap=(0.5, 1.0),\n",
    "                                       fields=[\"material_id\",  # We will just retrieve the data in these fields\n",
    "                                               \"band_gap\", \n",
    "                                               \"symmetry\",\n",
    "                                               \"composition\",\n",
    "                                               \"origins\"])\n",
    "print(results[0])"
   ]
  },
  {
   "cell_type": "code",
   "execution_count": null,
   "id": "a8932c5a",
   "metadata": {
    "slideshow": {
     "slide_type": "slide"
    }
   },
   "outputs": [],
   "source": [
    "# Getting the individual calculations associated with certain properties - these are called \"Tasks\"\n",
    "# Note that this is not complete, so to get the origins of other properties you may need to use the Sub-Rester for that property\n",
    "print(results[0].origins)"
   ]
  },
  {
   "cell_type": "markdown",
   "id": "703966f8",
   "metadata": {
    "slideshow": {
     "slide_type": "slide"
    }
   },
   "source": [
    "# Sub-Rester Example 2: Task\n",
    "\n",
    "* Recall that a single material may have many calculations (Tasks) associated with it, and the overall data from a material is combination of data taken from several Tasks.\n",
    "* The ``TaskRester`` allows you to look up the details of an individual calculation, including input parameters and outputs\n",
    "* It also has a convenience function to get the trajectory of a calculation (all steps in a structure relaxation)\n",
    "\n",
    "\n",
    "![alt text](graphics/TaskRester.png \"Diagram of the TaskRester\")"
   ]
  },
  {
   "cell_type": "code",
   "execution_count": null,
   "id": "f942fced",
   "metadata": {
    "slideshow": {
     "slide_type": "fragment"
    }
   },
   "outputs": [],
   "source": [
    "results = mpr.materials.tasks.search(task_ids=[\"mp-1792681\"])  # this is a \"static\" calculation\n",
    "\n",
    "print(\"--input.incar--\")\n",
    "print(results[0].input.parameters)\n",
    "print(\"--output.structure--\")\n",
    "print(results[0].output.structure)\n",
    "print(\"--output.forces--\")\n",
    "print(results[0].output.forces)\n",
    "print(\"--output.energy--\")\n",
    "print(results[0].output.energy)\n",
    "\n",
    "# note: more information is in the 'calcs_reversed' key, but not demo'ed here\n",
    "print(\"--input--\")\n",
    "print(results[0].calcs_reversed[0].input)\n",
    "print(\"--output--\")\n",
    "print(results[0].calcs_reversed[0].output)"
   ]
  },
  {
   "cell_type": "code",
   "execution_count": null,
   "id": "0b929494",
   "metadata": {
    "slideshow": {
     "slide_type": "fragment"
    }
   },
   "outputs": [],
   "source": [
    "traj = mpr.materials.tasks.get_trajectory(\"mp-19017\")  # example of a custom function in a SubRester\n",
    "print(traj[0])  # the entire relaxation trajectory as pymatgen.core.trajectory.Trajectory.as_dict()"
   ]
  },
  {
   "cell_type": "markdown",
   "id": "40941662",
   "metadata": {
    "slideshow": {
     "slide_type": "slide"
    }
   },
   "source": [
    "# Sub-Rester Example 3: Elasticity\n",
    "\n",
    "* Many materials properties have their own Sub-Rester associated with them, which allows you to search on those properties\n",
    "* For example, to access the full elastic tensor and derived quantities such as sound velocity estimated from the elastic constants, one would use the ``ElasticityRester``\n",
    "\n",
    "![alt text](graphics/ElasticityRester.png \"Diagram of the ElasticityRester\")\n",
    "\n"
   ]
  },
  {
   "cell_type": "code",
   "execution_count": null,
   "id": "d0543d5b",
   "metadata": {
    "slideshow": {
     "slide_type": "fragment"
    }
   },
   "outputs": [],
   "source": [
    "elasticity = mpr.elasticity.search(\"mp-2534\")[0]  # mp-2534 is GaAs\n",
    "print(elasticity)"
   ]
  },
  {
   "cell_type": "code",
   "execution_count": null,
   "id": "7c48b603",
   "metadata": {},
   "outputs": [],
   "source": [
    "print(f\"--elastic tensor--\\n: {elasticity.elastic_tensor}\")\n",
    "print(f\"--elastic-constant-derived sound velocity--\\n {elasticity.sound_velocity}\")\n",
    "\n",
    "# Note that one needs context for the data\n",
    "# Below is NOT the thermal conductivity of crystalline GaAs but rather the glassy limit\n",
    "print(f\"--elastic-constant-derived glassy limit of thermal conductivity--\\n {elasticity.thermal_conductivity}\")"
   ]
  },
  {
   "cell_type": "markdown",
   "id": "3ed555ca",
   "metadata": {
    "slideshow": {
     "slide_type": "slide"
    }
   },
   "source": [
    "# Advanced searches: using multiple Resters\n",
    "\n",
    "* Sometimes, you are not able to perform the query or get the data you want using a single Sub-Rester\n",
    "* In this example, we want to search using both band gap and the total static dielectric constant, and get detailed data on both properties\n",
    "* In that case, you need to merge information from multiple Sub-Resters\n",
    "* A procedure for doing this is demonstrated next\n",
    "![alt text](graphics/nested_search.png \"Nesting search using multiple Resters\")"
   ]
  },
  {
   "cell_type": "code",
   "execution_count": null,
   "id": "3bf6df8a",
   "metadata": {
    "slideshow": {
     "slide_type": "fragment"
    }
   },
   "outputs": [],
   "source": [
    "from emmet.core.summary import HasProps\n",
    "\n",
    "# Use SummaryRester for part 1 of search\n",
    "search_1 = mpr.materials.summary.search(has_props=[HasProps.dielectric], \n",
    "                                        band_gap=[1.5, 3], \n",
    "                                        elements=[\"O\"], \n",
    "                                        fields=[\"material_id\", \"band_gap\"])\n",
    "search_1_data_dict = {x.material_id: x for x in search_1}\n",
    "search_1_mpids = search_1_data_dict.keys()\n",
    "\n",
    "# Use DielectricRester for part 2 of search\n",
    "search_2 = mpr.materials.dielectric.search(material_ids=search_1_mpids, \n",
    "                                           e_total=[5, 10], \n",
    "                                           fields=[\"material_id\", \"e_total\", \n",
    "                                                   \"e_ionic\", \"e_electronic\", \n",
    "                                                   \"composition\"])\n",
    "search_2_data_dict = {x.material_id: x for x in search_2}\n",
    "search_2_mpids = search_2_data_dict.keys()\n",
    "\n",
    "# (repeat the above steps for other steps to filter the data as needed)"
   ]
  },
  {
   "cell_type": "code",
   "execution_count": null,
   "id": "45c53708",
   "metadata": {
    "slideshow": {
     "slide_type": "fragment"
    }
   },
   "outputs": [],
   "source": [
    "# Now merge the data\n",
    "from collections import namedtuple\n",
    "MaterialsData = namedtuple(\"MaterialsData\", [\"summary_data\", \"dielectric_data\"])  # container for the data\n",
    "\n",
    "all_data = []\n",
    "for mpid in search_2_mpids:  # only the mpids matching both criteria\n",
    "    all_data.append(MaterialsData(summary_data=search_1_data_dict[mpid], \n",
    "                                  dielectric_data=search_2_data_dict[mpid]))\n",
    "\n",
    "# Note that if you want the band_gap, you need to get it from summary_data.\n",
    "# But if you want the e_total, you need to get it from dielectric_data!\n",
    "print(f\"Number of results: {len(all_data)}\")\n",
    "print(\"----First result properties----\")\n",
    "print(f\"--band gap--\\n {all_data[0].summary_data.band_gap}\")\n",
    "print(f\"--static dielectric constant--\\n{all_data[0].dielectric_data.e_total}\")\n",
    "print(f\"--all summary data retrieved--\\n{all_data[0].summary_data}\")\n",
    "print(f\"--all dielectric data retrieved--\\n{all_data[0].dielectric_data}\")\n"
   ]
  },
  {
   "cell_type": "markdown",
   "id": "ef523a6f",
   "metadata": {
    "slideshow": {
     "slide_type": "slide"
    }
   },
   "source": [
    "# Being faster and more data-efficient with Materials Project\n",
    "\n",
    "Knowing how to be data-efficient when using the REST API is good for several reasons. It is helpful for you because it results in much faster results and lower data/memory usage on your side when conducting analyses. It is also much better for the Materials Project because it avoids unnecessary data transfer costs. There are several things you can do to make your queries faster and more data-efficient:\n",
    "\n",
    "* As already covered, restrict the data returned to the specific fields of interest, to the extent possible:\n",
    "```\n",
    "with MPRester(\"your_api_key_here\") as mpr:\n",
    "    docs = mpr.materials.summary.search(fields=[\"material_id\", \"volume\", \"elements\"])\n",
    "\n",
    "```\n",
    "\n",
    "* If you are just exploring / testing queries and don't want to wait for thousands of results to be retrieved, use ``num_chunks=1`` and ``chunk_size=10`` parameters when calling ``search()`` to limit to 10 example results. This works for all searches with all Resters and avoids unnecessary calls:\n",
    "```\n",
    "with MPRester(\"your_api_key_here\") as mpr:\n",
    "    mpr.summary.search(band_gap=[0,10], num_chunks=1, chunk_size=10)\n",
    "```\n",
    "\n",
    "* If you need to get data for many materials, pass the ``materials_ids`` as a list. This minimizes the number of calls to the API (i.e., don't call ``search()`` thousands of times!):\n",
    "```\n",
    "with MPRester(\"your_api_key_here\") as mpr:\n",
    "    docs = mpr.materials.summary.search(material_ids=[\"mp-149\", \"mp-13\", \"mp-22526\"])\n",
    "```\n",
    "\n",
    "* For more tips, see https://docs.materialsproject.org/downloading-data/using-the-api/tips-for-large-downloads"
   ]
  },
  {
   "cell_type": "markdown",
   "id": "4169588f",
   "metadata": {
    "slideshow": {
     "slide_type": "slide"
    }
   },
   "source": [
    "# More information\n",
    "\n",
    "More information about the Materials Project API can be found in the official docs: https://docs.materialsproject.org/downloading-data/how-do-i-download-the-materials-project-database"
   ]
  }
 ],
 "metadata": {
  "celltoolbar": "Slideshow",
  "kernelspec": {
   "display_name": "Python 3 (ipykernel)",
   "language": "python",
   "name": "python3"
  },
  "language_info": {
   "codemirror_mode": {
    "name": "ipython",
    "version": 3
   },
   "file_extension": ".py",
   "mimetype": "text/x-python",
   "name": "python",
   "nbconvert_exporter": "python",
   "pygments_lexer": "ipython3",
   "version": "3.11.4"
  }
 },
 "nbformat": 4,
 "nbformat_minor": 5
}
