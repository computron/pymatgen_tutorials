{
 "cells": [
  {
   "cell_type": "code",
   "execution_count": 1,
   "id": "1f0879d7",
   "metadata": {
    "slideshow": {
     "slide_type": "skip"
    }
   },
   "outputs": [],
   "source": [
    "import warnings\n",
    "warnings.filterwarnings('ignore')"
   ]
  },
  {
   "cell_type": "markdown",
   "id": "f8a58e40",
   "metadata": {
    "slideshow": {
     "slide_type": "skip"
    }
   },
   "source": [
    "# About this notebook\n",
    "\n",
    "* Author: Anubhav Jain\n",
    "* Github repo: https://github.com/computron/pymatgen_tutorials\n",
    "* YouTube video: https://youtu.be/2-L6lax1DFU"
   ]
  },
  {
   "cell_type": "markdown",
   "id": "25c9b0b5",
   "metadata": {
    "slideshow": {
     "slide_type": "slide"
    }
   },
   "source": [
    "![alt text](graphics/title.png \"Learn Pymatgen Part 4: Structure Transformations, Symmetry Analysis, and Local Environments\")"
   ]
  },
  {
   "cell_type": "markdown",
   "id": "c81f40fb",
   "metadata": {
    "slideshow": {
     "slide_type": "slide"
    }
   },
   "source": [
    "# Structure manipulation and analysis: Transformations, Symmetry, and Local Environment\n",
    "\n",
    "* In part 1 of this tutorial, we covered how to create basic ``Structure`` objects that represent periodic crystal structures\n",
    "* This tutorial will cover some more advanced and powerful techniques:\n",
    "    * Using the **transformations** framework to generate surfaces, doped structures, and more\n",
    "    * Using the **symmetry** package to analyze the symmetry of ``Structure`` objects\n",
    "    * Using the **local_env** and **chemenv** modules to analyze local environments around atoms\n",
    "\n",
    "As in part 1, we will use the ``crystal_toolkit`` library to make the visualizations interactive. Let's get started!  "
   ]
  },
  {
   "cell_type": "code",
   "execution_count": 2,
   "id": "78ad3379",
   "metadata": {
    "slideshow": {
     "slide_type": "fragment"
    }
   },
   "outputs": [],
   "source": [
    "import crystal_toolkit  # for visualizing structures (install using ``pip install crystal-toolkit``)\n",
    "import pymatgen  # pymatgen needs to be installed (v2024.6.10 at time of this tutorial)"
   ]
  },
  {
   "cell_type": "markdown",
   "id": "6f8f77ca",
   "metadata": {
    "slideshow": {
     "slide_type": "slide"
    }
   },
   "source": [
    "# Transformations package\n",
    "\n",
    "The transformations package (``pymatgen.transformations.*``) allows you to make both simple and complex modifications to ``Structure`` objects. For example, pymatgen has implemented transformations that allow you to:\n",
    "* Perturb structures\n",
    "* Easily generate surface structures\n",
    "* Enumerate ordered versions of ``Structure`` objects with site disorder\n",
    "\n",
    "To use the framework, you first create an instance of the the desire transformation object (with your chosen parameters), and then call ``apply_transformation()`` on your desired structure. We'll cover several examples of this!"
   ]
  },
  {
   "cell_type": "code",
   "execution_count": 3,
   "id": "a03cf1e0",
   "metadata": {
    "slideshow": {
     "slide_type": "fragment"
    }
   },
   "outputs": [
    {
     "data": {
      "text/html": [
       "\n",
       "        <iframe\n",
       "            width=\"100%\"\n",
       "            height=\"650\"\n",
       "            src=\"http://127.0.0.1:8884/\"\n",
       "            frameborder=\"0\"\n",
       "            allowfullscreen\n",
       "            \n",
       "        ></iframe>\n",
       "        "
      ],
      "text/plain": [
       "<IPython.lib.display.IFrame at 0x1447df7d0>"
      ]
     },
     "metadata": {},
     "output_type": "display_data"
    }
   ],
   "source": [
    "# Get a test Structure object that we will transform\n",
    "from pymatgen.core import Structure, Lattice\n",
    "structure = Structure.from_file(\"structures/CsCl.json\")\n",
    "structure"
   ]
  },
  {
   "cell_type": "code",
   "execution_count": 4,
   "id": "ba6d2bcf",
   "metadata": {
    "slideshow": {
     "slide_type": "fragment"
    }
   },
   "outputs": [
    {
     "data": {
      "text/html": [
       "\n",
       "        <iframe\n",
       "            width=\"100%\"\n",
       "            height=\"650\"\n",
       "            src=\"http://127.0.0.1:8884/\"\n",
       "            frameborder=\"0\"\n",
       "            allowfullscreen\n",
       "            \n",
       "        ></iframe>\n",
       "        "
      ],
      "text/plain": [
       "<IPython.lib.display.IFrame at 0x1444a5dd0>"
      ]
     },
     "metadata": {},
     "output_type": "display_data"
    },
    {
     "name": "stderr",
     "output_type": "stream",
     "text": [
      "[2024-10-19 17:11:21,312] ERROR in app: Exception on /_dash-component-suites/dash/dash_table/async-highlight.js [GET]\n",
      "Traceback (most recent call last):\n",
      "  File \"/Users/ajain/Documents/code_venvs/pmg_tutorials/lib/python3.11/site-packages/flask/app.py\", line 1473, in wsgi_app\n",
      "    response = self.full_dispatch_request()\n",
      "               ^^^^^^^^^^^^^^^^^^^^^^^^^^^^\n",
      "  File \"/Users/ajain/Documents/code_venvs/pmg_tutorials/lib/python3.11/site-packages/flask/app.py\", line 882, in full_dispatch_request\n",
      "    rv = self.handle_user_exception(e)\n",
      "         ^^^^^^^^^^^^^^^^^^^^^^^^^^^^^\n",
      "  File \"/Users/ajain/Documents/code_venvs/pmg_tutorials/lib/python3.11/site-packages/flask/app.py\", line 880, in full_dispatch_request\n",
      "    rv = self.dispatch_request()\n",
      "         ^^^^^^^^^^^^^^^^^^^^^^^\n",
      "  File \"/Users/ajain/Documents/code_venvs/pmg_tutorials/lib/python3.11/site-packages/flask/app.py\", line 865, in dispatch_request\n",
      "    return self.ensure_sync(self.view_functions[rule.endpoint])(**view_args)  # type: ignore[no-any-return]\n",
      "           ^^^^^^^^^^^^^^^^^^^^^^^^^^^^^^^^^^^^^^^^^^^^^^^^^^^^^^^^^^^^^^^^^\n",
      "  File \"/Users/ajain/Documents/code_venvs/pmg_tutorials/lib/python3.11/site-packages/dash/dash.py\", line 989, in serve_component_suites\n",
      "    _validate.validate_js_path(self.registered_paths, package_name, path_in_pkg)\n",
      "  File \"/Users/ajain/Documents/code_venvs/pmg_tutorials/lib/python3.11/site-packages/dash/_validate.py\", line 382, in validate_js_path\n",
      "    raise exceptions.DependencyException(\n",
      "dash.exceptions.DependencyException: \"dash\" is registered but the path requested is not valid.\n",
      "The path requested: \"dash_table/async-highlight.js\"\n",
      "List of registered paths: defaultdict(<class 'set'>, {'dash': {'deps/react@16.14.0.min.js', 'deps/polyfill@7.12.1.min.js'}})\n",
      "[2024-10-19 17:11:21,313] ERROR in app: Exception on /_dash-component-suites/dash/dash_table/async-table.js [GET]\n",
      "Traceback (most recent call last):\n",
      "  File \"/Users/ajain/Documents/code_venvs/pmg_tutorials/lib/python3.11/site-packages/flask/app.py\", line 1473, in wsgi_app\n",
      "    response = self.full_dispatch_request()\n",
      "               ^^^^^^^^^^^^^^^^^^^^^^^^^^^^\n",
      "  File \"/Users/ajain/Documents/code_venvs/pmg_tutorials/lib/python3.11/site-packages/flask/app.py\", line 882, in full_dispatch_request\n",
      "    rv = self.handle_user_exception(e)\n",
      "         ^^^^^^^^^^^^^^^^^^^^^^^^^^^^^\n",
      "  File \"/Users/ajain/Documents/code_venvs/pmg_tutorials/lib/python3.11/site-packages/flask/app.py\", line 880, in full_dispatch_request\n",
      "    rv = self.dispatch_request()\n",
      "         ^^^^^^^^^^^^^^^^^^^^^^^\n",
      "  File \"/Users/ajain/Documents/code_venvs/pmg_tutorials/lib/python3.11/site-packages/flask/app.py\", line 865, in dispatch_request\n",
      "    return self.ensure_sync(self.view_functions[rule.endpoint])(**view_args)  # type: ignore[no-any-return]\n",
      "           ^^^^^^^^^^^^^^^^^^^^^^^^^^^^^^^^^^^^^^^^^^^^^^^^^^^^^^^^^^^^^^^^^\n",
      "  File \"/Users/ajain/Documents/code_venvs/pmg_tutorials/lib/python3.11/site-packages/dash/dash.py\", line 989, in serve_component_suites\n",
      "    _validate.validate_js_path(self.registered_paths, package_name, path_in_pkg)\n",
      "  File \"/Users/ajain/Documents/code_venvs/pmg_tutorials/lib/python3.11/site-packages/dash/_validate.py\", line 382, in validate_js_path\n",
      "    raise exceptions.DependencyException(\n",
      "dash.exceptions.DependencyException: \"dash\" is registered but the path requested is not valid.\n",
      "The path requested: \"dash_table/async-table.js\"\n",
      "List of registered paths: defaultdict(<class 'set'>, {'dash': {'deps/react-dom@16.14.0.min.js', 'deps/react@16.14.0.min.js', 'deps/prop-types@15.8.1.min.js', 'deps/polyfill@7.12.1.min.js'}})\n"
     ]
    }
   ],
   "source": [
    "# Use transformation to perturb the atom positions from their original locations\n",
    "from pymatgen.transformations.standard_transformations import PerturbStructureTransformation\n",
    "\n",
    "# note the user-adjustable parameters when constructing the transformation object\n",
    "perturb_transformation = PerturbStructureTransformation(distance=0.6, min_distance=0.4)\n",
    "perturbed_structure = perturb_transformation.apply_transformation(structure)\n",
    "perturbed_structure"
   ]
  },
  {
   "cell_type": "code",
   "execution_count": 5,
   "id": "cd16b876",
   "metadata": {
    "slideshow": {
     "slide_type": "fragment"
    }
   },
   "outputs": [
    {
     "data": {
      "text/html": [
       "\n",
       "        <iframe\n",
       "            width=\"100%\"\n",
       "            height=\"650\"\n",
       "            src=\"http://127.0.0.1:8884/\"\n",
       "            frameborder=\"0\"\n",
       "            allowfullscreen\n",
       "            \n",
       "        ></iframe>\n",
       "        "
      ],
      "text/plain": [
       "<IPython.lib.display.IFrame at 0x144929810>"
      ]
     },
     "metadata": {},
     "output_type": "display_data"
    }
   ],
   "source": [
    "# Use transformation to create a supercell\n",
    "from pymatgen.transformations.standard_transformations import SupercellTransformation\n",
    "\n",
    "supercell_transformation = SupercellTransformation.from_scaling_factors(2, 2, 3)\n",
    "supercell_structure = supercell_transformation.apply_transformation(perturbed_structure)\n",
    "supercell_structure\n"
   ]
  },
  {
   "cell_type": "code",
   "execution_count": 6,
   "id": "ed08c76e",
   "metadata": {
    "slideshow": {
     "slide_type": "fragment"
    }
   },
   "outputs": [
    {
     "name": "stdout",
     "output_type": "stream",
     "text": [
      "Full Formula (Li4 Fe4 P4 O16)\n",
      "Reduced Formula: LiFePO4\n",
      "abc   :   4.744800   6.065770  10.410370\n",
      "angles:  90.501790  90.000190  90.003620\n",
      "pbc   :       True       True       True\n",
      "Sites (28)\n",
      "  #  SP          a        b        c\n",
      "---  ----  -------  -------  -------\n",
      "  0  Li    1e-05    0.99999  0.99999\n",
      "  1  Li    0.99999  0.5      1e-05\n",
      "  2  Li    0.49999  0.99999  0.5\n",
      "  3  Li    0.50002  0.5      0.5\n",
      "  4  Fe    0.52507  0.25344  0.21884\n",
      "  5  Fe    0.02508  0.74654  0.28116\n",
      "  6  Fe    0.97497  0.25346  0.71884\n",
      "  7  Fe    0.47493  0.74653  0.78116\n",
      "  8  P     0.58205  0.75169  0.09444\n",
      "  9  P     0.08207  0.2483   0.40556\n",
      " 10  P     0.91794  0.75174  0.59443\n",
      " 11  P     0.41793  0.24828  0.90557\n",
      " 12  O     0.29156  0.25112  0.04317\n",
      " 13  O     0.25851  0.75043  0.09622\n",
      " 14  O     0.71346  0.95594  0.1658\n",
      " 15  O     0.71627  0.5486   0.16562\n",
      " 16  O     0.21629  0.4514   0.33438\n",
      " 17  O     0.21345  0.04406  0.33419\n",
      " 18  O     0.75852  0.24955  0.40378\n",
      " 19  O     0.79157  0.7489   0.45682\n",
      " 20  O     0.20845  0.2511   0.54316\n",
      " 21  O     0.24149  0.75046  0.59622\n",
      " 22  O     0.78658  0.95602  0.66577\n",
      " 23  O     0.78367  0.54867  0.66564\n",
      " 24  O     0.28366  0.45133  0.83436\n",
      " 25  O     0.28658  0.04399  0.83423\n",
      " 26  O     0.74149  0.24958  0.90378\n",
      " 27  O     0.70842  0.74889  0.95684\n"
     ]
    },
    {
     "data": {
      "text/html": [
       "\n",
       "        <iframe\n",
       "            width=\"100%\"\n",
       "            height=\"650\"\n",
       "            src=\"http://127.0.0.1:8884/\"\n",
       "            frameborder=\"0\"\n",
       "            allowfullscreen\n",
       "            \n",
       "        ></iframe>\n",
       "        "
      ],
      "text/plain": [
       "<IPython.lib.display.IFrame at 0x10e597350>"
      ]
     },
     "metadata": {},
     "output_type": "display_data"
    }
   ],
   "source": [
    "# Get another test structure (LiFePO4 without oxidation states)\n",
    "structure = Structure.from_file(\"structures/LiFePO4.json\")\n",
    "print(structure)\n",
    "structure\n"
   ]
  },
  {
   "cell_type": "code",
   "execution_count": 7,
   "id": "22003887",
   "metadata": {
    "slideshow": {
     "slide_type": "fragment"
    }
   },
   "outputs": [
    {
     "name": "stdout",
     "output_type": "stream",
     "text": [
      "Full Formula (Li4 Fe4 P4 O16)\n",
      "Reduced Formula: LiFePO4\n",
      "abc   :   4.744800   6.065770  10.410370\n",
      "angles:  90.501790  90.000190  90.003620\n",
      "pbc   :       True       True       True\n",
      "Sites (28)\n",
      "  #  SP          a        b        c\n",
      "---  ----  -------  -------  -------\n",
      "  0  Li+   1e-05    0.99999  0.99999\n",
      "  1  Li+   0.99999  0.5      1e-05\n",
      "  2  Li+   0.49999  0.99999  0.5\n",
      "  3  Li+   0.50002  0.5      0.5\n",
      "  4  Fe2+  0.52507  0.25344  0.21884\n",
      "  5  Fe2+  0.02508  0.74654  0.28116\n",
      "  6  Fe2+  0.97497  0.25346  0.71884\n",
      "  7  Fe2+  0.47493  0.74653  0.78116\n",
      "  8  P5+   0.58205  0.75169  0.09444\n",
      "  9  P5+   0.08207  0.2483   0.40556\n",
      " 10  P5+   0.91794  0.75174  0.59443\n",
      " 11  P5+   0.41793  0.24828  0.90557\n",
      " 12  O2-   0.29156  0.25112  0.04317\n",
      " 13  O2-   0.25851  0.75043  0.09622\n",
      " 14  O2-   0.71346  0.95594  0.1658\n",
      " 15  O2-   0.71627  0.5486   0.16562\n",
      " 16  O2-   0.21629  0.4514   0.33438\n",
      " 17  O2-   0.21345  0.04406  0.33419\n",
      " 18  O2-   0.75852  0.24955  0.40378\n",
      " 19  O2-   0.79157  0.7489   0.45682\n",
      " 20  O2-   0.20845  0.2511   0.54316\n",
      " 21  O2-   0.24149  0.75046  0.59622\n",
      " 22  O2-   0.78658  0.95602  0.66577\n",
      " 23  O2-   0.78367  0.54867  0.66564\n",
      " 24  O2-   0.28366  0.45133  0.83436\n",
      " 25  O2-   0.28658  0.04399  0.83423\n",
      " 26  O2-   0.74149  0.24958  0.90378\n",
      " 27  O2-   0.70842  0.74889  0.95684\n"
     ]
    }
   ],
   "source": [
    "# Automatically add oxidation states / valences\n",
    "# Note that the structure is unchanged, the transformation simply adds oxidation state guesses\n",
    "from pymatgen.transformations.standard_transformations import AutoOxiStateDecorationTransformation\n",
    "\n",
    "oxi_transformation = AutoOxiStateDecorationTransformation()\n",
    "oxidized_structure = oxi_transformation.apply_transformation(structure)\n",
    "\n",
    "# 'oxidized_structure' now has oxidation states / valences assigned\n",
    "print(oxidized_structure)\n"
   ]
  },
  {
   "cell_type": "code",
   "execution_count": 8,
   "id": "ee742101",
   "metadata": {
    "scrolled": true,
    "slideshow": {
     "slide_type": "fragment"
    }
   },
   "outputs": [
    {
     "data": {
      "text/html": [
       "\n",
       "        <iframe\n",
       "            width=\"100%\"\n",
       "            height=\"650\"\n",
       "            src=\"http://127.0.0.1:8884/\"\n",
       "            frameborder=\"0\"\n",
       "            allowfullscreen\n",
       "            \n",
       "        ></iframe>\n",
       "        "
      ],
      "text/plain": [
       "<IPython.lib.display.IFrame at 0x1448118d0>"
      ]
     },
     "metadata": {},
     "output_type": "display_data"
    }
   ],
   "source": [
    "# A transformation can perform complex operations\n",
    "# Next, we will create a surface slab structure with vacuum layers\n",
    "\n",
    "# Get a test structure (Si)\n",
    "structure = Structure.from_file(\"structures/Si.json\")\n",
    "structure"
   ]
  },
  {
   "cell_type": "code",
   "execution_count": 9,
   "id": "04580415",
   "metadata": {
    "slideshow": {
     "slide_type": "fragment"
    }
   },
   "outputs": [
    {
     "data": {
      "text/html": [
       "\n",
       "        <iframe\n",
       "            width=\"100%\"\n",
       "            height=\"650\"\n",
       "            src=\"http://127.0.0.1:8884/\"\n",
       "            frameborder=\"0\"\n",
       "            allowfullscreen\n",
       "            \n",
       "        ></iframe>\n",
       "        "
      ],
      "text/plain": [
       "<IPython.lib.display.IFrame at 0x147613bd0>"
      ]
     },
     "metadata": {},
     "output_type": "display_data"
    }
   ],
   "source": [
    "from pymatgen.transformations.advanced_transformations import SlabTransformation\n",
    "\n",
    "# Define slab parameters\n",
    "miller_index = [1, 1, 1]  # Miller index for the slab\n",
    "min_slab_size = 10      # Thickness of the slab\n",
    "min_vacuum_size = 15    # Thickness of the vacuum layer\n",
    "\n",
    "# Create the transformation with user parameters\n",
    "slab_transformation = SlabTransformation(\n",
    "    miller_index=miller_index,\n",
    "    min_slab_size=min_slab_size,\n",
    "    min_vacuum_size=min_vacuum_size,\n",
    "    lll_reduce=True,  # makes the slab more orthogonal \n",
    "    center_slab=True,  # centers the slab with vacuum on top and bottom\n",
    "    in_unit_planes=True  # means slab thicknesses are specified as number of planes, not Angstroms\n",
    ")\n",
    "\n",
    "# Apply the transformation\n",
    "slab_structure = slab_transformation.apply_transformation(structure)\n",
    "slab_structure"
   ]
  },
  {
   "cell_type": "code",
   "execution_count": 10,
   "id": "9ae860fe",
   "metadata": {
    "scrolled": true,
    "slideshow": {
     "slide_type": "fragment"
    }
   },
   "outputs": [
    {
     "data": {
      "text/html": [
       "\n",
       "        <iframe\n",
       "            width=\"100%\"\n",
       "            height=\"650\"\n",
       "            src=\"http://127.0.0.1:8884/\"\n",
       "            frameborder=\"0\"\n",
       "            allowfullscreen\n",
       "            \n",
       "        ></iframe>\n",
       "        "
      ],
      "text/plain": [
       "<IPython.lib.display.IFrame at 0x1474ef950>"
      ]
     },
     "metadata": {},
     "output_type": "display_data"
    }
   ],
   "source": [
    "# Expand the the surface plane (e.g., if you want to add an adsorbate later)\n",
    "supercell_transformation = SupercellTransformation.from_scaling_factors(2, 2, 1)\n",
    "supercell_slab_structure = supercell_transformation.apply_transformation(slab_structure)\n",
    "supercell_slab_structure"
   ]
  },
  {
   "cell_type": "markdown",
   "id": "a2500c31",
   "metadata": {
    "slideshow": {
     "slide_type": "slide"
    }
   },
   "source": [
    "## Transformations requiring enumlib\n",
    "\n",
    "Some transformations may require use of additional libraries for their operation. **To use the following transformations, you need to install the ``enumlib`` library led by Gus Hart.**\n",
    "\n",
    "Instructions for installing ``enumlib`` can be found at its Github page: https://github.com/msg-byu/enumlib . Overall, you need to make sure that ``enum.x`` and ``makestr.x`` (or ``makestr.py`` for more recent versions) are properly compiled and in your executable PATH.\n",
    "\n",
    "If using transformations that use ``enumlib``, you should cite the original papers as listed in the enumlib Github repository:\n",
    "\n",
    "1. Gus L. W. Hart and Rodney W. Forcade, \"Algorithm for generating derivative structures,\" Phys. Rev. B 77 224115, (26 June 2008)\n",
    "\n",
    "2. Gus L. W. Hart and Rodney W. Forcade, \"Generating derivative structures from multilattices: Application to hcp alloys,\" Phys. Rev. B 80 014120 (July 2009)\n",
    "\n",
    "3. Gus L. W. Hart, Lance J. Nelson, and Rodney W. Forcade, \"Generating derivative structures at a fixed concentration,\" Comp. Mat. Sci. 59 101-107 (March 2012)\n",
    "\n",
    "4. Wiley S. Morgan, Gus L. W. Hart, Rodney W. Forcade, \"Generating derivative superstructures for systems with high configurational freedom,\" Comp. Mat. Sci. 136 144-149 (May 2017)"
   ]
  },
  {
   "cell_type": "code",
   "execution_count": 11,
   "id": "ab4865e6",
   "metadata": {
    "slideshow": {
     "slide_type": "fragment"
    }
   },
   "outputs": [
    {
     "name": "stdout",
     "output_type": "stream",
     "text": [
      "Full Formula (K0.6 Na0.2 Li0.2 O1)\n",
      "Reduced Formula: K0.6Na0.2Li0.2O1\n",
      "abc   :   4.000000   4.000000   4.000000\n",
      "angles:  90.000000  90.000000  90.000000\n",
      "pbc   :       True       True       True\n",
      "Sites (2)\n",
      "  #  SP                       a    b    c\n",
      "---  ---------------------  ---  ---  ---\n",
      "  0  K:0.6, Na:0.2, Li:0.2  0    0    0\n",
      "  1  O                      0.5  0.5  0.5\n"
     ]
    },
    {
     "data": {
      "text/html": [
       "\n",
       "        <iframe\n",
       "            width=\"100%\"\n",
       "            height=\"650\"\n",
       "            src=\"http://127.0.0.1:8884/\"\n",
       "            frameborder=\"0\"\n",
       "            allowfullscreen\n",
       "            \n",
       "        ></iframe>\n",
       "        "
      ],
      "text/plain": [
       "<IPython.lib.display.IFrame at 0x145049010>"
      ]
     },
     "metadata": {},
     "output_type": "display_data"
    }
   ],
   "source": [
    "# Get a test structure with site disorder\n",
    "s_disorder = Structure(Lattice.cubic(4),\n",
    "                       [{\"Li\": 0.2, \"Na\": 0.2, \"K\": 0.6}, {\"O\": 1}],\n",
    "                       [[0, 0, 0], [0.5, 0.5, 0.5]])\n",
    "print(s_disorder)\n",
    "s_disorder"
   ]
  },
  {
   "cell_type": "code",
   "execution_count": 12,
   "id": "4b0593b8",
   "metadata": {
    "slideshow": {
     "slide_type": "fragment"
    }
   },
   "outputs": [
    {
     "name": "stderr",
     "output_type": "stream",
     "text": [
      "rm: vasp.{}: No such file or directory\n"
     ]
    },
    {
     "name": "stdout",
     "output_type": "stream",
     "text": [
      "---Ordering 1\n",
      "{'num_sites': 10, 'structure': Structure Summary\n",
      "Lattice\n",
      "    abc : 5.656854249492381 6.928203230275509 8.94427190999916\n",
      " angles : 104.96321743330712 71.56505117707799 90.0\n",
      " volume : 320.0\n",
      "      A : 4.0 0.0 4.0\n",
      "      B : -4.0 4.0 4.0\n",
      "      C : 0.0 -8.0 4.0\n",
      "    pbc : True True True\n",
      "PeriodicSite: K (0.0, 0.0, 8.0) [0.8, 0.8, 0.4]\n",
      "PeriodicSite: K (0.0, -4.0, 4.0) [0.2, 0.2, 0.6]\n",
      "PeriodicSite: K (0.0, -4.0, 8.0) [0.6, 0.6, 0.8]\n",
      "PeriodicSite: Na (0.0, 0.0, 4.0) [0.4, 0.4, 0.2]\n",
      "PeriodicSite: Li (0.0, 0.0, 0.0) [0.0, 0.0, 0.0]\n",
      "PeriodicSite: O (2.0, -2.0, 6.0) [0.8, 0.3, 0.4]\n",
      "PeriodicSite: O (-2.0, -2.0, 6.0) [0.2, 0.7, 0.6]\n",
      "PeriodicSite: O (2.0, -6.0, 6.0) [0.6, 0.1, 0.8]\n",
      "PeriodicSite: O (-2.0, 2.0, 2.0) [0.0, 0.5, 0.0]\n",
      "PeriodicSite: O (-2.0, 2.0, 6.0) [0.4, 0.9, 0.2]}\n",
      "\n",
      "\n",
      "---Ordering 2\n",
      "{'num_sites': 10, 'structure': Structure Summary\n",
      "Lattice\n",
      "    abc : 5.656854249492381 5.656854249492381 12.0\n",
      " angles : 76.3669777746336 90.0 119.99999999999999\n",
      " volume : 320.0\n",
      "      A : 4.0 0.0 4.0\n",
      "      B : -4.0 4.0 0.0\n",
      "      C : -8.0 -4.0 8.0\n",
      "    pbc : True True True\n",
      "PeriodicSite: K (-4.0, 0.0, 4.0) [0.2, 0.4, 0.4]\n",
      "PeriodicSite: K (-4.0, 0.0, 8.0) [0.8, 0.6, 0.6]\n",
      "PeriodicSite: K (-8.0, 0.0, 8.0) [0.4, 0.8, 0.8]\n",
      "PeriodicSite: Na (-2.22e-16, 0.0, 4.0) [0.6, 0.2, 0.2]\n",
      "PeriodicSite: Li (0.0, 0.0, 0.0) [0.0, 0.0, 0.0]\n",
      "PeriodicSite: O (-6.0, -2.0, 6.0) [0.1, 0.2, 0.7]\n",
      "PeriodicSite: O (-2.0, 2.0, 6.0) [0.9, 0.8, 0.3]\n",
      "PeriodicSite: O (-6.0, 2.0, 6.0) [0.5, 1.0, 0.5]\n",
      "PeriodicSite: O (-6.0, -2.0, 10.0) [0.7, 0.4, 0.9]\n",
      "PeriodicSite: O (-2.0, 2.0, 2.0) [0.3, 0.6, 0.1]}\n",
      "\n",
      "\n",
      "---Ordering 3\n",
      "{'num_sites': 10, 'structure': Structure Summary\n",
      "Lattice\n",
      "    abc : 4.0 5.656854249492381 14.422205101855956\n",
      " angles : 78.69006752597979 90.0 90.0\n",
      " volume : 320.0\n",
      "      A : 4.0 0.0 0.0\n",
      "      B : 0.0 4.0 4.0\n",
      "      C : 0.0 -8.0 12.0\n",
      "    pbc : True True True\n",
      "PeriodicSite: K (0.0, 0.0, 8.0) [0.0, 0.8, 0.4]\n",
      "PeriodicSite: K (0.0, -4.0, 8.0) [0.0, 0.2, 0.6]\n",
      "PeriodicSite: K (0.0, -4.0, 12.0) [0.0, 0.6, 0.8]\n",
      "PeriodicSite: Na (0.0, 0.0, 4.0) [0.0, 0.4, 0.2]\n",
      "PeriodicSite: Li (0.0, 0.0, 0.0) [0.0, 0.0, 0.0]\n",
      "PeriodicSite: O (2.0, -2.0, 10.0) [0.5, 0.7, 0.6]\n",
      "PeriodicSite: O (2.0, -6.0, 10.0) [0.5, 0.1, 0.8]\n",
      "PeriodicSite: O (2.0, 2.0, 2.0) [0.5, 0.5, 2.776e-17]\n",
      "PeriodicSite: O (2.0, 2.0, 6.0) [0.5, 0.9, 0.2]\n",
      "PeriodicSite: O (2.0, -2.0, 6.0) [0.5, 0.3, 0.4]}\n",
      "\n",
      "\n"
     ]
    },
    {
     "data": {
      "text/html": [
       "\n",
       "        <iframe\n",
       "            width=\"100%\"\n",
       "            height=\"650\"\n",
       "            src=\"http://127.0.0.1:8884/\"\n",
       "            frameborder=\"0\"\n",
       "            allowfullscreen\n",
       "            \n",
       "        ></iframe>\n",
       "        "
      ],
      "text/plain": [
       "<IPython.lib.display.IFrame at 0x145034050>"
      ]
     },
     "metadata": {},
     "output_type": "display_data"
    }
   ],
   "source": [
    "from pymatgen.transformations.advanced_transformations import EnumerateStructureTransformation\n",
    "\n",
    "est = EnumerateStructureTransformation(max_cell_size=None, max_disordered_sites=5)\n",
    "lst_orderings = est.apply_transformation(s_disorder, return_ranked_list=3)  # create 3 orderings\n",
    "\n",
    "for idx, ostruct in enumerate(lst_orderings):\n",
    "    print(f\"---Ordering {idx+1}\")\n",
    "    print(ostruct)\n",
    "    print(\"\\n\")\n",
    "    \n",
    "lst_orderings[0][\"structure\"]  # visualize the first ordered structure"
   ]
  },
  {
   "cell_type": "code",
   "execution_count": 13,
   "id": "f5ac37d1",
   "metadata": {
    "slideshow": {
     "slide_type": "fragment"
    }
   },
   "outputs": [
    {
     "name": "stdout",
     "output_type": "stream",
     "text": [
      "Full Formula (Li4 Fe4 P4 O16)\n",
      "Reduced Formula: LiFePO4\n",
      "abc   :   4.744800   6.065770  10.410370\n",
      "angles:  90.501790  90.000190  90.003620\n",
      "pbc   :       True       True       True\n",
      "Sites (28)\n",
      "  #  SP          a        b        c\n",
      "---  ----  -------  -------  -------\n",
      "  0  Li    1e-05    0.99999  0.99999\n",
      "  1  Li    0.99999  0.5      1e-05\n",
      "  2  Li    0.49999  0.99999  0.5\n",
      "  3  Li    0.50002  0.5      0.5\n",
      "  4  Fe    0.52507  0.25344  0.21884\n",
      "  5  Fe    0.02508  0.74654  0.28116\n",
      "  6  Fe    0.97497  0.25346  0.71884\n",
      "  7  Fe    0.47493  0.74653  0.78116\n",
      "  8  P     0.58205  0.75169  0.09444\n",
      "  9  P     0.08207  0.2483   0.40556\n",
      " 10  P     0.91794  0.75174  0.59443\n",
      " 11  P     0.41793  0.24828  0.90557\n",
      " 12  O     0.29156  0.25112  0.04317\n",
      " 13  O     0.25851  0.75043  0.09622\n",
      " 14  O     0.71346  0.95594  0.1658\n",
      " 15  O     0.71627  0.5486   0.16562\n",
      " 16  O     0.21629  0.4514   0.33438\n",
      " 17  O     0.21345  0.04406  0.33419\n",
      " 18  O     0.75852  0.24955  0.40378\n",
      " 19  O     0.79157  0.7489   0.45682\n",
      " 20  O     0.20845  0.2511   0.54316\n",
      " 21  O     0.24149  0.75046  0.59622\n",
      " 22  O     0.78658  0.95602  0.66577\n",
      " 23  O     0.78367  0.54867  0.66564\n",
      " 24  O     0.28366  0.45133  0.83436\n",
      " 25  O     0.28658  0.04399  0.83423\n",
      " 26  O     0.74149  0.24958  0.90378\n",
      " 27  O     0.70842  0.74889  0.95684\n"
     ]
    },
    {
     "data": {
      "text/html": [
       "\n",
       "        <iframe\n",
       "            width=\"100%\"\n",
       "            height=\"650\"\n",
       "            src=\"http://127.0.0.1:8884/\"\n",
       "            frameborder=\"0\"\n",
       "            allowfullscreen\n",
       "            \n",
       "        ></iframe>\n",
       "        "
      ],
      "text/plain": [
       "<IPython.lib.display.IFrame at 0x148c8dc90>"
      ]
     },
     "metadata": {},
     "output_type": "display_data"
    }
   ],
   "source": [
    "# The next example will be a transformation to add a dopant into a structure\n",
    "# Note that this is a *substitutional* dopant (default is aliovalent substitution)\n",
    "# It will create a supercell so that the dopant is only a small concentration of the overall cell\n",
    "\n",
    "# Get a test structure\n",
    "structure = Structure.from_file(\"structures/LiFePO4.json\")\n",
    "print(structure)\n",
    "structure"
   ]
  },
  {
   "cell_type": "code",
   "execution_count": 14,
   "id": "90d71940",
   "metadata": {
    "slideshow": {
     "slide_type": "fragment"
    }
   },
   "outputs": [
    {
     "name": "stderr",
     "output_type": "stream",
     "text": [
      "rm: vasp.{}: No such file or directory\n"
     ]
    },
    {
     "name": "stdout",
     "output_type": "stream",
     "text": [
      "---Ordering 1\n",
      "{'num_sites': 168, 'energy': -6989.243831298399, 'structure': Structure Summary\n",
      "Lattice\n",
      "    abc : 10.41037 12.131540000000001 14.234399999999999\n",
      " angles : 90.00362 90.00019 90.50178999999999\n",
      " volume : 1797.6478062675028\n",
      "      A : 10.41036999994276 0.0 3.452209424235223e-05\n",
      "      B : -0.10624530873540061 -12.131074730561894 0.0007664818446308863\n",
      "      C : 0.0 0.0 -14.234399999999999\n",
      "    pbc : True True True\n",
      "PeriodicSite: Li+ (10.36, -6.065, 0.0003703) [1.0, 0.5, 3.333e-06]\n",
      "PeriodicSite: Li+ (10.3, -12.13, 0.0007536) [1.0, 1.0, 3.333e-06]\n",
      "PeriodicSite: Li+ (10.36, -6.065, -4.744) [1.0, 0.5, 0.3333]\n",
      "PeriodicSite: Li+ (10.3, -12.13, -4.744) [1.0, 1.0, 0.3333]\n",
      "PeriodicSite: Li+ (10.36, -6.065, -9.489) [1.0, 0.5, 0.6667]\n",
      "PeriodicSite: Li+ (10.3, -12.13, -9.489) [1.0, 1.0, 0.6667]\n",
      "PeriodicSite: Li+ (-0.02646, -3.033, -4.745) [1e-05, 0.25, 0.3333]\n",
      "PeriodicSite: Li+ (-0.07958, -9.098, -4.744) [1e-05, 0.75, 0.3333]\n",
      "PeriodicSite: Li+ (-0.02646, -3.033, -9.489) [1e-05, 0.25, 0.6667]\n",
      "PeriodicSite: Li+ (-0.07958, -9.098, -9.489) [1e-05, 0.75, 0.6667]\n",
      "PeriodicSite: Li+ (-0.02646, -3.033, -14.23) [1e-05, 0.25, 1.0]\n",
      "PeriodicSite: Li+ (-0.07958, -9.098, -14.23) [1e-05, 0.75, 1.0]\n",
      "PeriodicSite: Li+ (5.152, -6.065, -2.372) [0.5, 0.5, 0.1667]\n",
      "PeriodicSite: Li+ (5.099, -12.13, -2.372) [0.5, 1.0, 0.1667]\n",
      "PeriodicSite: Li+ (5.152, -6.065, -7.117) [0.5, 0.5, 0.5]\n",
      "PeriodicSite: Li+ (5.099, -12.13, -7.116) [0.5, 1.0, 0.5]\n",
      "PeriodicSite: Li+ (5.152, -6.065, -11.86) [0.5, 0.5, 0.8333]\n",
      "PeriodicSite: Li+ (5.099, -12.13, -11.86) [0.5, 1.0, 0.8333]\n",
      "PeriodicSite: Li+ (5.179, -3.033, -2.372) [0.5, 0.25, 0.1667]\n",
      "PeriodicSite: Li+ (5.126, -9.098, -2.372) [0.5, 0.75, 0.1667]\n",
      "PeriodicSite: Li+ (5.179, -3.033, -7.117) [0.5, 0.25, 0.5]\n",
      "PeriodicSite: Li+ (5.126, -9.098, -7.117) [0.5, 0.75, 0.5]\n",
      "PeriodicSite: Li+ (5.179, -3.033, -11.86) [0.5, 0.25, 0.8333]\n",
      "PeriodicSite: Li+ (5.126, -9.098, -11.86) [0.5, 0.75, 0.8333]\n",
      "PeriodicSite: Ca2+ (2.265, -1.537, -2.491) [0.2188, 0.1267, 0.175]\n",
      "PeriodicSite: Fe2+ (2.212, -7.603, -2.491) [0.2188, 0.6267, 0.175]\n",
      "PeriodicSite: Fe2+ (2.265, -1.537, -7.236) [0.2188, 0.1267, 0.5084]\n",
      "PeriodicSite: Fe2+ (2.212, -7.603, -7.236) [0.2188, 0.6267, 0.5084]\n",
      "PeriodicSite: Fe2+ (2.265, -1.537, -11.98) [0.2188, 0.1267, 0.8417]\n",
      "PeriodicSite: Fe2+ (2.212, -7.603, -11.98) [0.2188, 0.6267, 0.8417]\n",
      "PeriodicSite: Fe2+ (2.887, -4.528, -0.1187) [0.2812, 0.3733, 0.00836]\n",
      "PeriodicSite: Fe2+ (2.834, -10.59, -0.1183) [0.2812, 0.8733, 0.00836]\n",
      "PeriodicSite: Fe2+ (2.887, -4.528, -4.864) [0.2812, 0.3733, 0.3417]\n",
      "PeriodicSite: Fe2+ (2.834, -10.59, -4.863) [0.2812, 0.8733, 0.3417]\n",
      "PeriodicSite: Fe2+ (2.887, -4.528, -9.608) [0.2812, 0.3733, 0.675]\n",
      "PeriodicSite: Fe2+ (2.834, -10.59, -9.608) [0.2812, 0.8733, 0.675]\n",
      "PeriodicSite: Fe2+ (7.47, -1.537, -4.626) [0.7188, 0.1267, 0.325]\n",
      "PeriodicSite: Fe2+ (7.417, -7.603, -4.626) [0.7188, 0.6267, 0.325]\n",
      "PeriodicSite: Fe2+ (7.47, -1.537, -9.371) [0.7188, 0.1267, 0.6583]\n",
      "PeriodicSite: Fe2+ (7.417, -7.603, -9.37) [0.7188, 0.6267, 0.6583]\n",
      "PeriodicSite: Fe2+ (7.47, -1.537, -14.12) [0.7188, 0.1267, 0.9917]\n",
      "PeriodicSite: Fe2+ (7.417, -7.603, -14.12) [0.7188, 0.6267, 0.9917]\n",
      "PeriodicSite: Fe2+ (8.093, -4.528, -2.253) [0.7812, 0.3733, 0.1583]\n",
      "PeriodicSite: Fe2+ (8.039, -10.59, -2.253) [0.7812, 0.8733, 0.1583]\n",
      "PeriodicSite: Fe2+ (8.093, -4.528, -6.998) [0.7812, 0.3733, 0.4916]\n",
      "PeriodicSite: Fe2+ (8.039, -10.59, -6.998) [0.7812, 0.8733, 0.4916]\n",
      "PeriodicSite: Fe2+ (8.093, -4.528, -11.74) [0.7812, 0.3733, 0.825]\n",
      "PeriodicSite: Fe2+ (8.039, -10.59, -11.74) [0.7812, 0.8733, 0.825]\n",
      "PeriodicSite: P5+ (0.9432, -4.559, -2.761) [0.09444, 0.3758, 0.194]\n",
      "PeriodicSite: P5+ (0.8901, -10.62, -2.761) [0.09444, 0.8758, 0.194]\n",
      "PeriodicSite: P5+ (0.9432, -4.559, -7.506) [0.09444, 0.3758, 0.5273]\n",
      "PeriodicSite: P5+ (0.8901, -10.62, -7.506) [0.09444, 0.8758, 0.5273]\n",
      "PeriodicSite: P5+ (0.9432, -4.559, -12.25) [0.09444, 0.3758, 0.8607]\n",
      "PeriodicSite: P5+ (0.8901, -10.62, -12.25) [0.09444, 0.8758, 0.8607]\n",
      "PeriodicSite: P5+ (4.209, -1.506, -0.3893) [0.4056, 0.1241, 0.02736]\n",
      "PeriodicSite: P5+ (4.156, -7.572, -0.3889) [0.4056, 0.6242, 0.02736]\n",
      "PeriodicSite: P5+ (4.209, -1.506, -5.134) [0.4056, 0.1241, 0.3607]\n",
      "PeriodicSite: P5+ (4.156, -7.572, -5.134) [0.4056, 0.6242, 0.3607]\n",
      "PeriodicSite: P5+ (4.209, -1.506, -9.879) [0.4056, 0.1241, 0.694]\n",
      "PeriodicSite: P5+ (4.156, -7.572, -9.879) [0.4056, 0.6242, 0.694]\n",
      "PeriodicSite: P5+ (6.148, -4.56, -4.355) [0.5944, 0.3759, 0.306]\n",
      "PeriodicSite: P5+ (6.095, -10.63, -4.355) [0.5944, 0.8759, 0.306]\n",
      "PeriodicSite: P5+ (6.148, -4.56, -9.1) [0.5944, 0.3759, 0.6393]\n",
      "PeriodicSite: P5+ (6.095, -10.63, -9.1) [0.5944, 0.8759, 0.6393]\n",
      "PeriodicSite: P5+ (6.148, -4.56, -13.84) [0.5944, 0.3759, 0.9726]\n",
      "PeriodicSite: P5+ (6.095, -10.63, -13.84) [0.5944, 0.8759, 0.9726]\n",
      "PeriodicSite: P5+ (9.414, -1.506, -1.983) [0.9056, 0.1241, 0.1393]\n",
      "PeriodicSite: P5+ (9.361, -7.571, -1.982) [0.9056, 0.6241, 0.1393]\n",
      "PeriodicSite: P5+ (9.414, -1.506, -6.728) [0.9056, 0.1241, 0.4726]\n",
      "PeriodicSite: P5+ (9.361, -7.571, -6.727) [0.9056, 0.6241, 0.4726]\n",
      "PeriodicSite: P5+ (9.414, -1.506, -11.47) [0.9056, 0.1241, 0.806]\n",
      "PeriodicSite: P5+ (9.361, -7.571, -11.47) [0.9056, 0.6241, 0.806]\n",
      "PeriodicSite: O2- (0.4361, -1.523, -1.383) [0.04317, 0.1256, 0.09719]\n",
      "PeriodicSite: O2- (0.383, -7.589, -1.383) [0.04317, 0.6256, 0.09719]\n",
      "PeriodicSite: O2- (0.4361, -1.523, -6.128) [0.04317, 0.1256, 0.4305]\n",
      "PeriodicSite: O2- (0.383, -7.589, -6.128) [0.04317, 0.6256, 0.4305]\n",
      "PeriodicSite: O2- (0.4361, -1.523, -10.87) [0.04317, 0.1256, 0.7639]\n",
      "PeriodicSite: O2- (0.383, -7.589, -10.87) [0.04317, 0.6256, 0.7639]\n",
      "PeriodicSite: O2- (4.716, -4.542, -3.756) [0.4568, 0.3745, 0.2639]\n",
      "PeriodicSite: O2- (4.663, -10.61, -3.755) [0.4568, 0.8745, 0.2639]\n",
      "PeriodicSite: O2- (4.716, -4.542, -8.5) [0.4568, 0.3745, 0.5972]\n",
      "PeriodicSite: O2- (4.663, -10.61, -8.5) [0.4568, 0.8745, 0.5972]\n",
      "PeriodicSite: O2- (4.716, -4.542, -13.25) [0.4568, 0.3745, 0.9305]\n",
      "PeriodicSite: O2- (4.663, -10.61, -13.24) [0.4568, 0.8745, 0.9305]\n",
      "PeriodicSite: O2- (5.641, -1.523, -0.9889) [0.5432, 0.1255, 0.06948]\n",
      "PeriodicSite: O2- (5.588, -7.589, -0.9886) [0.5432, 0.6256, 0.06948]\n",
      "PeriodicSite: O2- (5.641, -1.523, -5.734) [0.5432, 0.1255, 0.4028]\n",
      "PeriodicSite: O2- (5.588, -7.589, -5.733) [0.5432, 0.6256, 0.4028]\n",
      "PeriodicSite: O2- (5.641, -1.523, -10.48) [0.5432, 0.1255, 0.7361]\n",
      "PeriodicSite: O2- (5.588, -7.589, -10.48) [0.5432, 0.6256, 0.7361]\n",
      "PeriodicSite: O2- (9.921, -4.542, -3.361) [0.9568, 0.3744, 0.2361]\n",
      "PeriodicSite: O2- (9.868, -10.61, -3.361) [0.9568, 0.8744, 0.2361]\n",
      "PeriodicSite: O2- (9.921, -4.542, -8.106) [0.9568, 0.3744, 0.5695]\n",
      "PeriodicSite: O2- (9.868, -10.61, -8.105) [0.9568, 0.8744, 0.5695]\n",
      "PeriodicSite: O2- (9.921, -4.542, -12.85) [0.9568, 0.3744, 0.9028]\n",
      "PeriodicSite: O2- (9.868, -10.61, -12.85) [0.9568, 0.8744, 0.9028]\n",
      "PeriodicSite: O2- (0.9618, -4.552, -1.226) [0.09622, 0.3752, 0.08617]\n",
      "PeriodicSite: O2- (0.9087, -10.62, -1.226) [0.09622, 0.8752, 0.08617]\n",
      "PeriodicSite: O2- (0.9618, -4.552, -5.971) [0.09622, 0.3752, 0.4195]\n",
      "PeriodicSite: O2- (0.9087, -10.62, -5.971) [0.09622, 0.8752, 0.4195]\n",
      "PeriodicSite: O2- (0.9618, -4.552, -10.72) [0.09622, 0.3752, 0.7528]\n",
      "PeriodicSite: O2- (0.9087, -10.62, -10.72) [0.09622, 0.8752, 0.7528]\n",
      "PeriodicSite: O2- (4.19, -1.514, -3.599) [0.4038, 0.1248, 0.2528]\n",
      "PeriodicSite: O2- (4.137, -7.579, -3.599) [0.4038, 0.6248, 0.2528]\n",
      "PeriodicSite: O2- (4.19, -1.514, -8.344) [0.4038, 0.1248, 0.5862]\n",
      "PeriodicSite: O2- (4.137, -7.579, -8.343) [0.4038, 0.6248, 0.5862]\n",
      "PeriodicSite: O2- (4.19, -1.514, -13.09) [0.4038, 0.1248, 0.9195]\n",
      "PeriodicSite: O2- (4.137, -7.579, -13.09) [0.4038, 0.6248, 0.9195]\n",
      "PeriodicSite: O2- (6.167, -4.552, -1.146) [0.5962, 0.3752, 0.0805]\n",
      "PeriodicSite: O2- (6.114, -10.62, -1.145) [0.5962, 0.8752, 0.0805]\n",
      "PeriodicSite: O2- (6.167, -4.552, -5.89) [0.5962, 0.3752, 0.4138]\n",
      "PeriodicSite: O2- (6.114, -10.62, -5.89) [0.5962, 0.8752, 0.4138]\n",
      "PeriodicSite: O2- (6.167, -4.552, -10.64) [0.5962, 0.3752, 0.7472]\n",
      "PeriodicSite: O2- (6.114, -10.62, -10.63) [0.5962, 0.8752, 0.7472]\n",
      "PeriodicSite: O2- (9.395, -1.514, -3.518) [0.9038, 0.1248, 0.2472]\n",
      "PeriodicSite: O2- (9.342, -7.579, -3.518) [0.9038, 0.6248, 0.2472]\n",
      "PeriodicSite: O2- (9.395, -1.514, -8.263) [0.9038, 0.1248, 0.5805]\n",
      "PeriodicSite: O2- (9.342, -7.579, -8.263) [0.9038, 0.6248, 0.5805]\n",
      "PeriodicSite: O2- (9.395, -1.514, -13.01) [0.9038, 0.1248, 0.9138]\n",
      "PeriodicSite: O2- (9.342, -7.579, -13.01) [0.9038, 0.6248, 0.9138]\n",
      "PeriodicSite: O2- (1.675, -5.798, -3.385) [0.1658, 0.478, 0.2378]\n",
      "PeriodicSite: O2- (1.622, -11.86, -3.384) [0.1658, 0.978, 0.2378]\n",
      "PeriodicSite: O2- (1.675, -5.798, -8.13) [0.1658, 0.478, 0.5712]\n",
      "PeriodicSite: O2- (1.622, -11.86, -8.129) [0.1658, 0.978, 0.5712]\n",
      "PeriodicSite: O2- (1.675, -5.798, -12.87) [0.1658, 0.478, 0.9045]\n",
      "PeriodicSite: O2- (1.622, -11.86, -12.87) [0.1658, 0.978, 0.9045]\n",
      "PeriodicSite: O2- (1.695, -3.328, -3.398) [0.1656, 0.2743, 0.2388]\n",
      "PeriodicSite: O2- (1.642, -9.393, -3.398) [0.1656, 0.7743, 0.2388]\n",
      "PeriodicSite: O2- (1.695, -3.328, -8.143) [0.1656, 0.2743, 0.5721]\n",
      "PeriodicSite: O2- (1.642, -9.393, -8.143) [0.1656, 0.7743, 0.5721]\n",
      "PeriodicSite: O2- (1.695, -3.328, -12.89) [0.1656, 0.2743, 0.9054]\n",
      "PeriodicSite: O2- (1.642, -9.393, -12.89) [0.1656, 0.7743, 0.9054]\n",
      "PeriodicSite: O2- (3.457, -2.738, -1.026) [0.3344, 0.2257, 0.0721]\n",
      "PeriodicSite: O2- (3.404, -8.804, -1.026) [0.3344, 0.7257, 0.0721]\n",
      "PeriodicSite: O2- (3.457, -2.738, -5.771) [0.3344, 0.2257, 0.4054]\n",
      "PeriodicSite: O2- (3.404, -8.804, -5.77) [0.3344, 0.7257, 0.4054]\n",
      "PeriodicSite: O2- (3.457, -2.738, -10.52) [0.3344, 0.2257, 0.7388]\n",
      "PeriodicSite: O2- (3.404, -8.804, -10.52) [0.3344, 0.7257, 0.7388]\n",
      "PeriodicSite: O2- (3.477, -0.2672, -1.013) [0.3342, 0.02203, 0.07115]\n",
      "PeriodicSite: O2- (3.424, -6.333, -1.012) [0.3342, 0.522, 0.07115]\n",
      "PeriodicSite: O2- (3.477, -0.2672, -5.758) [0.3342, 0.02203, 0.4045]\n",
      "PeriodicSite: O2- (3.424, -6.333, -5.757) [0.3342, 0.522, 0.4045]\n",
      "PeriodicSite: O2- (3.477, -0.2672, -10.5) [0.3342, 0.02203, 0.7378]\n",
      "PeriodicSite: O2- (3.424, -6.333, -10.5) [0.3342, 0.522, 0.7378]\n",
      "PeriodicSite: O2- (6.88, -5.799, -3.732) [0.6658, 0.478, 0.2622]\n",
      "PeriodicSite: O2- (6.827, -11.86, -3.731) [0.6658, 0.978, 0.2622]\n",
      "PeriodicSite: O2- (6.88, -5.799, -8.477) [0.6658, 0.478, 0.5955]\n",
      "PeriodicSite: O2- (6.827, -11.86, -8.476) [0.6658, 0.978, 0.5955]\n",
      "PeriodicSite: O2- (6.88, -5.799, -13.22) [0.6658, 0.478, 0.9289]\n",
      "PeriodicSite: O2- (6.827, -11.86, -13.22) [0.6658, 0.978, 0.9289]\n",
      "PeriodicSite: O2- (6.9, -3.328, -3.718) [0.6656, 0.2743, 0.2612]\n",
      "PeriodicSite: O2- (6.847, -9.394, -3.718) [0.6656, 0.7743, 0.2612]\n",
      "PeriodicSite: O2- (6.9, -3.328, -8.463) [0.6656, 0.2743, 0.5946]\n",
      "PeriodicSite: O2- (6.847, -9.394, -8.463) [0.6656, 0.7743, 0.5946]\n",
      "PeriodicSite: O2- (6.9, -3.328, -13.21) [0.6656, 0.2743, 0.9279]\n",
      "PeriodicSite: O2- (6.847, -9.394, -13.21) [0.6656, 0.7743, 0.9279]\n",
      "PeriodicSite: O2- (8.662, -2.738, -1.346) [0.8344, 0.2257, 0.09455]\n",
      "PeriodicSite: O2- (8.609, -8.803, -1.345) [0.8344, 0.7257, 0.09455]\n",
      "PeriodicSite: O2- (8.662, -2.738, -6.091) [0.8344, 0.2257, 0.4279]\n",
      "PeriodicSite: O2- (8.609, -8.803, -6.09) [0.8344, 0.7257, 0.4279]\n",
      "PeriodicSite: O2- (8.662, -2.738, -10.84) [0.8344, 0.2257, 0.7612]\n",
      "PeriodicSite: O2- (8.609, -8.803, -10.83) [0.8344, 0.7257, 0.7612]\n",
      "PeriodicSite: O2- (8.682, -0.2668, -1.36) [0.8342, 0.02199, 0.09553]\n",
      "PeriodicSite: O2- (8.629, -6.332, -1.359) [0.8342, 0.522, 0.09553]\n",
      "PeriodicSite: O2- (8.682, -0.2668, -6.105) [0.8342, 0.02199, 0.4289]\n",
      "PeriodicSite: O2- (8.629, -6.332, -6.104) [0.8342, 0.522, 0.4289]\n",
      "PeriodicSite: O2- (8.682, -0.2668, -10.85) [0.8342, 0.02199, 0.7622]\n",
      "PeriodicSite: O2- (8.629, -6.332, -10.85) [0.8342, 0.522, 0.7622]}\n",
      "\n",
      "\n"
     ]
    },
    {
     "data": {
      "text/html": [
       "\n",
       "        <iframe\n",
       "            width=\"100%\"\n",
       "            height=\"650\"\n",
       "            src=\"http://127.0.0.1:8884/\"\n",
       "            frameborder=\"0\"\n",
       "            allowfullscreen\n",
       "            \n",
       "        ></iframe>\n",
       "        "
      ],
      "text/plain": [
       "<IPython.lib.display.IFrame at 0x147be5c90>"
      ]
     },
     "metadata": {},
     "output_type": "display_data"
    }
   ],
   "source": [
    "from pymatgen.transformations.advanced_transformations import DopingTransformation\n",
    "\n",
    "dt = DopingTransformation(\"Ca2+\", min_length=10)\n",
    "lst_dopings = dt.apply_transformation(structure, return_ranked_list=3)\n",
    "\n",
    "for idx, ostruct in enumerate(lst_dopings):\n",
    "    print(f\"---Ordering {idx+1}\")\n",
    "    print(ostruct)\n",
    "    print(\"\\n\")\n",
    "\n",
    "lst_dopings[0][\"structure\"]"
   ]
  },
  {
   "cell_type": "markdown",
   "id": "c78c6c2e",
   "metadata": {
    "slideshow": {
     "slide_type": "slide"
    }
   },
   "source": [
    "# Analyzing crystal symmetry using SpaceGroupAnalyzer\n",
    "\n",
    "\n",
    "Pymatgen can analyze crystal symmetry by making use of the **spglib** library written by Atsushi Togo *et al.* Typically, **spglib** should already be installed automatically when you install **pymatgen**.\n",
    "\n",
    "If you use the tools in ``SpaceGroupAnalyzer``, you should cite the **spglib** paper:\n",
    "\n",
    "\n",
    "1. Atsushi Togo, Kohei Shinohara & Isao Tanaka (2024) Spglib: a software\n",
    "library for crystal symmetry search, Science and Technology of Advanced Materials: Methods,\n",
    "4:1, 2384822, DOI: 10.1080/27660400.2024.2384822"
   ]
  },
  {
   "cell_type": "code",
   "execution_count": 15,
   "id": "5ab60b3e",
   "metadata": {
    "scrolled": true,
    "slideshow": {
     "slide_type": "fragment"
    }
   },
   "outputs": [
    {
     "name": "stdout",
     "output_type": "stream",
     "text": [
      "Full Formula (Si2)\n",
      "Reduced Formula: Si\n",
      "abc   :   3.840198   3.840199   3.840198\n",
      "angles: 119.999991  90.000000  60.000009\n",
      "pbc   :       True       True       True\n",
      "Sites (2)\n",
      "  #  SP       a    b     c\n",
      "---  ----  ----  ---  ----\n",
      "  0  Si    0     0    0\n",
      "  1  Si    0.75  0.5  0.75\n"
     ]
    },
    {
     "data": {
      "text/html": [
       "\n",
       "        <iframe\n",
       "            width=\"100%\"\n",
       "            height=\"650\"\n",
       "            src=\"http://127.0.0.1:8884/\"\n",
       "            frameborder=\"0\"\n",
       "            allowfullscreen\n",
       "            \n",
       "        ></iframe>\n",
       "        "
      ],
      "text/plain": [
       "<IPython.lib.display.IFrame at 0x1450dc2d0>"
      ]
     },
     "metadata": {},
     "output_type": "display_data"
    }
   ],
   "source": [
    "structure = Structure.from_file(\"structures/Si.json\")\n",
    "print(structure)\n",
    "structure"
   ]
  },
  {
   "cell_type": "code",
   "execution_count": 16,
   "id": "ab3a4f51",
   "metadata": {
    "slideshow": {
     "slide_type": "fragment"
    }
   },
   "outputs": [
    {
     "name": "stdout",
     "output_type": "stream",
     "text": [
      "Default settings - Structure spacegroup: symbol: Fd-3m, number: 227\n"
     ]
    }
   ],
   "source": [
    "# getting the space group\n",
    "\n",
    "from pymatgen.symmetry.analyzer import SpacegroupAnalyzer\n",
    "\n",
    "sga_default = SpacegroupAnalyzer(structure)\n",
    "sg_symbol, sg_number = sga_default.get_space_group_symbol(), sga_default.get_space_group_number()\n",
    "\n",
    "print(f\"Default settings - Structure spacegroup: symbol: {sg_symbol}, number: {sg_number}\")"
   ]
  },
  {
   "cell_type": "code",
   "execution_count": 17,
   "id": "9c7e2b05",
   "metadata": {
    "slideshow": {
     "slide_type": "fragment"
    }
   },
   "outputs": [
    {
     "name": "stdout",
     "output_type": "stream",
     "text": [
      "Tight settings - Structure spacegroup: symbol: I4_1/amd, number: 141\n"
     ]
    }
   ],
   "source": [
    "# modifying the numerical tolerances of the SpacegroupAnalyzer\n",
    "\n",
    "sga_tight = SpacegroupAnalyzer(structure, symprec=1E-5, angle_tolerance=1E-5)  # this is too tight for general use\n",
    "sg_symbol, sg_number = sga_tight.get_space_group_symbol(), sga_tight.get_space_group_number()\n",
    "print(f\"Tight settings - Structure spacegroup: symbol: {sg_symbol}, number: {sg_number}\")"
   ]
  },
  {
   "cell_type": "code",
   "execution_count": 18,
   "id": "dc271412",
   "metadata": {
    "slideshow": {
     "slide_type": "fragment"
    }
   },
   "outputs": [
    {
     "name": "stdout",
     "output_type": "stream",
     "text": [
      "Full Formula (Si2)\n",
      "Reduced Formula: Si\n",
      "abc   :   3.840198   3.840199   3.840198\n",
      "angles: 119.999991  90.000000  60.000009\n",
      "pbc   :       True       True       True\n",
      "Sites (2)\n",
      "  #  SP           a         b         c\n",
      "---  ----  --------  --------  --------\n",
      "  0  Si    0.98793   0.004919  0.994394\n",
      "  1  Si    0.755727  0.49869   0.737389\n"
     ]
    },
    {
     "data": {
      "text/html": [
       "\n",
       "        <iframe\n",
       "            width=\"100%\"\n",
       "            height=\"650\"\n",
       "            src=\"http://127.0.0.1:8884/\"\n",
       "            frameborder=\"0\"\n",
       "            allowfullscreen\n",
       "            \n",
       "        ></iframe>\n",
       "        "
      ],
      "text/plain": [
       "<IPython.lib.display.IFrame at 0x14963bbd0>"
      ]
     },
     "metadata": {},
     "output_type": "display_data"
    }
   ],
   "source": [
    "perturb_transformation = PerturbStructureTransformation(distance=0.05)\n",
    "\n",
    "# Apply the transformation\n",
    "perturbed_structure = perturb_transformation.apply_transformation(structure)\n",
    "print(perturbed_structure)\n",
    "perturbed_structure"
   ]
  },
  {
   "cell_type": "code",
   "execution_count": 19,
   "id": "a91c252e",
   "metadata": {
    "slideshow": {
     "slide_type": "fragment"
    }
   },
   "outputs": [
    {
     "name": "stdout",
     "output_type": "stream",
     "text": [
      "Default settings - Perturbed structure spacegroup: symbol: P-1, number: 2\n"
     ]
    }
   ],
   "source": [
    "sga_default = SpacegroupAnalyzer(perturbed_structure)\n",
    "sg_symbol, sg_number = sga_default.get_space_group_symbol(), sga_default.get_space_group_number()\n",
    "\n",
    "print(f\"Default settings - Perturbed structure spacegroup: symbol: {sg_symbol}, number: {sg_number}\")"
   ]
  },
  {
   "cell_type": "code",
   "execution_count": 20,
   "id": "4400ffd1",
   "metadata": {
    "slideshow": {
     "slide_type": "fragment"
    }
   },
   "outputs": [
    {
     "name": "stdout",
     "output_type": "stream",
     "text": [
      "Loose settings - Perturbed structure spacegroup: symbol: Fd-3m, number: 227\n"
     ]
    }
   ],
   "source": [
    "# Getting \"ideal\" symmetry for a perturbed structure\n",
    "\n",
    "sga_loose = SpacegroupAnalyzer(perturbed_structure, symprec=0.2, angle_tolerance=10)  # too loose for general use\n",
    "sg_symbol, sg_number = sga_loose.get_space_group_symbol(), sga_loose.get_space_group_number()\n",
    "\n",
    "print(f\"Loose settings - Perturbed structure spacegroup: symbol: {sg_symbol}, number: {sg_number}\")"
   ]
  },
  {
   "cell_type": "markdown",
   "id": "b7632aab",
   "metadata": {
    "slideshow": {
     "slide_type": "slide"
    }
   },
   "source": [
    "# Transforming Structures to different settings based on symmetry\n",
    "\n",
    "Crystal structures can be represented by various *settings*. A particular setting may be optimal for reducing the number of atoms in the unit cell (primitive cell) or for highlighting the symmetry inherent in the structure (conventional cell).\n",
    "\n",
    "Pymatgen offers tools to get crystal structures in various settings, and also to symmetrize structures in which atoms may not be in their ideal symmetry locations."
   ]
  },
  {
   "cell_type": "code",
   "execution_count": 21,
   "id": "5e1cf051",
   "metadata": {
    "slideshow": {
     "slide_type": "fragment"
    }
   },
   "outputs": [
    {
     "name": "stdout",
     "output_type": "stream",
     "text": [
      "Full Formula (Si2)\n",
      "Reduced Formula: Si\n",
      "abc   :   3.840198   3.840199   3.840198\n",
      "angles: 119.999991  90.000000  60.000009\n",
      "pbc   :       True       True       True\n",
      "Sites (2)\n",
      "  #  SP       a    b     c\n",
      "---  ----  ----  ---  ----\n",
      "  0  Si    0     0    0\n",
      "  1  Si    0.75  0.5  0.75\n"
     ]
    },
    {
     "data": {
      "text/html": [
       "\n",
       "        <iframe\n",
       "            width=\"100%\"\n",
       "            height=\"650\"\n",
       "            src=\"http://127.0.0.1:8884/\"\n",
       "            frameborder=\"0\"\n",
       "            allowfullscreen\n",
       "            \n",
       "        ></iframe>\n",
       "        "
      ],
      "text/plain": [
       "<IPython.lib.display.IFrame at 0x149f65c90>"
      ]
     },
     "metadata": {},
     "output_type": "display_data"
    }
   ],
   "source": [
    "structure = Structure.from_file(\"structures/Si.json\")\n",
    "print(structure)  # primitive cell\n",
    "structure"
   ]
  },
  {
   "cell_type": "code",
   "execution_count": 22,
   "id": "369273c4",
   "metadata": {
    "slideshow": {
     "slide_type": "fragment"
    }
   },
   "outputs": [
    {
     "name": "stdout",
     "output_type": "stream",
     "text": [
      "Full Formula (Si8)\n",
      "Reduced Formula: Si\n",
      "abc   :   5.430861   5.430861   5.430861\n",
      "angles:  90.000000  90.000000  90.000000\n",
      "pbc   :       True       True       True\n",
      "Sites (8)\n",
      "  #  SP       a     b     c\n",
      "---  ----  ----  ----  ----\n",
      "  0  Si    0     0     0\n",
      "  1  Si    0.25  0.75  0.75\n",
      "  2  Si    0     0.5   0.5\n",
      "  3  Si    0.25  0.25  0.25\n",
      "  4  Si    0.5   0     0.5\n",
      "  5  Si    0.75  0.75  0.25\n",
      "  6  Si    0.5   0.5   0\n",
      "  7  Si    0.75  0.25  0.75\n"
     ]
    },
    {
     "data": {
      "text/html": [
       "\n",
       "        <iframe\n",
       "            width=\"100%\"\n",
       "            height=\"650\"\n",
       "            src=\"http://127.0.0.1:8884/\"\n",
       "            frameborder=\"0\"\n",
       "            allowfullscreen\n",
       "            \n",
       "        ></iframe>\n",
       "        "
      ],
      "text/plain": [
       "<IPython.lib.display.IFrame at 0x148bfb290>"
      ]
     },
     "metadata": {},
     "output_type": "display_data"
    }
   ],
   "source": [
    "# transform primitive structure to conventional structure representation\n",
    "conventional_structure = SpacegroupAnalyzer(structure).get_conventional_standard_structure()\n",
    "print(conventional_structure)\n",
    "conventional_structure"
   ]
  },
  {
   "cell_type": "code",
   "execution_count": 23,
   "id": "ae37cdb5",
   "metadata": {
    "slideshow": {
     "slide_type": "fragment"
    }
   },
   "outputs": [
    {
     "name": "stdout",
     "output_type": "stream",
     "text": [
      "SymmetrizedStructure\n",
      "Full Formula (Si8)\n",
      "Reduced Formula: Si\n",
      "Spacegroup: Fd-3m (227)\n",
      "abc   :   5.430861   5.430861   5.430861\n",
      "angles:  90.000000  90.000000  90.000000\n",
      "Sites (8)\n",
      "  #  SP      a    b    c  Wyckoff\n",
      "---  ----  ---  ---  ---  ---------\n",
      "  0  Si      0    0    0  8a\n",
      "[[0, 1, 2, 3, 4, 5, 6, 7]]\n",
      "['a', 'a', 'a', 'a', 'a', 'a', 'a', 'a']\n",
      "['8a']\n"
     ]
    }
   ],
   "source": [
    "# get Wyckoff labels for conventional structure\n",
    "symmetrized_structure = SpacegroupAnalyzer(conventional_structure).get_symmetrized_structure()\n",
    "print(symmetrized_structure)\n",
    "print(symmetrized_structure.equivalent_indices)\n",
    "print(symmetrized_structure.wyckoff_letters)\n",
    "print(symmetrized_structure.wyckoff_symbols)\n"
   ]
  },
  {
   "cell_type": "code",
   "execution_count": 24,
   "id": "85d357e2",
   "metadata": {
    "slideshow": {
     "slide_type": "fragment"
    }
   },
   "outputs": [
    {
     "name": "stdout",
     "output_type": "stream",
     "text": [
      "Full Formula (Si2)\n",
      "Reduced Formula: Si\n",
      "abc   :   3.840199   3.840199   3.840199\n",
      "angles:  60.000000  60.000000  60.000000\n",
      "pbc   :       True       True       True\n",
      "Sites (2)\n",
      "  #  SP       a     b     c\n",
      "---  ----  ----  ----  ----\n",
      "  0  Si    0     0     0\n",
      "  1  Si    0.25  0.25  0.25\n"
     ]
    },
    {
     "data": {
      "text/html": [
       "\n",
       "        <iframe\n",
       "            width=\"100%\"\n",
       "            height=\"650\"\n",
       "            src=\"http://127.0.0.1:8884/\"\n",
       "            frameborder=\"0\"\n",
       "            allowfullscreen\n",
       "            \n",
       "        ></iframe>\n",
       "        "
      ],
      "text/plain": [
       "<IPython.lib.display.IFrame at 0x14a33c910>"
      ]
     },
     "metadata": {},
     "output_type": "display_data"
    }
   ],
   "source": [
    "# conventional structure back to primitive\n",
    "\n",
    "# primitive cell standards are in:\n",
    "#\n",
    "# Setyawan, W., & Curtarolo, S. (2010). High-throughput electronic band structure \n",
    "# calculations: Challenges and tools. Computational Materials Science, 49(2), 299-312.\n",
    "# doi:10.1016/j.commatsci.2010.05.010.\n",
    "\n",
    "primitive_structure = SpacegroupAnalyzer(conventional_structure).get_primitive_standard_structure()\n",
    "print(primitive_structure)\n",
    "primitive_structure"
   ]
  },
  {
   "cell_type": "code",
   "execution_count": 25,
   "id": "83ec91ed",
   "metadata": {
    "slideshow": {
     "slide_type": "fragment"
    }
   },
   "outputs": [
    {
     "name": "stdout",
     "output_type": "stream",
     "text": [
      "---Perturbed structure---\n",
      "Full Formula (Si8)\n",
      "Reduced Formula: Si\n",
      "abc   :   5.430861   5.430861   5.430861\n",
      "angles:  90.000000  90.000000  90.000000\n",
      "pbc   :       True       True       True\n",
      "Sites (8)\n",
      "  #  SP           a         b         c\n",
      "---  ----  --------  --------  --------\n",
      "  0  Si    0.007489  0.997981  0.995039\n",
      "  1  Si    0.248985  0.75708   0.744204\n",
      "  2  Si    0.994407  0.49272   0.500698\n",
      "  3  Si    0.255197  0.257494  0.251263\n",
      "  4  Si    0.495836  0.994135  0.505746\n",
      "  5  Si    0.751543  0.742578  0.255224\n",
      "  6  Si    0.490899  0.50041   0.00133\n",
      "  7  Si    0.748475  0.259072  0.750374\n"
     ]
    }
   ],
   "source": [
    "# perturb the primitive structure and use space group analysis to make the atom positions \"perfect\" again\n",
    "perturbed_structure = perturb_transformation.apply_transformation(conventional_structure)\n",
    "print(\"---Perturbed structure---\")\n",
    "print(perturbed_structure)"
   ]
  },
  {
   "cell_type": "code",
   "execution_count": 26,
   "id": "42b6eba8",
   "metadata": {
    "slideshow": {
     "slide_type": "fragment"
    }
   },
   "outputs": [
    {
     "name": "stdout",
     "output_type": "stream",
     "text": [
      "---Refined structure---\n",
      "Full Formula (Si8)\n",
      "Reduced Formula: Si\n",
      "abc   :   5.430861   5.430861   5.430861\n",
      "angles:  90.000000  90.000000  90.000000\n",
      "pbc   :       True       True       True\n",
      "Sites (8)\n",
      "  #  SP       a     b     c\n",
      "---  ----  ----  ----  ----\n",
      "  0  Si    0.5   0.5   0\n",
      "  1  Si    0.25  0.25  0.25\n",
      "  2  Si    0.5   0     0.5\n",
      "  3  Si    0.25  0.75  0.75\n",
      "  4  Si    0     0.5   0.5\n",
      "  5  Si    0.75  0.25  0.75\n",
      "  6  Si    0     0     0\n",
      "  7  Si    0.75  0.75  0.25\n"
     ]
    }
   ],
   "source": [
    "sga_loose = SpacegroupAnalyzer(perturbed_structure, symprec=0.2, angle_tolerance=10) \n",
    "unperturbed_structure = sga_loose.get_refined_structure()  # space group analyzer with loose tolerances\n",
    "print(\"---Refined structure---\")\n",
    "print(unperturbed_structure)"
   ]
  },
  {
   "cell_type": "markdown",
   "id": "cca982a0",
   "metadata": {
    "slideshow": {
     "slide_type": "slide"
    }
   },
   "source": [
    "# Local environment analysis (coordination number, coordination polyhedra)\n",
    "\n",
    "In addition to analyzing the *global* symmetry of ``Structure`` objects, **pymatgen** has routines for analyzing *local* environments. There are several algorithms implemented for local environment analysis and this tutorial will demo several of them. We will cover:\n",
    "\n",
    "* Different methods to assess nearest neighbors and coordination number of sites in a ``Structure``\n",
    "* Determining the type of coordination polyhedra using an order-parameter based method as well as based on the **Chemenv** package"
   ]
  },
  {
   "cell_type": "code",
   "execution_count": 27,
   "id": "a38dbb27",
   "metadata": {
    "slideshow": {
     "slide_type": "fragment"
    }
   },
   "outputs": [
    {
     "data": {
      "text/html": [
       "\n",
       "        <iframe\n",
       "            width=\"100%\"\n",
       "            height=\"650\"\n",
       "            src=\"http://127.0.0.1:8884/\"\n",
       "            frameborder=\"0\"\n",
       "            allowfullscreen\n",
       "            \n",
       "        ></iframe>\n",
       "        "
      ],
      "text/plain": [
       "<IPython.lib.display.IFrame at 0x14e02fb50>"
      ]
     },
     "metadata": {},
     "output_type": "display_data"
    }
   ],
   "source": [
    "# Get a test structure\n",
    "structure = Structure.from_file(\"structures/LiFePO4.json\")\n",
    "structure"
   ]
  },
  {
   "cell_type": "code",
   "execution_count": 28,
   "id": "9520fa78",
   "metadata": {
    "slideshow": {
     "slide_type": "fragment"
    }
   },
   "outputs": [
    {
     "name": "stdout",
     "output_type": "stream",
     "text": [
      "Min. distance Coordination number of site 0 (Li): 6\n",
      "Min. distance Coordination number of site 5 (Fe): 5\n",
      "Min. distance Neighbors of site 5 (Fe):\n",
      " [PeriodicNeighbor: O (0.9618, -4.552, -1.226) [0.2585, 0.7504, 0.09622], PeriodicNeighbor: O (1.695, -3.328, 1.346) [-0.2837, 0.5486, 0.1656], PeriodicNeighbor: O (3.424, -6.333, -1.012) [0.2135, 1.044, 0.3342], PeriodicNeighbor: O (4.716, -4.542, 0.9893) [-0.2084, 0.7489, 0.4568], PeriodicNeighbor: O (3.457, -2.738, -1.026) [0.2163, 0.4514, 0.3344]]\n"
     ]
    }
   ],
   "source": [
    "# The MinimumDistanceNN considers neighbors to be (i) the closest atom and \n",
    "# (ii) any other atoms that are within a certain distance tolerance of that near neighbor distance\n",
    "# This is good for simple structures but will fail for complex structures & environments\n",
    "\n",
    "from pymatgen.analysis.local_env import MinimumDistanceNN\n",
    "nn_analyzer = MinimumDistanceNN(tol=0.1)  # all neighbors within 10% of minimum distance neighbor\n",
    "print(f\"Min. distance Coordination number of site 0 (Li): {nn_analyzer.get_cn(structure, 0)}\")\n",
    "print(f\"Min. distance Coordination number of site 5 (Fe): {nn_analyzer.get_cn(structure, 5)}\")\n",
    "print(f\"Min. distance Neighbors of site 5 (Fe):\\n {nn_analyzer.get_nn(structure, 5)}\")"
   ]
  },
  {
   "cell_type": "code",
   "execution_count": 29,
   "id": "a1188570",
   "metadata": {
    "slideshow": {
     "slide_type": "fragment"
    }
   },
   "outputs": [
    {
     "name": "stdout",
     "output_type": "stream",
     "text": [
      "Voronoi Coordination number of site 5 (Fe): 15\n"
     ]
    }
   ],
   "source": [
    "# The VoronoiNN algorithm constructs neighbors to be the atoms within the Voronoi polyhedra\n",
    "# of the central atom.\n",
    "# It works well for structures with high levels of symmetry, but requires parameter tuning\n",
    "# for complex structures.\n",
    "\n",
    "from pymatgen.analysis.local_env import VoronoiNN\n",
    "nn_analyzer = VoronoiNN()  # note that there are user-settable parameters not shown here\n",
    "print(f\"Voronoi Coordination number of site 5 (Fe): {nn_analyzer.get_cn(structure, 5)}\")"
   ]
  },
  {
   "cell_type": "code",
   "execution_count": 30,
   "id": "b2866bd9",
   "metadata": {
    "slideshow": {
     "slide_type": "fragment"
    }
   },
   "outputs": [
    {
     "name": "stdout",
     "output_type": "stream",
     "text": [
      "CrystalNN Coordination number of site 5 (Fe): 6\n"
     ]
    }
   ],
   "source": [
    "# The CrystalNN algorithm is tuned to give good \"out of the box\" results on crystals of various types\n",
    "\n",
    "# If you use this method, you should cite:\n",
    "#\n",
    "# Pan, H.; Ganose, A. M.; Horton, M.; Aykol, M.; Persson, K. A.; Zimmermann, N. E. R.; \n",
    "# Jain, A. Benchmarking Coordination Number Prediction Algorithms on Inorganic Crystal \n",
    "# Structures. Inorg. Chem. 2021, 60 (3), 1590–1603. https://doi.org/10.1021/acs.inorgchem.0c02996.\n",
    "\n",
    "\n",
    "from pymatgen.analysis.local_env import CrystalNN\n",
    "nn_analyzer = CrystalNN()\n",
    "print(f\"CrystalNN Coordination number of site 5 (Fe): {nn_analyzer.get_cn(structure, 5)}\")"
   ]
  },
  {
   "cell_type": "markdown",
   "id": "844e958b",
   "metadata": {
    "slideshow": {
     "slide_type": "slide"
    }
   },
   "source": [
    "# The ChemEnv package\n",
    "\n",
    "The **ChemEnv** package is the most powerful tool in pymatgen for evaluating local environments and coordination polyhedra. Unfortunately, there are an infinite number of user-tunable settings and strategies that are difficult to understand. This tutorial will demo two common \"strategies\" in **ChemEnv**.\n",
    "\n",
    "If you use the **ChemEnv** package you should cite the paper below:\n",
    "\n",
    "1. Waroquiers, D.; George, J.; Horton, M.; Schenk, S.; Persson, K. A.; Rignanese, G.-M.; Gonze, X.; Hautier, G. ChemEnv : A Fast and Robust Coordination Environment Identification Tool. Acta Crystallogr B Struct Sci Cryst Eng Mater 2020, 76 (4), 683–695. https://doi.org/10.1107/S2052520620007994.\n",
    "\n",
    "The paper also links to another tutorial for **ChemEnv**: https://journals.iucr.org/b/issues/2020/04/00/lo5066/lo5066sup1.pdf\n"
   ]
  },
  {
   "cell_type": "code",
   "execution_count": 31,
   "id": "045829e0",
   "metadata": {
    "slideshow": {
     "slide_type": "fragment"
    }
   },
   "outputs": [
    {
     "data": {
      "text/html": [
       "\n",
       "        <iframe\n",
       "            width=\"100%\"\n",
       "            height=\"650\"\n",
       "            src=\"http://127.0.0.1:8884/\"\n",
       "            frameborder=\"0\"\n",
       "            allowfullscreen\n",
       "            \n",
       "        ></iframe>\n",
       "        "
      ],
      "text/plain": [
       "<IPython.lib.display.IFrame at 0x147a93cd0>"
      ]
     },
     "metadata": {},
     "output_type": "display_data"
    }
   ],
   "source": [
    "structure = Structure.from_file(\"structures/LiFePO4.json\")\n",
    "structure"
   ]
  },
  {
   "cell_type": "code",
   "execution_count": 32,
   "id": "1ffd2003",
   "metadata": {
    "slideshow": {
     "slide_type": "fragment"
    }
   },
   "outputs": [],
   "source": [
    "from pymatgen.analysis.chemenv.coordination_environments.coordination_geometry_finder import LocalGeometryFinder\n",
    "\n",
    "# determine the coordination environments - this does the basic pre-processing needed by ChemEnv\n",
    "# It tries to make a \"map\" of different possible coordination environments, which can subsequently be\n",
    "# processed to give probabilities of different environments\n",
    "\n",
    "lgf = LocalGeometryFinder()\n",
    "lgf.setup_structure(structure)\n",
    "se = lgf.compute_structure_environments(maximum_distance_factor=1.41)\n"
   ]
  },
  {
   "cell_type": "code",
   "execution_count": 33,
   "id": "baed873a",
   "metadata": {
    "slideshow": {
     "slide_type": "fragment"
    }
   },
   "outputs": [
    {
     "name": "stdout",
     "output_type": "stream",
     "text": [
      "Site: [ 1.03571438e+01 -6.06547671e+00  3.70310839e-04] Li\n",
      " Coordination: [{'ce_symbol': 'O:6', 'ce_fraction': 1, 'csm': 2.074975444793722, 'permutation': [0, 3, 5, 1, 4, 2]}]\n",
      "\n",
      "\n",
      "Site: [-0.02645722 -3.03276868 -4.74456093] Li\n",
      " Coordination: [{'ce_symbol': 'O:6', 'ce_fraction': 1, 'csm': 2.045412985844226, 'permutation': [3, 4, 5, 0, 2, 1]}]\n",
      "\n",
      "\n",
      "Site: [ 5.15206288 -6.06547671 -2.37195205] Li\n",
      " Coordination: [{'ce_symbol': 'O:6', 'ce_fraction': 1, 'csm': 2.0750553403164074, 'permutation': [2, 4, 5, 1, 0, 3]}]\n",
      "\n",
      "\n",
      "Site: [ 5.17862367 -3.03276868 -2.37228601] Li\n",
      " Coordination: [{'ce_symbol': 'O:6', 'ce_fraction': 1, 'csm': 2.0443429346309263, 'permutation': [3, 5, 4, 2, 0, 1]}]\n",
      "\n",
      "\n",
      "Site: [ 2.26474197 -1.53724979 -2.49124745] Fe\n",
      " Coordination: [{'ce_symbol': 'O:6', 'ce_fraction': 1, 'csm': 2.3687267573000335, 'permutation': [1, 4, 3, 2, 5, 0]}]\n",
      "\n",
      "\n",
      "Site: [ 2.88732144 -4.52816626 -0.11870377] Fe\n",
      " Coordination: [{'ce_symbol': 'O:6', 'ce_fraction': 1, 'csm': 2.36886727996453, 'permutation': [0, 4, 2, 5, 1, 3]}]\n",
      "\n",
      "\n",
      "Site: [ 7.4699259 -1.5373711 -4.6259157] Fe\n",
      " Coordination: [{'ce_symbol': 'O:6', 'ce_fraction': 1, 'csm': 2.368662459643493, 'permutation': [4, 2, 3, 1, 0, 5]}]\n",
      "\n",
      "\n",
      "Site: [ 8.09250697 -4.52810561 -2.2531348 ] Fe\n",
      " Coordination: [{'ce_symbol': 'O:6', 'ce_fraction': 1, 'csm': 2.369034346074599, 'permutation': [3, 2, 5, 0, 4, 1]}]\n",
      "\n",
      "\n",
      "Site: [ 0.94322357 -4.55940378 -2.7614195 ] P\n",
      " Coordination: [{'ce_symbol': 'T:4', 'ce_fraction': 1, 'csm': 0.14043620647761226, 'permutation': [0, 1, 2, 3]}]\n",
      "\n",
      "\n",
      "Site: [ 4.2088393  -1.50607293 -0.38929658] P\n",
      " Coordination: [{'ce_symbol': 'T:4', 'ce_fraction': 1, 'csm': 0.14038177432663668, 'permutation': [0, 1, 2, 3]}]\n",
      "\n",
      "\n",
      "Site: [ 6.14830181 -4.55970706 -4.35513309] P\n",
      " Coordination: [{'ce_symbol': 'T:4', 'ce_fraction': 1, 'csm': 0.14035583231692159, 'permutation': [0, 1, 2, 3]}]\n",
      "\n",
      "\n",
      "Site: [ 9.41412947 -1.50595162 -1.98286785] P\n",
      " Coordination: [{'ce_symbol': 'T:4', 'ce_fraction': 1, 'csm': 0.14046225058629636, 'permutation': [0, 1, 2, 3]}]\n",
      "\n",
      "\n",
      "Site: [ 0.43607551 -1.52317774 -1.38329616] O\n",
      " Coordination: [{'ce_symbol': 'T:4', 'ce_fraction': 1, 'csm': 3.794704808545632, 'permutation': [0, 1, 2, 3]}]\n",
      "\n",
      "\n",
      "Site: [ 0.96182097 -4.55176121 -1.22628733] O\n",
      " Coordination: [{'ce_symbol': 'S:1', 'ce_fraction': 1, 'csm': 0.0, 'permutation': [0]}]\n",
      "\n",
      "\n",
      "Site: [ 1.67525728 -5.79828979 -3.38485293] O\n",
      " Coordination: [{'ce_symbol': 'A:2', 'ce_fraction': 1, 'csm': 1.1910305974793904, 'permutation': [0, 1]}]\n",
      "\n",
      "\n",
      "Site: [ 1.69502239 -3.3275538  -3.39834193] O\n",
      " Coordination: [{'ce_symbol': 'TY:3', 'ce_fraction': 1, 'csm': 3.2357292077912403, 'permutation': [0, 1, 2]}]\n",
      "\n",
      "\n",
      "Site: [ 3.45703995 -2.73798357 -1.02606825] O\n",
      " Coordination: [{'ce_symbol': 'TY:3', 'ce_fraction': 1, 'csm': 3.236700924955966, 'permutation': [0, 1, 2]}]\n",
      "\n",
      "\n",
      "Site: [ 3.47670097 -0.26724758 -1.01274914] O\n",
      " Coordination: [{'ce_symbol': 'A:2', 'ce_fraction': 1, 'csm': 1.1911443202029006, 'permutation': [0, 1]}]\n",
      "\n",
      "\n",
      "Site: [ 4.19024244 -1.51365485 -3.59891612] O\n",
      " Coordination: [{'ce_symbol': 'S:1', 'ce_fraction': 1, 'csm': 0.0, 'permutation': [0]}]\n",
      "\n",
      "\n",
      "Site: [ 4.71588167 -4.54248093 -3.75553856] O\n",
      " Coordination: [{'ce_symbol': 'T:4', 'ce_fraction': 1, 'csm': 3.7951317819283465, 'permutation': [0, 1, 2, 3]}]\n",
      "\n",
      "\n",
      "Site: [ 5.64115747 -1.52305643 -0.98893858] O\n",
      " Coordination: [{'ce_symbol': 'T:4', 'ce_fraction': 1, 'csm': 3.7936358518170477, 'permutation': [0, 1, 2, 3]}]\n",
      "\n",
      "\n",
      "Site: [ 6.16700437 -4.55194317 -1.14551356] O\n",
      " Coordination: [{'ce_symbol': 'S:1', 'ce_fraction': 1, 'csm': 0.0, 'permutation': [0]}]\n",
      "\n",
      "\n",
      "Site: [ 6.88012571 -5.79877503 -3.73177541] O\n",
      " Coordination: [{'ce_symbol': 'A:2', 'ce_fraction': 1, 'csm': 1.190656074721648, 'permutation': [0, 1]}]\n",
      "\n",
      "\n",
      "Site: [ 6.90041188 -3.32797839 -3.71812416] O\n",
      " Coordination: [{'ce_symbol': 'TY:3', 'ce_fraction': 1, 'csm': 3.2363610074072784, 'permutation': [0, 1, 2]}]\n",
      "\n",
      "\n",
      "Site: [ 8.66202047 -2.73755898 -1.3457082 ] O\n",
      " Coordination: [{'ce_symbol': 'TY:3', 'ce_fraction': 1, 'csm': 3.2352580229702452, 'permutation': [0, 1, 2]}]\n",
      "\n",
      "\n",
      "Site: [ 8.6823061  -0.26682299 -1.35971913] O\n",
      " Coordination: [{'ce_symbol': 'A:2', 'ce_fraction': 1, 'csm': 1.1915956567202084, 'permutation': [0, 1]}]\n",
      "\n",
      "\n",
      "Site: [ 9.39542585 -1.51383682 -3.5180949 ] O\n",
      " Coordination: [{'ce_symbol': 'S:1', 'ce_fraction': 1, 'csm': 0.0, 'permutation': [0]}]\n",
      "\n",
      "\n",
      "Site: [ 9.92127541 -4.54242028 -3.36099118] O\n",
      " Coordination: [{'ce_symbol': 'T:4', 'ce_fraction': 1, 'csm': 3.79416719238759, 'permutation': [0, 1, 2, 3]}]\n",
      "\n",
      "\n"
     ]
    }
   ],
   "source": [
    "from pymatgen.analysis.chemenv.coordination_environments.structure_environments import LightStructureEnvironments\n",
    "from pymatgen.analysis.chemenv.coordination_environments.chemenv_strategies import SimplestChemenvStrategy\n",
    "\n",
    "# ChemEnv has multiple \"strategies\" for giving answers, and multiple levels of detail in which to report results\n",
    "# In the simplest \"strategy\" and level of detail, each site in the structure has a single coordination environment\n",
    "strategy = SimplestChemenvStrategy(distance_cutoff=1.4, angle_cutoff=0.3)\n",
    "lse = LightStructureEnvironments.from_structure_environments(strategy=strategy, structure_environments=se)\n",
    "\n",
    "\n",
    "# print the coordination environments\n",
    "# O:6=octahedral, T:4=tetrahedral, S:1=single neighbor, A:2=angular, TY:3=Triangular non-coplanar\n",
    "# A description of all the coordination environments is in: \n",
    "# https://journals.iucr.org/b/issues/2020/04/00/lo5066/lo5066sup3.pdf\n",
    "for i in range(len(structure.sites)):\n",
    "    print(f\"Site: {structure.sites[i]}\\n Coordination: {lse.coordination_environments[i]}\\n\\n\")"
   ]
  },
  {
   "cell_type": "code",
   "execution_count": 34,
   "id": "64312097",
   "metadata": {
    "slideshow": {
     "slide_type": "fragment"
    }
   },
   "outputs": [
    {
     "name": "stdout",
     "output_type": "stream",
     "text": [
      "Site: [ 1.03571438e+01 -6.06547671e+00  3.70310839e-04] Li\n",
      " Coordination: [{'ce_symbol': 'O:6', 'ce_fraction': 1.0, 'csm': 2.074975444793722, 'permutation': [0, 3, 5, 1, 4, 2]}]\n",
      "\n",
      "\n",
      "Site: [-0.02645722 -3.03276868 -4.74456093] Li\n",
      " Coordination: [{'ce_symbol': 'O:6', 'ce_fraction': 1.0, 'csm': 2.045412985844226, 'permutation': [3, 4, 5, 0, 2, 1]}]\n",
      "\n",
      "\n",
      "Site: [ 5.15206288 -6.06547671 -2.37195205] Li\n",
      " Coordination: [{'ce_symbol': 'O:6', 'ce_fraction': 1.0, 'csm': 2.0750553403164074, 'permutation': [2, 4, 5, 1, 0, 3]}]\n",
      "\n",
      "\n",
      "Site: [ 5.17862367 -3.03276868 -2.37228601] Li\n",
      " Coordination: [{'ce_symbol': 'O:6', 'ce_fraction': 1.0, 'csm': 2.0443429346309263, 'permutation': [3, 5, 4, 2, 0, 1]}]\n",
      "\n",
      "\n",
      "Site: [ 2.26474197 -1.53724979 -2.49124745] Fe\n",
      " Coordination: [{'ce_symbol': 'O:6', 'ce_fraction': 0.6592417517712533, 'csm': 2.3687267573000335, 'permutation': [1, 4, 3, 2, 5, 0]}, {'ce_symbol': 'SS:4', 'ce_fraction': 0.3407582482205001, 'csm': 0.07964041379461761, 'permutation': [0, 1, 2, 3]}, {'ce_symbol': 'SY:4', 'ce_fraction': 8.246564373940196e-12, 'csm': 7.996087968952373, 'permutation': [0, 3, 1, 2]}]\n",
      "\n",
      "\n",
      "Site: [ 2.88732144 -4.52816626 -0.11870377] Fe\n",
      " Coordination: [{'ce_symbol': 'O:6', 'ce_fraction': 0.6591529305722237, 'csm': 2.36886727996453, 'permutation': [0, 4, 2, 5, 1, 3]}, {'ce_symbol': 'SS:4', 'ce_fraction': 0.3408470694206383, 'csm': 0.0795826499780096, 'permutation': [0, 1, 2, 3]}, {'ce_symbol': 'SY:4', 'ce_fraction': 7.13797773324311e-12, 'csm': 7.996358085746505, 'permutation': [0, 3, 1, 2]}]\n",
      "\n",
      "\n",
      "Site: [ 7.4699259 -1.5373711 -4.6259157] Fe\n",
      " Coordination: [{'ce_symbol': 'O:6', 'ce_fraction': 0.6592856580819564, 'csm': 2.368662459643493, 'permutation': [4, 2, 3, 1, 0, 5]}, {'ce_symbol': 'SS:4', 'ce_fraction': 0.3407143419118857, 'csm': 0.07967441536921624, 'permutation': [2, 0, 1, 3]}, {'ce_symbol': 'SY:4', 'ce_fraction': 6.157929868788064e-12, 'csm': 7.996620497306905, 'permutation': [0, 1, 2, 3]}]\n",
      "\n",
      "\n",
      "Site: [ 8.09250697 -4.52810561 -2.2531348 ] Fe\n",
      " Coordination: [{'ce_symbol': 'O:6', 'ce_fraction': 0.659123474385044, 'csm': 2.369034346074599, 'permutation': [3, 2, 5, 0, 4, 1]}, {'ce_symbol': 'SS:4', 'ce_fraction': 0.340876525607819, 'csm': 0.07969039447213992, 'permutation': [1, 0, 2, 3]}, {'ce_symbol': 'SY:4', 'ce_fraction': 7.136991899209978e-12, 'csm': 7.996363465076165, 'permutation': [0, 2, 1, 3]}]\n",
      "\n",
      "\n",
      "Site: [ 0.94322357 -4.55940378 -2.7614195 ] P\n",
      " Coordination: [{'ce_symbol': 'T:4', 'ce_fraction': 1.0, 'csm': 0.14043620647761226, 'permutation': [0, 1, 2, 3]}]\n",
      "\n",
      "\n",
      "Site: [ 4.2088393  -1.50607293 -0.38929658] P\n",
      " Coordination: [{'ce_symbol': 'T:4', 'ce_fraction': 1.0, 'csm': 0.14038177432663668, 'permutation': [0, 1, 2, 3]}]\n",
      "\n",
      "\n",
      "Site: [ 6.14830181 -4.55970706 -4.35513309] P\n",
      " Coordination: [{'ce_symbol': 'T:4', 'ce_fraction': 1.0, 'csm': 0.14035583231692159, 'permutation': [0, 1, 2, 3]}]\n",
      "\n",
      "\n",
      "Site: [ 9.41412947 -1.50595162 -1.98286785] P\n",
      " Coordination: [{'ce_symbol': 'T:4', 'ce_fraction': 1.0, 'csm': 0.14046225058629636, 'permutation': [0, 1, 2, 3]}]\n",
      "\n",
      "\n",
      "Site: [ 0.43607551 -1.52317774 -1.38329616] O\n",
      " Coordination: [{'ce_symbol': 'S:1', 'ce_fraction': 0.7938726995345426, 'csm': 0.0, 'permutation': [0]}, {'ce_symbol': 'T:4', 'ce_fraction': 0.2061273004654573, 'csm': 3.794704808545632, 'permutation': [0, 1, 2, 3]}]\n",
      "\n",
      "\n",
      "Site: [ 0.96182097 -4.55176121 -1.22628733] O\n",
      " Coordination: [{'ce_symbol': 'S:1', 'ce_fraction': 1.0, 'csm': 0.0, 'permutation': [0]}]\n",
      "\n",
      "\n",
      "Site: [ 1.67525728 -5.79828979 -3.38485293] O\n",
      " Coordination: [{'ce_symbol': 'A:2', 'ce_fraction': 0.9612739808779592, 'csm': 1.1910305974793904, 'permutation': [0, 1]}, {'ce_symbol': 'S:1', 'ce_fraction': 0.03859335375474743, 'csm': 0.0, 'permutation': [0]}, {'ce_symbol': 'L:2', 'ce_fraction': 0.00013266536729316508, 'csm': 7.496529632894122, 'permutation': [0, 1]}]\n",
      "\n",
      "\n",
      "Site: [ 1.69502239 -3.3275538  -3.39834193] O\n",
      " Coordination: [{'ce_symbol': 'A:2', 'ce_fraction': 0.470193495140707, 'csm': 1.1262033302595331, 'permutation': [0, 1]}, {'ce_symbol': 'TY:3', 'ce_fraction': 0.45589774266938354, 'csm': 3.2357292077912403, 'permutation': [0, 1, 2]}, {'ce_symbol': 'S:1', 'ce_fraction': 0.0447427189592312, 'csm': 0.0, 'permutation': [0]}, {'ce_symbol': 'TL:3', 'ce_fraction': 0.02914245133672547, 'csm': 5.82977274466793, 'permutation': [0, 1, 2]}, {'ce_symbol': 'L:2', 'ce_fraction': 2.3591893952724025e-05, 'csm': 7.668463517631991, 'permutation': [0, 1]}]\n",
      "\n",
      "\n",
      "Site: [ 3.45703995 -2.73798357 -1.02606825] O\n",
      " Coordination: [{'ce_symbol': 'A:2', 'ce_fraction': 0.4705651964443606, 'csm': 1.1262072413478053, 'permutation': [0, 1]}, {'ce_symbol': 'TY:3', 'ce_fraction': 0.45556685485108744, 'csm': 3.236700924955966, 'permutation': [0, 1, 2]}, {'ce_symbol': 'S:1', 'ce_fraction': 0.04473128725428713, 'csm': 0.0, 'permutation': [0]}, {'ce_symbol': 'TL:3', 'ce_fraction': 0.029113127993632346, 'csm': 5.8307919789670875, 'permutation': [0, 1, 2]}, {'ce_symbol': 'L:2', 'ce_fraction': 2.353345663244607e-05, 'csm': 7.668984055942092, 'permutation': [0, 1]}]\n",
      "\n",
      "\n",
      "Site: [ 3.47670097 -0.26724758 -1.01274914] O\n",
      " Coordination: [{'ce_symbol': 'A:2', 'ce_fraction': 0.9612480782443862, 'csm': 1.1911443202029006, 'permutation': [0, 1]}, {'ce_symbol': 'S:1', 'ce_fraction': 0.03861821800944428, 'csm': 0.0, 'permutation': [0]}, {'ce_symbol': 'L:2', 'ce_fraction': 0.0001337037461694722, 'csm': 7.494734066472841, 'permutation': [0, 1]}]\n",
      "\n",
      "\n",
      "Site: [ 4.19024244 -1.51365485 -3.59891612] O\n",
      " Coordination: [{'ce_symbol': 'S:1', 'ce_fraction': 1.0, 'csm': 0.0, 'permutation': [0]}]\n",
      "\n",
      "\n",
      "Site: [ 4.71588167 -4.54248093 -3.75553856] O\n",
      " Coordination: [{'ce_symbol': 'S:1', 'ce_fraction': 0.7939537302166, 'csm': 0.0, 'permutation': [0]}, {'ce_symbol': 'T:4', 'ce_fraction': 0.20604626978339996, 'csm': 3.7951317819283465, 'permutation': [0, 1, 2, 3]}]\n",
      "\n",
      "\n",
      "Site: [ 5.64115747 -1.52305643 -0.98893858] O\n",
      " Coordination: [{'ce_symbol': 'S:1', 'ce_fraction': 0.7936696816085379, 'csm': 0.0, 'permutation': [0]}, {'ce_symbol': 'T:4', 'ce_fraction': 0.20633031839146213, 'csm': 3.7936358518170477, 'permutation': [0, 1, 2, 3]}]\n",
      "\n",
      "\n",
      "Site: [ 6.16700437 -4.55194317 -1.14551356] O\n",
      " Coordination: [{'ce_symbol': 'S:1', 'ce_fraction': 1.0, 'csm': 0.0, 'permutation': [0]}]\n",
      "\n",
      "\n",
      "Site: [ 6.88012571 -5.79877503 -3.73177541] O\n",
      " Coordination: [{'ce_symbol': 'A:2', 'ce_fraction': 0.9613188901365436, 'csm': 1.190656074721648, 'permutation': [0, 1]}, {'ce_symbol': 'S:1', 'ce_fraction': 0.03854628312827378, 'csm': 0.0, 'permutation': [0]}, {'ce_symbol': 'L:2', 'ce_fraction': 0.00013482673518256795, 'csm': 7.492539492328746, 'permutation': [0, 1]}]\n",
      "\n",
      "\n",
      "Site: [ 6.90041188 -3.32797839 -3.71812416] O\n",
      " Coordination: [{'ce_symbol': 'A:2', 'ce_fraction': 0.47020261615118214, 'csm': 1.1262113496724826, 'permutation': [0, 1]}, {'ce_symbol': 'TY:3', 'ce_fraction': 0.45605243869993084, 'csm': 3.2363610074072784, 'permutation': [0, 1, 2]}, {'ce_symbol': 'S:1', 'ce_fraction': 0.04472508028229677, 'csm': 0.0, 'permutation': [0]}, {'ce_symbol': 'TL:3', 'ce_fraction': 0.028997283499128286, 'csm': 5.834505077829342, 'permutation': [0, 1, 2]}, {'ce_symbol': 'L:2', 'ce_fraction': 2.2581367462007707e-05, 'csm': 7.6753559851080695, 'permutation': [0, 1]}]\n",
      "\n",
      "\n",
      "Site: [ 8.66202047 -2.73755898 -1.3457082 ] O\n",
      " Coordination: [{'ce_symbol': 'A:2', 'ce_fraction': 0.4699893753796078, 'csm': 1.1257959603820986, 'permutation': [0, 1]}, {'ce_symbol': 'TY:3', 'ce_fraction': 0.45631401614850164, 'csm': 3.2352580229702452, 'permutation': [0, 1, 2]}, {'ce_symbol': 'S:1', 'ce_fraction': 0.04464635753246793, 'csm': 0.0, 'permutation': [0]}, {'ce_symbol': 'TL:3', 'ce_fraction': 0.02902760545805696, 'csm': 5.833228353077137, 'permutation': [0, 1, 2]}, {'ce_symbol': 'L:2', 'ce_fraction': 2.2645481365690446e-05, 'csm': 7.674709459340578, 'permutation': [0, 1]}]\n",
      "\n",
      "\n",
      "Site: [ 8.6823061  -0.26682299 -1.35971913] O\n",
      " Coordination: [{'ce_symbol': 'A:2', 'ce_fraction': 0.9611573249001418, 'csm': 1.1915956567202084, 'permutation': [0, 1]}, {'ce_symbol': 'S:1', 'ce_fraction': 0.03870652327179559, 'csm': 0.0, 'permutation': [0]}, {'ce_symbol': 'L:2', 'ce_fraction': 0.0001361518280624998, 'csm': 7.490612528089102, 'permutation': [0, 1]}]\n",
      "\n",
      "\n",
      "Site: [ 9.39542585 -1.51383682 -3.5180949 ] O\n",
      " Coordination: [{'ce_symbol': 'S:1', 'ce_fraction': 1.0, 'csm': 0.0, 'permutation': [0]}]\n",
      "\n",
      "\n",
      "Site: [ 9.92127541 -4.54242028 -3.36099118] O\n",
      " Coordination: [{'ce_symbol': 'S:1', 'ce_fraction': 0.7937706218223005, 'csm': 0.0, 'permutation': [0]}, {'ce_symbol': 'T:4', 'ce_fraction': 0.20622937817769948, 'csm': 3.79416719238759, 'permutation': [0, 1, 2, 3]}]\n",
      "\n",
      "\n"
     ]
    }
   ],
   "source": [
    "from pymatgen.analysis.chemenv.coordination_environments.chemenv_strategies import MultiWeightsChemenvStrategy\n",
    "\n",
    "# Another \"strategy\" is the MultiWeights strategy in which ChemEnv provides a probabilistic assessment\n",
    "# of different coordination envirments\n",
    "strategy = MultiWeightsChemenvStrategy.stats_article_weights_parameters()\n",
    "\n",
    "lse = LightStructureEnvironments.from_structure_environments(\n",
    "    strategy=strategy, structure_environments=se\n",
    ")\n",
    "\n",
    "# print the coordination environments\n",
    "# O:6=octahedral, T:4=tetrahedral, S:1=single neighbor, A:2=angular, TY:3=Triangular non-coplanar\n",
    "# SS:4=see-saw, SY:4=square non-planar\n",
    "# A description of all the coordination environments is in: \n",
    "# https://journals.iucr.org/b/issues/2020/04/00/lo5066/lo5066sup3.pdf\n",
    "for i in range(len(structure.sites)):\n",
    "    print(f\"Site: {structure.sites[i]}\\n Coordination: {lse.coordination_environments[i]}\\n\\n\")"
   ]
  }
 ],
 "metadata": {
  "celltoolbar": "Slideshow",
  "kernelspec": {
   "display_name": "Python 3 (ipykernel)",
   "language": "python",
   "name": "python3"
  },
  "language_info": {
   "codemirror_mode": {
    "name": "ipython",
    "version": 3
   },
   "file_extension": ".py",
   "mimetype": "text/x-python",
   "name": "python",
   "nbconvert_exporter": "python",
   "pygments_lexer": "ipython3",
   "version": "3.11.4"
  }
 },
 "nbformat": 4,
 "nbformat_minor": 5
}
